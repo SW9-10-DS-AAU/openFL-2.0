{
 "cells": [
  {
   "cell_type": "markdown",
   "id": "19fbca22",
   "metadata": {},
   "source": [
    "# OpenFL - Decentralized Federated Learning on Public Blockchain Systems\n",
    "### by Anton Wahrstätter, Sajjad Khan & Davor Svetinovic"
   ]
  },
  {
   "metadata": {},
   "cell_type": "markdown",
   "source": "",
   "id": "2a2c1f819adbec3a"
  },
  {
   "cell_type": "markdown",
   "id": "39aa9848",
   "metadata": {},
   "source": [
    "## CIFAR-10 DATASET GANACHE SIMULATION"
   ]
  },
  {
   "cell_type": "markdown",
   "id": "28e3f0cc",
   "metadata": {},
   "source": [
    "### Contents\n",
    "* [Experiment](#Deploy-Challenger-Contract-and-Start-Experiment)\n",
    "* [Visualization](#Visualize-Experiment)\n",
    "* [Individual Transactions](#Transactions)\n",
    "* [Contracts and Participants](#Contracts-and-Paricipants-(Latex-format))\n",
    "* [Gas Costs](#Table-with-Gas-Info-(Latex-format))"
   ]
  },
  {
   "cell_type": "markdown",
   "id": "8f2def92",
   "metadata": {},
   "source": [
    "### Imports\n",
    "The imports consist of the following:\n",
    "* PytorchModel - which is the wrapper for the Convolutional Network\n",
    "* FLManager - the wrapper for the Manager contract\n",
    "* FLChallenge - the wrapper for the Challenge contract"
   ]
  },
  {
   "cell_type": "code",
   "id": "bf64eb56",
   "metadata": {
    "ExecuteTime": {
     "end_time": "2025-10-24T10:56:59.916747Z",
     "start_time": "2025-10-24T10:56:54.832437Z"
    }
   },
   "source": [
    "from pytorch_model import PytorchModel\n",
    "from smartcontracts import FLManager, FLChallenge"
   ],
   "outputs": [],
   "execution_count": 1
  },
  {
   "cell_type": "markdown",
   "id": "7a804275",
   "metadata": {},
   "source": [
    "### Select data set"
   ]
  },
  {
   "cell_type": "code",
   "id": "2f077a2c",
   "metadata": {
    "ExecuteTime": {
     "end_time": "2025-10-24T10:56:59.979636Z",
     "start_time": "2025-10-24T10:56:59.960041Z"
    }
   },
   "source": [
    "DATASET = \"cifar-10\"\n",
    "#DATASET = \"mnist\""
   ],
   "outputs": [],
   "execution_count": 2
  },
  {
   "cell_type": "markdown",
   "id": "4b9f3ca4",
   "metadata": {},
   "source": [
    "### RPC Provider"
   ]
  },
  {
   "cell_type": "markdown",
   "id": "d9ab955e",
   "metadata": {},
   "source": [
    "The RPC provides the connection to the respective blockchain, for example Ethereum or the Robsten testnet."
   ]
  },
  {
   "cell_type": "code",
   "id": "8671c69b",
   "metadata": {
    "ExecuteTime": {
     "end_time": "2025-10-24T10:57:00.011724Z",
     "start_time": "2025-10-24T10:56:59.989647Z"
    }
   },
   "source": [
    "with open(\"rpc_endpoint.txt\", \"r\") as file:\n",
    "    RPC_ENDPOINT = file.read()"
   ],
   "outputs": [],
   "execution_count": 3
  },
  {
   "cell_type": "markdown",
   "id": "dae39685",
   "metadata": {},
   "source": [
    "### Configurations"
   ]
  },
  {
   "cell_type": "code",
   "id": "7593306b",
   "metadata": {
    "ExecuteTime": {
     "end_time": "2025-10-24T10:57:00.042614Z",
     "start_time": "2025-10-24T10:57:00.024458Z"
    }
   },
   "source": [
    "NUMBER_OF_GOOD_CONTRIBUTORS = 6\n",
    "NUMBER_OF_BAD_CONTRIBUTORS = 1\n",
    "NUMBER_OF_FREERIDER_CONTRIBUTORS = 1\n",
    "NUMBER_OF_INACTIVE_CONTRIBUTORS = 0\n",
    "\n",
    "REWARD = int(1e18)\n",
    "MINIMUM_ROUNDS = 25\n",
    "MIN_BUY_IN = int(1e18)\n",
    "MAX_BUY_IN = int(1.8e18)\n",
    "STANDARD_BUY_IN = int(1e18)\n",
    "EPOCHES = 25\n",
    "BATCH_SIZE = 128\n",
    "PUNISHFACTOR = 3\n",
    "FIRST_ROUND_FEE = 50 # 20% OF MIN DEPOSIT\n",
    "\n",
    "FORK = False # Fork Chain or communicate directly with RPC\n",
    "\n",
    "NUMBER_OF_CONTRIBUTERS = NUMBER_OF_GOOD_CONTRIBUTORS      + \\\n",
    "                         NUMBER_OF_BAD_CONTRIBUTORS       + \\\n",
    "                         NUMBER_OF_FREERIDER_CONTRIBUTORS + \\\n",
    "                         NUMBER_OF_INACTIVE_CONTRIBUTORS"
   ],
   "outputs": [],
   "execution_count": 4
  },
  {
   "cell_type": "code",
   "id": "e2cc8747",
   "metadata": {
    "ExecuteTime": {
     "end_time": "2025-10-24T10:57:00.154169Z",
     "start_time": "2025-10-24T10:57:00.052635Z"
    }
   },
   "source": [
    "# Only for the real-net simulation\n",
    "# In order to use a non-locally forked blockchain, \n",
    "# private keys are required to unlock accounts\n",
    "if FORK == False:\n",
    "    from web3 import Web3\n",
    "    w3 = Web3(Web3.HTTPProvider(RPC_ENDPOINT))\n",
    "    PRIVKEYS = []\n",
    "    with open(\"private_keys.txt\", \"r\") as file:\n",
    "        for f in file:\n",
    "            PRIVKEYS.append(f.split(\":\")[0])\n",
    "\n",
    "    PRIVKEYS = [w3.eth.account.privateKeyToAccount(i) for i in PRIVKEYS]\n",
    "else:\n",
    "    PRIVKEYS = None"
   ],
   "outputs": [],
   "execution_count": 5
  },
  {
   "cell_type": "markdown",
   "id": "e878d441",
   "metadata": {},
   "source": [
    "### Initialized Deep Learning Model and add Participants"
   ]
  },
  {
   "cell_type": "code",
   "id": "86f3ac59",
   "metadata": {
    "scrolled": false,
    "ExecuteTime": {
     "end_time": "2025-10-24T10:57:05.493636Z",
     "start_time": "2025-10-24T10:57:00.169694Z"
    }
   },
   "source": [
    "pytorch_model = PytorchModel(DATASET,\n",
    "                             NUMBER_OF_GOOD_CONTRIBUTORS, \n",
    "                             NUMBER_OF_CONTRIBUTERS, \n",
    "                             EPOCHES, \n",
    "                             BATCH_SIZE, \n",
    "                             STANDARD_BUY_IN,\n",
    "                             MAX_BUY_IN)\n",
    "\n",
    "for i in range(NUMBER_OF_BAD_CONTRIBUTORS):\n",
    "    pytorch_model.add_participant(\"bad\",3)\n",
    "\n",
    "for i in range(NUMBER_OF_FREERIDER_CONTRIBUTORS):\n",
    "    pytorch_model.add_participant(\"freerider\",1)\n",
    "    \n",
    "for i in range(NUMBER_OF_INACTIVE_CONTRIBUTORS):\n",
    "    pytorch_model.add_participant(\"inactive\",1)"
   ],
   "outputs": [
    {
     "name": "stdout",
     "output_type": "stream",
     "text": [
      "Files already downloaded and verified\n",
      "Files already downloaded and verified\n",
      "Data Loaded:\n",
      "Nr. of images for training: 50,000\n",
      "Nr. of images for testing:  10,000\n",
      "\n",
      "===================================================================================\n",
      "Pytorch Model created:\n",
      "\n",
      "Net_CIFAR(\n",
      "  (conv1): Conv2d(3, 6, kernel_size=(5, 5), stride=(1, 1))\n",
      "  (pool): MaxPool2d(kernel_size=2, stride=2, padding=0, dilation=1, ceil_mode=False)\n",
      "  (conv2): Conv2d(6, 16, kernel_size=(5, 5), stride=(1, 1))\n",
      "  (fc1): Linear(in_features=400, out_features=120, bias=True)\n",
      "  (fc2): Linear(in_features=120, out_features=84, bias=True)\n",
      "  (fc3): Linear(in_features=84, out_features=10, bias=True)\n",
      ")\n",
      "\n",
      "===================================================================================\n",
      "Participant added: \u001B[1m\u001B[32mGood\u001B[0m \u001B[1m\u001B[32mUser\u001B[0m\n",
      "Participant added: \u001B[1m\u001B[32mGood\u001B[0m \u001B[1m\u001B[32mUser\u001B[0m\n",
      "Participant added: \u001B[1m\u001B[32mGood\u001B[0m \u001B[1m\u001B[32mUser\u001B[0m\n",
      "Participant added: \u001B[1m\u001B[32mGood\u001B[0m \u001B[1m\u001B[32mUser\u001B[0m\n",
      "Participant added: \u001B[1m\u001B[32mGood\u001B[0m \u001B[1m\u001B[32mUser\u001B[0m\n",
      "Participant added: \u001B[1m\u001B[32mGood\u001B[0m \u001B[1m\u001B[32mUser\u001B[0m\n",
      "Participant added: \u001B[1m\u001B[31mBad\u001B[0m \u001B[1m\u001B[31mUser\u001B[0m\n",
      "Participant added: \u001B[1m\u001B[31mFreerider\u001B[0m \u001B[1m\u001B[31mUser\u001B[0m\n"
     ]
    }
   ],
   "execution_count": 6
  },
  {
   "cell_type": "markdown",
   "id": "58663741",
   "metadata": {},
   "source": [
    "### Initialize and Deploy Manager Contract"
   ]
  },
  {
   "cell_type": "code",
   "id": "3a4d0bac",
   "metadata": {
    "ExecuteTime": {
     "end_time": "2025-10-24T10:57:07.214909Z",
     "start_time": "2025-10-24T10:57:05.792052Z"
    }
   },
   "source": [
    "manager = FLManager(pytorch_model, True).init(NUMBER_OF_GOOD_CONTRIBUTORS, \n",
    "                                              NUMBER_OF_BAD_CONTRIBUTORS,\n",
    "                                              NUMBER_OF_FREERIDER_CONTRIBUTORS,\n",
    "                                              NUMBER_OF_INACTIVE_CONTRIBUTORS,\n",
    "                                              MINIMUM_ROUNDS,\n",
    "                                              RPC_ENDPOINT,\n",
    "                                              fork=FORK,\n",
    "                                              accounts=PRIVKEYS)\n",
    "manager.buildContract()"
   ],
   "outputs": [
    {
     "name": "stdout",
     "output_type": "stream",
     "text": [
      "Connected to Ethereum: \u001B[1m\u001B[32mTrue\u001B[0m\n",
      "initiated Ganache-Client @ Block Nr. 0\n",
      "\n",
      "Total Contributers:       8\n",
      "Good Contributers:        6 (75%)\n",
      "Malicious Contributers:   1 (12%)\n",
      "Freeriding Contributers:  1 (12%)\n",
      "Inactive Contributers:    0 (0%)\n",
      "Learning Rounds:          25\n",
      "-----------------------------------------------------------------------------------\n",
      "Account initiated @ Address 0x09Ca61C7cb86d8DE76E3E63... with 100,000,000.0 ETH | FAIR USER\n",
      "Account initiated @ Address 0xe7F50AB14f0fb1E140bbb7f... with 100,000,000.0 ETH | FAIR USER\n",
      "Account initiated @ Address 0xCe57EAfD18afA405A26BCFa... with 100,000,000.0 ETH | FAIR USER\n",
      "Account initiated @ Address 0xC0148dFB7E61c11e8422588... with 100,000,000.0 ETH | FAIR USER\n",
      "Account initiated @ Address 0xa46d9Edaac1d2153168Cdf7... with 100,000,000.0 ETH | FAIR USER\n",
      "Account initiated @ Address 0xE6d028402A486980cf97375... with 100,000,000.0 ETH | FAIR USER\n",
      "Account initiated @ Address 0x0be222949e94CdFa24e655A... with 100,000,000.0 ETH | MAL. USER\n",
      "Account initiated @ Address 0xE7470ce9261C9fBAE775874... with 100,000,000.0 ETH | FREE USER\n",
      "-----------------------------------------------------------------------------------\n",
      "\n",
      "Manager deployed  @ Address 0xd91aB9bc1241D2FFCd426AA06f459b8312359844 | 0xd8ec...\n",
      "\n",
      "-----------------------------------------------------------------------------------\n"
     ]
    }
   ],
   "execution_count": 7
  },
  {
   "cell_type": "markdown",
   "id": "5c35c7ce",
   "metadata": {},
   "source": [
    "### Deploy Challenger Contract and Start Experiment"
   ]
  },
  {
   "cell_type": "code",
   "id": "3d3e5f91",
   "metadata": {
    "scrolled": false,
    "ExecuteTime": {
     "start_time": "2025-10-24T10:57:07.478942Z"
    }
   },
   "source": [
    "configs = manager.deployChallengeContract(MIN_BUY_IN,\n",
    "                                          MAX_BUY_IN,\n",
    "                                          REWARD, \n",
    "                                          MINIMUM_ROUNDS,\n",
    "                                          PUNISHFACTOR,\n",
    "                                          FIRST_ROUND_FEE)\n",
    "\n",
    "model = FLChallenge(manager, \n",
    "                    configs,\n",
    "                    pytorch_model)\n",
    "\n",
    "\n",
    "model.simulate(rounds=MINIMUM_ROUNDS)"
   ],
   "outputs": [
    {
     "name": "stdout",
     "output_type": "stream",
     "text": [
      "\u001B[1mStarting simulation...\u001B[0m\n",
      "\u001B[1m-----------------------------------------------------------------------------------\u001B[0m\n",
      "\n",
      "Model deployed    @ Address 0xAb463Ba18fe9c89D35b886B5d817D16ff4d3F698 | 0x2530...\n",
      "\n",
      "-----------------------------------------------------------------------------------\n",
      "Account registered: 0x09Ca61C7cb86d8... | 0x2530... | 1,030,062,952,449,155,072 WEI\n",
      "Account registered: 0xe7F50AB14f0fb1... | 0x4299... | 1,626,967,045,622,555,136 WEI\n",
      "Account registered: 0xCe57EAfD18afA4... | 0x0d7f... | 1,242,324,492,475,130,368 WEI\n",
      "Account registered: 0xC0148dFB7E61c1... | 0xc5f9... | 1,548,517,690,585,905,920 WEI\n",
      "Account registered: 0xa46d9Edaac1d21... | 0x9b46... | 1,380,338,129,132,500,736 WEI\n",
      "Account registered: 0xE6d028402A4869... | 0x9566... | 1,035,231,632,641,769,088 WEI\n",
      "Account registered: 0x0be222949e94Cd... | 0xa646... | 1,637,754,984,685,245,440 WEI\n",
      "Account registered: 0xE7470ce9261C9f... | 0x357c... | 1,032,228,268,306,087,424 WEI\n",
      "-----------------------------------------------------------------------------------\n",
      "\u001B[1mRound 1 starts...\u001B[0m\n",
      "\u001B[1m\u001B[31mAddress 0xE7470ce9261C9f... going to switch attitude to freerider\u001B[0m\n",
      "\u001B[1m\n",
      "=========================== FEDERATED LEARNING START ==============================\u001B[0m\n",
      "Account training:   0x09Ca61C7cb86d8... | Epoche  1 | Accuracy  28 % | Loss   9.41\n",
      "\u001B[32mAccount testing:    0x09Ca61C7cb86d8... | Epoche  1 | Accuracy  31 % | Loss 148.44\u001B[0m\n",
      "-----------------------------------------------------------------------------------\n",
      "Account training:   0xe7F50AB14f0fb1... | Epoche  1 | Accuracy  32 % | Loss   9.74\n",
      "\u001B[32mAccount testing:    0xe7F50AB14f0fb1... | Epoche  1 | Accuracy  33 % | Loss 147.46\u001B[0m\n",
      "-----------------------------------------------------------------------------------\n",
      "Account training:   0xCe57EAfD18afA4... | Epoche  1 | Accuracy  32 % | Loss   9.64\n",
      "\u001B[32mAccount testing:    0xCe57EAfD18afA4... | Epoche  1 | Accuracy  32 % | Loss 149.65\u001B[0m\n",
      "-----------------------------------------------------------------------------------\n",
      "Account training:   0xC0148dFB7E61c1... | Epoche  1 | Accuracy  26 % | Loss   9.84\n",
      "\u001B[32mAccount testing:    0xC0148dFB7E61c1... | Epoche  1 | Accuracy  31 % | Loss 152.71\u001B[0m\n",
      "-----------------------------------------------------------------------------------\n",
      "Account training:   0xa46d9Edaac1d21... | Epoche  1 | Accuracy  30 % | Loss   9.85\n",
      "\u001B[32mAccount testing:    0xa46d9Edaac1d21... | Epoche  1 | Accuracy  30 % | Loss 152.60\u001B[0m\n",
      "-----------------------------------------------------------------------------------\n"
     ]
    }
   ],
   "execution_count": null
  },
  {
   "cell_type": "markdown",
   "id": "e4fed280",
   "metadata": {},
   "source": [
    "### Visualize Experiment "
   ]
  },
  {
   "cell_type": "code",
   "id": "bcc409e1",
   "metadata": {
    "scrolled": true
   },
   "source": [
    "model.visualize_simulation()"
   ],
   "outputs": [],
   "execution_count": null
  },
  {
   "cell_type": "markdown",
   "id": "3a4557d7",
   "metadata": {},
   "source": [
    "### Transactions"
   ]
  },
  {
   "cell_type": "code",
   "id": "aa348bb3",
   "metadata": {
    "scrolled": true
   },
   "source": [
    "print(\"{:<10} - {:^64} -    Gas Used - {}\".format(\"Function\", \"Transaction Hash\", \"Success\"))\n",
    "print(\"------------------------------------------------------------------------------------------\")\n",
    "for f, txhash in model.txHashes:\n",
    "    r = model.w3.eth.waitForTransactionReceipt(txhash)\n",
    "    if r[\"status\"] == 1:\n",
    "        success = \"✅\"\n",
    "    else:\n",
    "        success = \"FAIL\"\n",
    "    \n",
    "    gas = r[\"gasUsed\"]\n",
    "    print(\"{:<10} - {} - {:>9,.0f} -   {}\".format(f, txhash, gas, success))"
   ],
   "outputs": [],
   "execution_count": null
  },
  {
   "cell_type": "markdown",
   "id": "0eb9e9a8",
   "metadata": {},
   "source": [
    "### Contracts and Paricipants (Latex format)"
   ]
  },
  {
   "cell_type": "code",
   "id": "2cb3eaf4",
   "metadata": {},
   "source": [
    "print(\"\\\\renewcommand{\\\\arraystretch}{1.3}\")\n",
    "print(\"\\\\begin{center}\")\n",
    "print(\"\\\\begin{tabular}{ c|c }\")\n",
    "\n",
    "print(\"Contract & Address (Ropsten Testnet) \\\\\\ \")\n",
    "print(\"\\\\hline\")\n",
    "print(\"Ma-1 & {} \\\\\\ \".format(manager.manager.address))\n",
    "print(\"Ch-1 & {} \\\\\\ \".format(model.model.address))\n",
    "for i, p in enumerate(model.pytorch_model.participants[:-1] + \\\n",
    "                           model.pytorch_model.disqualified + \\\n",
    "                           [model.pytorch_model.participants[-1]]):\n",
    "    print(\"P-{}  & {} \\\\\\ \".format(i+1, p.address))\n",
    "\n",
    "print(\"\\\\end{tabular}\")\n",
    "print(\"\\\\end{center}\")"
   ],
   "outputs": [],
   "execution_count": null
  },
  {
   "cell_type": "markdown",
   "id": "faceea01",
   "metadata": {},
   "source": [
    "### Table with Gas Info (Latex format)"
   ]
  },
  {
   "cell_type": "code",
   "id": "e1508778",
   "metadata": {
    "scrolled": true
   },
   "source": [
    "reg = model.gas_register, \"register\"\n",
    "fed = model.gas_feedback, \"feedback\"\n",
    "clo = model.gas_close, \"settle round\"\n",
    "slo = model.gas_slot, \"reserve slot\"\n",
    "wei = model.gas_weights, \"provide weights**\"\n",
    "dep = manager.gas_deploy, \"deployment\"\n",
    "dep = manager.gas_deploy, \"deployment\"\n",
    "ext = model.gas_exit, \"exit\"\n",
    "\n",
    "tot  = 0\n",
    "tot2 = 0\n",
    "\n",
    "print(\"\\\\begin{tabular}{ |c|c|c| }\\n\\hline\\nFunction & Gas Amount & Gas Costs*\\\\\\ \\n\\hline\")\n",
    "for i, f in [reg,slo,wei,fed,clo]:\n",
    "    print(\"{} & {:,.0f} & {:.5f} ETH \\\\\\ \".format(f, sum(i)/len(i), sum(i)/len(i) * 20e9 / 1e18 ))\n",
    "    tot += sum(i)/len(i)\n",
    "    if i != clo[0]:\n",
    "            tot2 += sum(i)/len(i)\n",
    "        \n",
    "print(\"\\hline\\n\\hline\")\n",
    "print(\"complete round & {:,.0f} & {:.5f} \\\\\\ \".format(tot, tot * 20e9 / 1e18))\n",
    "print(\"\\hline\\n\\end{tabular}\")"
   ],
   "outputs": [],
   "execution_count": null
  }
 ],
 "metadata": {
  "kernelspec": {
   "display_name": "Python 3",
   "language": "python",
   "name": "python3"
  },
  "language_info": {
   "codemirror_mode": {
    "name": "ipython",
    "version": 3
   },
   "file_extension": ".py",
   "mimetype": "text/x-python",
   "name": "python",
   "nbconvert_exporter": "python",
   "pygments_lexer": "ipython3",
   "version": "3.12.4"
  }
 },
 "nbformat": 4,
 "nbformat_minor": 5
}
