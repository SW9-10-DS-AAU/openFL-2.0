{
 "cells": [
  {
   "cell_type": "markdown",
   "id": "19fbca22",
   "metadata": {},
   "source": [
    "# OpenFL - Decentralized Federated Learning on Public Blockchain Systems\n",
    "### by Anton Wahrstätter, Sajjad Khan & Davor Svetinovic"
   ]
  },
  {
   "metadata": {},
   "cell_type": "markdown",
   "source": "",
   "id": "2a2c1f819adbec3a"
  },
  {
   "cell_type": "markdown",
   "id": "39aa9848",
   "metadata": {},
   "source": [
    "## CIFAR-10 DATASET GANACHE SIMULATION"
   ]
  },
  {
   "cell_type": "markdown",
   "id": "28e3f0cc",
   "metadata": {},
   "source": [
    "### Contents\n",
    "* [Experiment](#Deploy-Challenger-Contract-and-Start-Experiment)\n",
    "* [Visualization](#Visualize-Experiment)\n",
    "* [Individual Transactions](#Transactions)\n",
    "* [Contracts and Participants](#Contracts-and-Paricipants-(Latex-format))\n",
    "* [Gas Costs](#Table-with-Gas-Info-(Latex-format))"
   ]
  },
  {
   "cell_type": "markdown",
   "id": "8f2def92",
   "metadata": {},
   "source": [
    "### Imports\n",
    "The imports consist of the following:\n",
    "* PytorchModel - which is the wrapper for the Convolutional Network\n",
    "* FLManager - the wrapper for the Manager contract\n",
    "* FLChallenge - the wrapper for the Challenge contract"
   ]
  },
  {
   "cell_type": "code",
   "id": "bf64eb56",
   "metadata": {
    "jupyter": {
     "is_executing": true
    }
   },
   "source": [
    "from pytorch_model import PytorchModel\n",
    "from smartcontracts import FLManager, FLChallenge"
   ],
   "outputs": [],
   "execution_count": null
  },
  {
   "cell_type": "markdown",
   "id": "7a804275",
   "metadata": {},
   "source": [
    "### Select data set"
   ]
  },
  {
   "cell_type": "code",
   "id": "2f077a2c",
   "metadata": {
    "jupyter": {
     "is_executing": true
    }
   },
   "source": [
    "DATASET = \"cifar-10\"\n",
    "#DATASET = \"mnist\""
   ],
   "outputs": [],
   "execution_count": null
  },
  {
   "cell_type": "markdown",
   "id": "4b9f3ca4",
   "metadata": {},
   "source": [
    "### RPC Provider"
   ]
  },
  {
   "cell_type": "markdown",
   "id": "d9ab955e",
   "metadata": {},
   "source": [
    "The RPC provides the connection to the respective blockchain, for example Ethereum or the Robsten testnet."
   ]
  },
  {
   "cell_type": "code",
   "id": "8671c69b",
   "metadata": {
    "jupyter": {
     "is_executing": true
    }
   },
   "source": [
    "with open(\"rpc_endpoint.txt\", \"r\") as file:\n",
    "    RPC_ENDPOINT = file.read()"
   ],
   "outputs": [],
   "execution_count": null
  },
  {
   "cell_type": "markdown",
   "id": "dae39685",
   "metadata": {},
   "source": [
    "### Configurations"
   ]
  },
  {
   "cell_type": "code",
   "id": "7593306b",
   "metadata": {
    "jupyter": {
     "is_executing": true
    }
   },
   "source": [
    "NUMBER_OF_GOOD_CONTRIBUTORS = 6\n",
    "NUMBER_OF_BAD_CONTRIBUTORS = 1\n",
    "NUMBER_OF_FREERIDER_CONTRIBUTORS = 1\n",
    "NUMBER_OF_INACTIVE_CONTRIBUTORS = 0\n",
    "\n",
    "REWARD = int(1e18)\n",
    "MINIMUM_ROUNDS = 25\n",
    "MIN_BUY_IN = int(1e18)\n",
    "MAX_BUY_IN = int(1.8e18)\n",
    "STANDARD_BUY_IN = int(1e18)\n",
    "EPOCHES = 25\n",
    "BATCH_SIZE = 128\n",
    "PUNISHFACTOR = 3\n",
    "FIRST_ROUND_FEE = 50 # 20% OF MIN DEPOSIT\n",
    "\n",
    "FORK = True # Fork Chain or communicate directly with RPC\n",
    "\n",
    "NUMBER_OF_CONTRIBUTERS = NUMBER_OF_GOOD_CONTRIBUTORS      + \\\n",
    "                         NUMBER_OF_BAD_CONTRIBUTORS       + \\\n",
    "                         NUMBER_OF_FREERIDER_CONTRIBUTORS + \\\n",
    "                         NUMBER_OF_INACTIVE_CONTRIBUTORS"
   ],
   "outputs": [],
   "execution_count": null
  },
  {
   "cell_type": "code",
   "id": "e2cc8747",
   "metadata": {
    "jupyter": {
     "is_executing": true
    }
   },
   "source": [
    "# Only for the real-net simulation\n",
    "# In order to use a non-locally forked blockchain, \n",
    "# private keys are required to unlock accounts\n",
    "if FORK == False:\n",
    "    from web3 import Web3\n",
    "    w3 = Web3(Web3.HTTPProvider(RPC_ENDPOINT))\n",
    "    PRIVKEYS = []\n",
    "    with open(\"private_keys.txt\", \"r\") as file:\n",
    "        for f in file:\n",
    "            PRIVKEYS.append(f.split(\":\")[0])\n",
    "\n",
    "    PRIVKEYS = [w3.eth.account.privateKeyToAccount(i) for i in PRIVKEYS]\n",
    "else:\n",
    "    PRIVKEYS = None"
   ],
   "outputs": [],
   "execution_count": null
  },
  {
   "cell_type": "markdown",
   "id": "e878d441",
   "metadata": {},
   "source": [
    "### Initialized Deep Learning Model and add Participants"
   ]
  },
  {
   "cell_type": "code",
   "id": "86f3ac59",
   "metadata": {
    "scrolled": false,
    "jupyter": {
     "is_executing": true
    }
   },
   "source": [
    "pytorch_model = PytorchModel(DATASET, \n",
    "                             NUMBER_OF_GOOD_CONTRIBUTORS, \n",
    "                             NUMBER_OF_CONTRIBUTERS, \n",
    "                             EPOCHES, \n",
    "                             BATCH_SIZE, \n",
    "                             STANDARD_BUY_IN,\n",
    "                             MAX_BUY_IN)\n",
    "\n",
    "for i in range(NUMBER_OF_BAD_CONTRIBUTORS):\n",
    "    pytorch_model.add_participant(\"bad\",3)\n",
    "\n",
    "for i in range(NUMBER_OF_FREERIDER_CONTRIBUTORS):\n",
    "    pytorch_model.add_participant(\"freerider\",1)\n",
    "    \n",
    "for i in range(NUMBER_OF_INACTIVE_CONTRIBUTORS):\n",
    "    pytorch_model.add_participant(\"inactive\",1)"
   ],
   "outputs": [],
   "execution_count": null
  },
  {
   "cell_type": "markdown",
   "id": "58663741",
   "metadata": {},
   "source": [
    "### Initialize and Deploy Manager Contract"
   ]
  },
  {
   "cell_type": "code",
   "id": "3a4d0bac",
   "metadata": {
    "jupyter": {
     "is_executing": true
    }
   },
   "source": [
    "manager = FLManager(pytorch_model, True).init(NUMBER_OF_GOOD_CONTRIBUTORS, \n",
    "                                              NUMBER_OF_BAD_CONTRIBUTORS,\n",
    "                                              NUMBER_OF_FREERIDER_CONTRIBUTORS,\n",
    "                                              NUMBER_OF_INACTIVE_CONTRIBUTORS,\n",
    "                                              MINIMUM_ROUNDS,\n",
    "                                              RPC_ENDPOINT,\n",
    "                                              FORK,\n",
    "                                              PRIVKEYS)\n",
    "manager.buildContract()"
   ],
   "outputs": [],
   "execution_count": null
  },
  {
   "cell_type": "markdown",
   "id": "5c35c7ce",
   "metadata": {},
   "source": [
    "### Deploy Challenger Contract and Start Experiment"
   ]
  },
  {
   "cell_type": "code",
   "id": "3d3e5f91",
   "metadata": {
    "scrolled": false,
    "jupyter": {
     "is_executing": true
    }
   },
   "source": [
    "configs = manager.deployChallengeContract(MIN_BUY_IN,\n",
    "                                          MAX_BUY_IN,\n",
    "                                          REWARD, \n",
    "                                          MINIMUM_ROUNDS,\n",
    "                                          PUNISHFACTOR,\n",
    "                                          FIRST_ROUND_FEE)\n",
    "\n",
    "model = FLChallenge(manager, \n",
    "                    configs,\n",
    "                    pytorch_model)\n",
    "\n",
    "\n",
    "model.simulate(rounds=MINIMUM_ROUNDS)"
   ],
   "outputs": [],
   "execution_count": null
  },
  {
   "cell_type": "markdown",
   "id": "e4fed280",
   "metadata": {},
   "source": [
    "### Visualize Experiment "
   ]
  },
  {
   "cell_type": "code",
   "id": "bcc409e1",
   "metadata": {
    "scrolled": true,
    "jupyter": {
     "is_executing": true
    }
   },
   "source": [
    "model.visualize_simulation()"
   ],
   "outputs": [],
   "execution_count": null
  },
  {
   "cell_type": "markdown",
   "id": "3a4557d7",
   "metadata": {},
   "source": [
    "### Transactions"
   ]
  },
  {
   "cell_type": "code",
   "id": "aa348bb3",
   "metadata": {
    "scrolled": true,
    "jupyter": {
     "is_executing": true
    }
   },
   "source": [
    "print(\"{:<10} - {:^64} -    Gas Used - {}\".format(\"Function\", \"Transaction Hash\", \"Success\"))\n",
    "print(\"------------------------------------------------------------------------------------------\")\n",
    "for f, txhash in model.txHashes:\n",
    "    r = model.w3.eth.waitForTransactionReceipt(txhash)\n",
    "    if r[\"status\"] == 1:\n",
    "        success = \"✅\"\n",
    "    else:\n",
    "        success = \"FAIL\"\n",
    "    \n",
    "    gas = r[\"gasUsed\"]\n",
    "    print(\"{:<10} - {} - {:>9,.0f} -   {}\".format(f, txhash, gas, success))"
   ],
   "outputs": [],
   "execution_count": null
  },
  {
   "cell_type": "markdown",
   "id": "0eb9e9a8",
   "metadata": {},
   "source": [
    "### Contracts and Paricipants (Latex format)"
   ]
  },
  {
   "cell_type": "code",
   "id": "2cb3eaf4",
   "metadata": {
    "jupyter": {
     "is_executing": true
    }
   },
   "source": [
    "print(\"\\\\renewcommand{\\\\arraystretch}{1.3}\")\n",
    "print(\"\\\\begin{center}\")\n",
    "print(\"\\\\begin{tabular}{ c|c }\")\n",
    "\n",
    "print(\"Contract & Address (Ropsten Testnet) \\\\\\ \")\n",
    "print(\"\\\\hline\")\n",
    "print(\"Ma-1 & {} \\\\\\ \".format(manager.manager.address))\n",
    "print(\"Ch-1 & {} \\\\\\ \".format(model.model.address))\n",
    "for i, p in enumerate(model.pytorch_model.participants[:-1] + \\\n",
    "                           model.pytorch_model.disqualified + \\\n",
    "                           [model.pytorch_model.participants[-1]]):\n",
    "    print(\"P-{}  & {} \\\\\\ \".format(i+1, p.address))\n",
    "\n",
    "print(\"\\\\end{tabular}\")\n",
    "print(\"\\\\end{center}\")"
   ],
   "outputs": [],
   "execution_count": null
  },
  {
   "cell_type": "markdown",
   "id": "faceea01",
   "metadata": {},
   "source": [
    "### Table with Gas Info (Latex format)"
   ]
  },
  {
   "cell_type": "code",
   "id": "e1508778",
   "metadata": {
    "scrolled": true,
    "jupyter": {
     "is_executing": true
    }
   },
   "source": [
    "reg = model.gas_register, \"register\"\n",
    "fed = model.gas_feedback, \"feedback\"\n",
    "clo = model.gas_close, \"settle round\"\n",
    "slo = model.gas_slot, \"reserve slot\"\n",
    "wei = model.gas_weights, \"provide weights**\"\n",
    "dep = manager.gas_deploy, \"deployment\"\n",
    "dep = manager.gas_deploy, \"deployment\"\n",
    "ext = model.gas_exit, \"exit\"\n",
    "\n",
    "tot  = 0\n",
    "tot2 = 0\n",
    "\n",
    "print(\"\\\\begin{tabular}{ |c|c|c| }\\n\\hline\\nFunction & Gas Amount & Gas Costs*\\\\\\ \\n\\hline\")\n",
    "for i, f in [reg,slo,wei,fed,clo]:\n",
    "    print(\"{} & {:,.0f} & {:.5f} ETH \\\\\\ \".format(f, sum(i)/len(i), sum(i)/len(i) * 20e9 / 1e18 ))\n",
    "    tot += sum(i)/len(i)\n",
    "    if i != clo[0]:\n",
    "            tot2 += sum(i)/len(i)\n",
    "        \n",
    "print(\"\\hline\\n\\hline\")\n",
    "print(\"complete round & {:,.0f} & {:.5f} \\\\\\ \".format(tot, tot * 20e9 / 1e18))\n",
    "print(\"\\hline\\n\\end{tabular}\")"
   ],
   "outputs": [],
   "execution_count": null
  }
 ],
 "metadata": {
  "kernelspec": {
   "display_name": "Python 3",
   "language": "python",
   "name": "python3"
  },
  "language_info": {
   "codemirror_mode": {
    "name": "ipython",
    "version": 3
   },
   "file_extension": ".py",
   "mimetype": "text/x-python",
   "name": "python",
   "nbconvert_exporter": "python",
   "pygments_lexer": "ipython3",
   "version": "3.12.4"
  }
 },
 "nbformat": 4,
 "nbformat_minor": 5
}
