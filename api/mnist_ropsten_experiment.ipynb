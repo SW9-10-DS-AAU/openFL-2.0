{
 "cells": [
  {
   "cell_type": "markdown",
   "id": "19fbca22",
   "metadata": {},
   "source": [
    "# OpenFL - Decentralized Federated Learning on Public Blockchain Systems\n",
    "### by Anton Wahrstätter, Sajjad Khan & Davor Svetinovic"
   ]
  },
  {
   "cell_type": "markdown",
   "id": "f54f907f",
   "metadata": {},
   "source": [
    "## MNIST Dataset simulation\n"
   ]
  },
  {
   "cell_type": "markdown",
   "id": "519ef30a",
   "metadata": {},
   "source": [
    "### Contents\n",
    "* [Experiment](#Deploy-Challenger-Contract-and-Start-Experiment)\n",
    "* [Visualization](#Visualize-Experiment)\n",
    "* [Individual Transactions](#Transactions)\n",
    "* [Contracts and Participants](#Contracts-and-Paricipants-(Latex-format))\n",
    "* [Gas Costs](#Table-with-Gas-Info-(Latex-format))"
   ]
  },
  {
   "cell_type": "markdown",
   "id": "8f2def92",
   "metadata": {},
   "source": [
    "### Imports\n",
    "The imports consist of the following:\n",
    "* PytorchModel - which is the wrapper for the Convolutional Network\n",
    "* FLManager - the wrapper for the Manager contract\n",
    "* FLChallenge - the wrapper for the Challenge contract"
   ]
  },
  {
   "cell_type": "code",
   "id": "bf64eb56",
   "metadata": {
    "ExecuteTime": {
     "end_time": "2025-10-24T13:19:56.479833Z",
     "start_time": "2025-10-24T13:19:53.021987Z"
    }
   },
   "source": [
    "from pytorch_model import PytorchModel\n",
    "from smartcontracts import FLManager, FLChallenge"
   ],
   "outputs": [],
   "execution_count": 1
  },
  {
   "cell_type": "markdown",
   "id": "7a804275",
   "metadata": {},
   "source": [
    "### Select data set"
   ]
  },
  {
   "cell_type": "code",
   "id": "2f077a2c",
   "metadata": {
    "ExecuteTime": {
     "end_time": "2025-10-24T13:19:56.495127Z",
     "start_time": "2025-10-24T13:19:56.490097Z"
    }
   },
   "source": [
    "#DATASET = \"cifar-10\"\n",
    "DATASET = \"mnist\""
   ],
   "outputs": [],
   "execution_count": 2
  },
  {
   "cell_type": "markdown",
   "id": "4b9f3ca4",
   "metadata": {},
   "source": [
    "### RPC Provider"
   ]
  },
  {
   "cell_type": "markdown",
   "id": "d9ab955e",
   "metadata": {},
   "source": [
    "The RPC provides the connection to the respective blockchain, for example Ethereum or the Robsten testnet."
   ]
  },
  {
   "cell_type": "code",
   "id": "8671c69b",
   "metadata": {
    "ExecuteTime": {
     "end_time": "2025-10-24T13:19:56.525909Z",
     "start_time": "2025-10-24T13:19:56.505098Z"
    }
   },
   "source": [
    "with open(\"rpc_endpoint.txt\", \"r\") as file:\n",
    "    RPC_ENDPOINT = file.read()"
   ],
   "outputs": [],
   "execution_count": 3
  },
  {
   "cell_type": "markdown",
   "id": "dae39685",
   "metadata": {},
   "source": [
    "### Configurations"
   ]
  },
  {
   "metadata": {
    "ExecuteTime": {
     "end_time": "2025-10-24T13:19:56.557559Z",
     "start_time": "2025-10-24T13:19:56.533572Z"
    }
   },
   "cell_type": "code",
   "source": [
    "NUMBER_OF_GOOD_CONTRIBUTORS = 4\n",
    "NUMBER_OF_BAD_CONTRIBUTORS = 1\n",
    "NUMBER_OF_FREERIDER_CONTRIBUTORS = 1\n",
    "NUMBER_OF_INACTIVE_CONTRIBUTORS = 0\n",
    "\n",
    "REWARD = int(1e18)\n",
    "MINIMUM_ROUNDS = 3\n",
    "MIN_BUY_IN = int(1e18)\n",
    "MAX_BUY_IN = int(1.8e18)\n",
    "STANDARD_BUY_IN = int(1e18)\n",
    "EPOCHES = 1 #25\n",
    "BATCH_SIZE = 32 #128\n",
    "PUNISHFACTOR = 3\n",
    "FIRST_ROUND_FEE = 50 # 50% OF MIN DEPOSIT\n",
    "\n",
    "FORK = False # Fork Chain or communicate directly with RPC\n",
    "\n",
    "NUMBER_OF_CONTRIBUTERS = NUMBER_OF_GOOD_CONTRIBUTORS      + \\\n",
    "                         NUMBER_OF_BAD_CONTRIBUTORS       + \\\n",
    "                         NUMBER_OF_FREERIDER_CONTRIBUTORS + \\\n",
    "                         NUMBER_OF_INACTIVE_CONTRIBUTORS"
   ],
   "id": "29a2caa586539ba4",
   "outputs": [],
   "execution_count": 4
  },
  {
   "metadata": {
    "ExecuteTime": {
     "end_time": "2025-10-24T13:19:56.636135Z",
     "start_time": "2025-10-24T13:19:56.565922Z"
    }
   },
   "cell_type": "code",
   "source": [
    "# Only for the real-net simulation\n",
    "# In order to use a non-locally forked blockchain, \n",
    "# private keys are required to unlock accounts\n",
    "if FORK == False:\n",
    "    from web3 import Web3\n",
    "    w3 = Web3(Web3.HTTPProvider(RPC_ENDPOINT))\n",
    "    PRIVKEYS = []\n",
    "    with open(\"private_keys.txt\", \"r\") as file:\n",
    "        for f in file:\n",
    "            PRIVKEYS.append(f.split(\":\")[0])\n",
    "\n",
    "    PRIVKEYS = [w3.eth.account.privateKeyToAccount(i) for i in PRIVKEYS]\n",
    "else:\n",
    "    PRIVKEYS = None"
   ],
   "id": "82c1a998413f308b",
   "outputs": [],
   "execution_count": 5
  },
  {
   "cell_type": "markdown",
   "id": "e878d441",
   "metadata": {},
   "source": [
    "### Initialized Deep Learning Model and add Participants"
   ]
  },
  {
   "cell_type": "code",
   "id": "86f3ac59",
   "metadata": {
    "scrolled": false,
    "ExecuteTime": {
     "end_time": "2025-10-24T13:20:00.727780Z",
     "start_time": "2025-10-24T13:19:56.646149Z"
    }
   },
   "source": [
    "pytorch_model = PytorchModel(DATASET, \n",
    "                             NUMBER_OF_GOOD_CONTRIBUTORS, \n",
    "                             NUMBER_OF_CONTRIBUTERS, \n",
    "                             EPOCHES, \n",
    "                             BATCH_SIZE, \n",
    "                             STANDARD_BUY_IN,\n",
    "                             MAX_BUY_IN)\n",
    "\n",
    "\n",
    "for i in range(NUMBER_OF_BAD_CONTRIBUTORS):\n",
    "    pytorch_model.add_participant(\"bad\",3)\n",
    "\n",
    "for i in range(NUMBER_OF_FREERIDER_CONTRIBUTORS):\n",
    "    pytorch_model.add_participant(\"freerider\",1)\n",
    "    \n",
    "for i in range(NUMBER_OF_INACTIVE_CONTRIBUTORS):\n",
    "    pytorch_model.add_participant(\"inactive\",1)"
   ],
   "outputs": [
    {
     "name": "stdout",
     "output_type": "stream",
     "text": [
      "Data Loaded:\n",
      "Nr. of images for training: 60,000\n",
      "Nr. of images for testing:  10,000\n",
      "\n",
      "===================================================================================\n",
      "Pytorch Model created:\n",
      "\n",
      "Net_MNIST(\n",
      "  (conv1): Conv2d(1, 32, kernel_size=(5, 5), stride=(1, 1), padding=(2, 2))\n",
      "  (conv2): Conv2d(32, 64, kernel_size=(5, 5), stride=(1, 1), padding=(2, 2))\n",
      "  (fc1): Linear(in_features=3136, out_features=1024, bias=True)\n",
      "  (fc2): Linear(in_features=1024, out_features=10, bias=True)\n",
      ")\n",
      "\n",
      "===================================================================================\n",
      "Participant added: \u001B[1m\u001B[32mGood\u001B[0m \u001B[1m\u001B[32mUser\u001B[0m\n",
      "Participant added: \u001B[1m\u001B[32mGood\u001B[0m \u001B[1m\u001B[32mUser\u001B[0m\n",
      "Participant added: \u001B[1m\u001B[32mGood\u001B[0m \u001B[1m\u001B[32mUser\u001B[0m\n",
      "Participant added: \u001B[1m\u001B[32mGood\u001B[0m \u001B[1m\u001B[32mUser\u001B[0m\n",
      "Participant added: \u001B[1m\u001B[31mBad\u001B[0m \u001B[1m\u001B[31mUser\u001B[0m\n",
      "Participant added: \u001B[1m\u001B[31mFreerider\u001B[0m \u001B[1m\u001B[31mUser\u001B[0m\n"
     ]
    }
   ],
   "execution_count": 6
  },
  {
   "cell_type": "markdown",
   "id": "58663741",
   "metadata": {},
   "source": [
    "### Initialize and Deploy Manager Contract"
   ]
  },
  {
   "cell_type": "code",
   "id": "3a4d0bac",
   "metadata": {
    "ExecuteTime": {
     "end_time": "2025-10-24T13:20:02.181646Z",
     "start_time": "2025-10-24T13:20:00.935829Z"
    }
   },
   "source": [
    "manager = FLManager(pytorch_model, True).init(NUMBER_OF_GOOD_CONTRIBUTORS, \n",
    "                                              NUMBER_OF_BAD_CONTRIBUTORS,\n",
    "                                              NUMBER_OF_FREERIDER_CONTRIBUTORS,\n",
    "                                              NUMBER_OF_INACTIVE_CONTRIBUTORS,\n",
    "                                              MINIMUM_ROUNDS,\n",
    "                                              RPC_ENDPOINT,\n",
    "                                              FORK,\n",
    "                                              PRIVKEYS)\n",
    "manager.buildContract()"
   ],
   "outputs": [
    {
     "name": "stdout",
     "output_type": "stream",
     "text": [
      "Connected to Ethereum: \u001B[1m\u001B[32mTrue\u001B[0m\n",
      "initiated Ganache-Client @ Block Nr. 294\n",
      "\n",
      "Total Contributers:       6\n",
      "Good Contributers:        4 (67%)\n",
      "Malicious Contributers:   1 (17%)\n",
      "Freeriding Contributers:  1 (17%)\n",
      "Inactive Contributers:    0 (0%)\n",
      "Learning Rounds:          3\n",
      "-----------------------------------------------------------------------------------\n",
      "Account initiated @ Address 0x09Ca61C7cb86d8DE76E3E63... with 99,999,978.0 ETH | FAIR USER\n",
      "Account initiated @ Address 0xe7F50AB14f0fb1E140bbb7f... with 99,999,990.1 ETH | FAIR USER\n",
      "Account initiated @ Address 0xCe57EAfD18afA405A26BCFa... with 99,999,990.8 ETH | FAIR USER\n",
      "Account initiated @ Address 0xC0148dFB7E61c11e8422588... with 99,999,988.8 ETH | FAIR USER\n",
      "Account initiated @ Address 0xa46d9Edaac1d2153168Cdf7... with 99,999,986.9 ETH | MAL. USER\n",
      "Account initiated @ Address 0xE6d028402A486980cf97375... with 99,999,987.5 ETH | FREE USER\n",
      "-----------------------------------------------------------------------------------\n",
      "\n",
      "Manager deployed  @ Address 0x81EED4200c36934007d81c4B79b5A75c861d99B1 | 0xe2a1...\n",
      "\n",
      "-----------------------------------------------------------------------------------\n"
     ]
    }
   ],
   "execution_count": 7
  },
  {
   "cell_type": "markdown",
   "id": "5c35c7ce",
   "metadata": {},
   "source": [
    "### Deploy Challenger Contract and Start Experiment"
   ]
  },
  {
   "cell_type": "code",
   "id": "3d3e5f91",
   "metadata": {
    "scrolled": false,
    "ExecuteTime": {
     "end_time": "2025-10-24T13:25:22.890724Z",
     "start_time": "2025-10-24T13:20:02.298744Z"
    }
   },
   "source": [
    "configs = manager.deployChallengeContract(MIN_BUY_IN,\n",
    "                                          MAX_BUY_IN,\n",
    "                                          REWARD, \n",
    "                                          MINIMUM_ROUNDS,\n",
    "                                          PUNISHFACTOR,\n",
    "                                          FIRST_ROUND_FEE)\n",
    "\n",
    "model = FLChallenge(manager, \n",
    "                    configs,\n",
    "                    pytorch_model)\n",
    "\n",
    "\n",
    "model.simulate(rounds=MINIMUM_ROUNDS)"
   ],
   "outputs": [
    {
     "name": "stdout",
     "output_type": "stream",
     "text": [
      "\u001B[1mStarting simulation...\u001B[0m\n",
      "\u001B[1m-----------------------------------------------------------------------------------\u001B[0m\n",
      "\n",
      "Model deployed    @ Address 0xB7D8866341B1CA186af015CCe3b7578e8aB42a77 | 0x1809...\n",
      "\n",
      "-----------------------------------------------------------------------------------\n",
      "Account registered: 0x09Ca61C7cb86d8... | 0x1809... | 1,552,127,236,895,256,832 WEI\n",
      "Account registered: 0xe7F50AB14f0fb1... | 0x0d96... | 1,662,987,938,918,863,360 WEI\n",
      "Account registered: 0xCe57EAfD18afA4... | 0x288e... | 1,076,356,469,049,602,176 WEI\n",
      "Account registered: 0xC0148dFB7E61c1... | 0x2990... | 1,549,546,408,878,403,072 WEI\n",
      "Account registered: 0xa46d9Edaac1d21... | 0x4cba... | 1,688,631,799,264,684,544 WEI\n",
      "Account registered: 0xE6d028402A4869... | 0xf281... | 1,041,871,027,501,788,928 WEI\n",
      "-----------------------------------------------------------------------------------\n",
      "\u001B[1mRound 1 starts...\u001B[0m\n",
      "\u001B[1m\u001B[31mAddress 0xE6d028402A4869... going to switch attitude to freerider\u001B[0m\n",
      "\u001B[1m\n",
      "=========================== FEDERATED LEARNING START ==============================\u001B[0m\n",
      "Account training:   0x09Ca61C7cb86d8... | Epoche  1 | Accuracy  70 % | Loss  43.76\n",
      "\u001B[32mAccount testing:    0x09Ca61C7cb86d8... | Epoche  1 | Accuracy  70 % | Loss 426.54\u001B[0m\n",
      "-----------------------------------------------------------------------------------\n",
      "Account training:   0xe7F50AB14f0fb1... | Epoche  1 | Accuracy  58 % | Loss  63.51\n",
      "\u001B[32mAccount testing:    0xe7F50AB14f0fb1... | Epoche  1 | Accuracy  60 % | Loss 620.08\u001B[0m\n",
      "-----------------------------------------------------------------------------------\n",
      "Account training:   0xCe57EAfD18afA4... | Epoche  1 | Accuracy  65 % | Loss  55.70\n",
      "\u001B[32mAccount testing:    0xCe57EAfD18afA4... | Epoche  1 | Accuracy  65 % | Loss 540.23\u001B[0m\n",
      "-----------------------------------------------------------------------------------\n",
      "Account training:   0xC0148dFB7E61c1... | Epoche  1 | Accuracy  63 % | Loss  51.35\n",
      "\u001B[32mAccount testing:    0xC0148dFB7E61c1... | Epoche  1 | Accuracy  66 % | Loss 493.43\u001B[0m\n",
      "-----------------------------------------------------------------------------------\n",
      "Account training:   0xa46d9Edaac1d21... | Epoche  1 | Accuracy  69 % | Loss  42.36\n",
      "\u001B[32mAccount testing:    0xa46d9Edaac1d21... | Epoche  1 | Accuracy  70 % | Loss 411.08\u001B[0m\n",
      "-----------------------------------------------------------------------------------\n",
      "Account freeriding: 0xE6d028402A4869... | Epoche -- | Accuracy  12 % | Loss  73.80\n",
      "\u001B[1m=========================== FEDERATED LEARNING END ================================\n",
      "\u001B[0m\n",
      "\u001B[31mAccount 0xE6d028... going to provide random weights; starts copycat-ing next round\u001B[0m\n",
      "Account testing:    0xE6d028402A4869... |  Testing  | Accuracy  10 % | Loss ∞\n",
      "\n",
      "Slot registered:    0x09Ca61C7cb86d8... | 0x1a1d... | 1,552,127,236,895,256,832 WEI\n",
      "Slot registered:    0xe7F50AB14f0fb1... | 0x3db2... | 1,662,987,938,918,863,360 WEI\n",
      "Slot registered:    0xCe57EAfD18afA4... | 0x5f3d... | 1,076,356,469,049,602,176 WEI\n",
      "Slot registered:    0xC0148dFB7E61c1... | 0x64d7... | 1,549,546,408,878,403,072 WEI\n",
      "Slot registered:    0xa46d9Edaac1d21... | 0x7200... | 1,688,631,799,264,684,544 WEI\n",
      "Slot registered:    0xE6d028402A4869... | 0x72a8... | 1,041,871,027,501,788,928 WEI\n",
      "-----------------------------------------------------------------------------------\n",
      "Weights provided:   0x09Ca61C7cb86d8... | 0x8649... | 1,552,127,236,895,256,832 WEI\n",
      "Weights provided:   0xe7F50AB14f0fb1... | 0xf78f... | 1,662,987,938,918,863,360 WEI\n",
      "Weights provided:   0xCe57EAfD18afA4... | 0xa4bd... | 1,076,356,469,049,602,176 WEI\n",
      "Weights provided:   0xC0148dFB7E61c1... | 0x7650... | 1,549,546,408,878,403,072 WEI\n",
      "Weights provided:   0xa46d9Edaac1d21... | 0x36a0... | 1,688,631,799,264,684,544 WEI\n",
      "Weights provided:   0xE6d028402A4869... | 0x46e3... | 1,041,871,027,501,788,928 WEI\n",
      "-----------------------------------------------------------------------------------\n",
      "Users exchanging models...\n",
      "-----------------------------------------------------------------------------------\n",
      "Users verifying models...\n",
      "-----------------------------------------------------------------------------------\n",
      "Users evaluating models...\n",
      "FEEDBACK MATRIX:\n",
      "[[ 0. -1.  1.  1.  1. -1.]\n",
      " [ 1.  0.  1.  1.  1. -1.]\n",
      " [ 1.  1.  0.  1.  1. -1.]\n",
      " [ 1.  0.  1.  0.  1. -1.]\n",
      " [ 1.  0.  1.  1.  0. -1.]\n",
      " [ 0.  0.  0.  0.  0.  0.]]\n",
      "-----------------------------------------------------------------------------------\n",
      "\n",
      "Users exchanging feedback...\n",
      "                                                   \n",
      "-----------------------------------------------------------------------------------\n",
      "\u001B[1m\n",
      "Settle round: 1\u001B[0m\n",
      "\n",
      "-----------------------------------------------------------------------------------\n",
      "Account 0x09Ca61C7cb86d8... participating in merge\n",
      "Account 0xCe57EAfD18afA4... participating in merge\n",
      "Account 0xC0148dFB7E61c1... participating in merge\n",
      "Account 0xa46d9Edaac1d21... participating in merge\n",
      "-----------------------------------------------------------------------------------\n",
      "\u001B[1mMerged Model: Accuracy  37 % | Loss 709.96\u001B[0m\n",
      "-----------------------------------------------------------------------------------\n",
      "\n",
      "\u001B[1m\n",
      "END OF ROUND 1\u001B[0m\n",
      "\u001B[1mVALID VOTES:      15\u001B[0m\n",
      "\u001B[1mREWARD PER VOTE:  22,222,222,222,222,224\u001B[0m\n",
      "\u001B[1mTOTAL PUNISHMENT: 2,068,286,322,140,217,344\n",
      "\u001B[0m\n",
      "-----------------------------------------------------------------------------------\n",
      "\n",
      "\u001B[1mREWARDED USERS\u001B[0m\n",
      "\u001B[32mUSER @ 0x09Ca61C7cb86d8DE76E3E637a8e3CfA481Ecef99\u001B[0m\n",
      "\u001B[32mROUND SCORE:      5,977,522,616,111,552,512\u001B[0m\n",
      "\u001B[32mTOTAL REWARD:     800,539,885,157,850,240\u001B[0m\n",
      "\u001B[32mNEW REPUTATION:   2,352,667,122,053,107,200\n",
      "\u001B[0m\n",
      "\u001B[32mUSER @ 0xC0148dFB7E61c11e84225881723A8bEB45c7002A\u001B[0m\n",
      "\u001B[32mROUND SCORE:      5,980,103,444,128,406,528\u001B[0m\n",
      "\u001B[32mTOTAL REWARD:     800,539,885,157,850,240\u001B[0m\n",
      "\u001B[32mNEW REPUTATION:   2,350,086,294,036,253,184\n",
      "\u001B[0m\n",
      "\u001B[32mUSER @ 0xa46d9Edaac1d2153168Cdf7e525880bC53827109\u001B[0m\n",
      "\u001B[32mROUND SCORE:      5,841,018,053,742,125,056\u001B[0m\n",
      "\u001B[32mTOTAL REWARD:     800,539,885,157,850,240\u001B[0m\n",
      "\u001B[32mNEW REPUTATION:   2,489,171,684,422,534,656\n",
      "\u001B[0m\n",
      "-----------------------------------------------------------------------------------\n",
      "\n",
      "\u001B[1mPUNISHED USERS\u001B[0m\n",
      "\u001B[31mUSER @ 0xe7F50AB14f0fb1E140bbb7f03655dc9C922F5980\u001B[0m\n",
      "\u001B[31mROUND SCORE:      -475,770,767,845,654,720\u001B[0m\n",
      "\u001B[31mTOTAL LOSS:       387,662,646,306,287,744\u001B[0m\n",
      "\u001B[31mNEW REPUTATION:   775,325,292,612,575,488\n",
      "\u001B[0m\n",
      "\u001B[31mUSER @ 0xE6d028402A486980cf97375BD9A6C0aBDa5d089c\u001B[0m\n",
      "\u001B[31mROUND SCORE:      -7,529,649,853,006,810,112\u001B[0m\n",
      "\u001B[31mTOTAL LOSS:       180,623,675,833,929,664\u001B[0m\n",
      "\u001B[31mNEW REPUTATION:   361,247,351,667,859,328\n",
      "\u001B[0m\n",
      "-----------------------------------------------------------------------------------\n",
      "\n",
      "\n",
      "\u001B[1mRound 1 completed:\u001B[0m\n",
      "\u001B[1m0x09Ca61C7cb86d8...  1,552,127,236,895,256,832 -> 2,352,667,122,053,107,200\u001B[0m\n",
      "\u001B[1m0xe7F50AB14f0fb1...  1,662,987,938,918,863,360 ->   775,325,292,612,575,488\u001B[0m\n",
      "\u001B[1m0xCe57EAfD18afA4...  1,076,356,469,049,602,176 ->   576,356,469,049,602,112\u001B[0m\n",
      "\u001B[1m0xC0148dFB7E61c1...  1,549,546,408,878,403,072 -> 2,350,086,294,036,253,184\u001B[0m\n",
      "\u001B[1m0xa46d9Edaac1d21...  1,688,631,799,264,684,544 -> 2,489,171,684,422,534,656\u001B[0m\n",
      "\u001B[1m0xE6d028402A4869...  1,041,871,027,501,788,928 ->   361,247,351,667,859,328\u001B[0m\n",
      "\u001B[1m\n",
      "▬▬▬▬▬▬▬▬▬▬▬▬▬▬▬▬▬▬▬▬▬▬▬▬▬▬▬▬▬▬▬▬▬▬▬▬▬▬▬▬▬▬▬▬▬▬▬▬▬▬▬▬▬▬▬▬▬▬▬▬▬▬▬▬▬▬▬▬▬▬▬▬▬▬▬▬▬▬▬▬▬▬▬\n",
      "\u001B[0m\n",
      "\u001B[1mRound 2 starts...\u001B[0m\n",
      "\u001B[1m\n",
      "=========================== FEDERATED LEARNING START ==============================\u001B[0m\n",
      "Account training:   0x09Ca61C7cb86d8... | Epoche  1 | Accuracy  64 % | Loss  35.58\n",
      "\u001B[32mAccount testing:    0x09Ca61C7cb86d8... | Epoche  1 | Accuracy  66 % | Loss 338.69\u001B[0m\n",
      "-----------------------------------------------------------------------------------\n",
      "Account training:   0xe7F50AB14f0fb1... | Epoche  1 | Accuracy  67 % | Loss  34.71\n",
      "\u001B[32mAccount testing:    0xe7F50AB14f0fb1... | Epoche  1 | Accuracy  67 % | Loss 339.12\u001B[0m\n",
      "-----------------------------------------------------------------------------------\n",
      "Account training:   0xCe57EAfD18afA4... | Epoche  1 | Accuracy  68 % | Loss  35.08\n",
      "\u001B[32mAccount testing:    0xCe57EAfD18afA4... | Epoche  1 | Accuracy  68 % | Loss 339.04\u001B[0m\n",
      "-----------------------------------------------------------------------------------\n",
      "Account training:   0xC0148dFB7E61c1... | Epoche  1 | Accuracy  63 % | Loss  35.43\n",
      "\u001B[32mAccount testing:    0xC0148dFB7E61c1... | Epoche  1 | Accuracy  67 % | Loss 329.89\u001B[0m\n",
      "-----------------------------------------------------------------------------------\n",
      "Account training:   0xa46d9Edaac1d21... | Epoche  1 | Accuracy  66 % | Loss  34.95\n",
      "\u001B[32mAccount testing:    0xa46d9Edaac1d21... | Epoche  1 | Accuracy  66 % | Loss 340.45\u001B[0m\n",
      "-----------------------------------------------------------------------------------\n",
      "Account freeriding: 0xE6d028402A4869... | Epoche -- | Accuracy  39 % | Loss  72.51\n",
      "\u001B[1m=========================== FEDERATED LEARNING END ================================\n",
      "\u001B[0m\n",
      "\u001B[31mAddress 0xE6d028402A4869... going to add random noise to weights\u001B[0m\n",
      "Account testing:    0xE6d028402A4869... |  Testing  | Accuracy  70 % | Loss ∞\n",
      "\n",
      "Slot registered:    0x09Ca61C7cb86d8... | 0xadbb... | 2,352,667,122,053,107,200 WEI\n",
      "Slot registered:    0xe7F50AB14f0fb1... | 0x57e7... |   775,325,292,612,575,488 WEI\n",
      "Slot registered:    0xCe57EAfD18afA4... | 0xcccc... |   576,356,469,049,602,112 WEI\n",
      "Slot registered:    0xC0148dFB7E61c1... | 0x56cb... | 2,350,086,294,036,253,184 WEI\n",
      "Slot registered:    0xa46d9Edaac1d21... | 0x9fc2... | 2,489,171,684,422,534,656 WEI\n",
      "Slot registered:    0xE6d028402A4869... | 0x0b1d... |   361,247,351,667,859,328 WEI\n",
      "-----------------------------------------------------------------------------------\n",
      "Weights provided:   0x09Ca61C7cb86d8... | 0xc9cf... | 2,352,667,122,053,107,200 WEI\n",
      "Weights provided:   0xe7F50AB14f0fb1... | 0x7eca... |   775,325,292,612,575,488 WEI\n",
      "Weights provided:   0xCe57EAfD18afA4... | 0xe3c7... |   576,356,469,049,602,112 WEI\n",
      "Weights provided:   0xC0148dFB7E61c1... | 0x9d9e... | 2,350,086,294,036,253,184 WEI\n",
      "Weights provided:   0xa46d9Edaac1d21... | 0x6a73... | 2,489,171,684,422,534,656 WEI\n",
      "Weights provided:   0xE6d028402A4869... | 0xaf5c... |   361,247,351,667,859,328 WEI\n",
      "-----------------------------------------------------------------------------------\n",
      "Users exchanging models...\n",
      "-----------------------------------------------------------------------------------\n",
      "Users verifying models...\n",
      "-----------------------------------------------------------------------------------\n",
      "Users evaluating models...\n",
      "FEEDBACK MATRIX:\n",
      "[[0. 1. 1. 1. 1. 1.]\n",
      " [1. 0. 1. 1. 1. 1.]\n",
      " [1. 1. 0. 1. 1. 1.]\n",
      " [1. 1. 1. 0. 1. 1.]\n",
      " [1. 1. 1. 1. 0. 1.]\n",
      " [0. 0. 0. 0. 0. 0.]]\n",
      "-----------------------------------------------------------------------------------\n",
      "\n",
      "Users exchanging feedback...\n",
      "                                                   \n",
      "-----------------------------------------------------------------------------------\n",
      "\u001B[1m\n",
      "Settle round: 2\u001B[0m\n",
      "\n",
      "-----------------------------------------------------------------------------------\n",
      "Account 0x09Ca61C7cb86d8... participating in merge\n",
      "Account 0xe7F50AB14f0fb1... participating in merge\n",
      "Account 0xCe57EAfD18afA4... participating in merge\n",
      "Account 0xC0148dFB7E61c1... participating in merge\n",
      "Account 0xa46d9Edaac1d21... participating in merge\n",
      "Account 0xE6d028402A4869... participating in merge\n",
      "-----------------------------------------------------------------------------------\n",
      "\u001B[1mMerged Model: Accuracy  70 % | Loss 378.73\u001B[0m\n",
      "-----------------------------------------------------------------------------------\n",
      "\n",
      "\u001B[1m\n",
      "END OF ROUND 2\u001B[0m\n",
      "\u001B[1mVALID VOTES:      30\u001B[0m\n",
      "\u001B[1mREWARD PER VOTE:  11,111,111,111,111,112\u001B[0m\n",
      "\u001B[1mTOTAL PUNISHMENT: 0\n",
      "\u001B[0m\n",
      "-----------------------------------------------------------------------------------\n",
      "\n",
      "\u001B[1mREWARDED USERS\u001B[0m\n",
      "\u001B[32mUSER @ 0x09Ca61C7cb86d8DE76E3E637a8e3CfA481Ecef99\u001B[0m\n",
      "\u001B[32mROUND SCORE:      6,190,939,740,120,966,144\u001B[0m\n",
      "\u001B[32mTOTAL REWARD:     55,555,555,555,555,552\u001B[0m\n",
      "\u001B[32mNEW REPUTATION:   2,408,222,677,608,662,528\n",
      "\u001B[0m\n",
      "\u001B[32mUSER @ 0xe7F50AB14f0fb1E140bbb7f03655dc9C922F5980\u001B[0m\n",
      "\u001B[32mROUND SCORE:      7,768,281,569,561,497,600\u001B[0m\n",
      "\u001B[32mTOTAL REWARD:     55,555,555,555,555,552\u001B[0m\n",
      "\u001B[32mNEW REPUTATION:   830,880,848,168,131,072\n",
      "\u001B[0m\n",
      "\u001B[32mUSER @ 0xCe57EAfD18afA405A26BCFa6F2B4fB872A62Dc78\u001B[0m\n",
      "\u001B[32mROUND SCORE:      7,967,250,393,124,470,784\u001B[0m\n",
      "\u001B[32mTOTAL REWARD:     55,555,555,555,555,552\u001B[0m\n",
      "\u001B[32mNEW REPUTATION:   631,912,024,605,157,632\n",
      "\u001B[0m\n",
      "\u001B[32mUSER @ 0xC0148dFB7E61c11e84225881723A8bEB45c7002A\u001B[0m\n",
      "\u001B[32mROUND SCORE:      6,193,520,568,137,819,136\u001B[0m\n",
      "\u001B[32mTOTAL REWARD:     55,555,555,555,555,552\u001B[0m\n",
      "\u001B[32mNEW REPUTATION:   2,405,641,849,591,809,024\n",
      "\u001B[0m\n",
      "\u001B[32mUSER @ 0xa46d9Edaac1d2153168Cdf7e525880bC53827109\u001B[0m\n",
      "\u001B[32mROUND SCORE:      6,054,435,177,751,537,664\u001B[0m\n",
      "\u001B[32mTOTAL REWARD:     55,555,555,555,555,552\u001B[0m\n",
      "\u001B[32mNEW REPUTATION:   2,544,727,239,978,090,496\n",
      "\u001B[0m\n",
      "\u001B[32mUSER @ 0xE6d028402A486980cf97375BD9A6C0aBDa5d089c\u001B[0m\n",
      "\u001B[32mROUND SCORE:      8,543,606,862,174,072,832\u001B[0m\n",
      "\u001B[32mTOTAL REWARD:     55,555,555,555,555,552\u001B[0m\n",
      "\u001B[32mNEW REPUTATION:   416,802,907,223,414,848\n",
      "\u001B[0m\n",
      "-----------------------------------------------------------------------------------\n",
      "\n",
      "\n",
      "\u001B[1mRound 2 completed:\u001B[0m\n",
      "\u001B[1m0x09Ca61C7cb86d8...  2,352,667,122,053,107,200 -> 2,408,222,677,608,662,528\u001B[0m\n",
      "\u001B[1m0xe7F50AB14f0fb1...    775,325,292,612,575,488 ->   830,880,848,168,131,072\u001B[0m\n",
      "\u001B[1m0xCe57EAfD18afA4...    576,356,469,049,602,112 ->   631,912,024,605,157,632\u001B[0m\n",
      "\u001B[1m0xC0148dFB7E61c1...  2,350,086,294,036,253,184 -> 2,405,641,849,591,809,024\u001B[0m\n",
      "\u001B[1m0xa46d9Edaac1d21...  2,489,171,684,422,534,656 -> 2,544,727,239,978,090,496\u001B[0m\n",
      "\u001B[1m0xE6d028402A4869...    361,247,351,667,859,328 ->   416,802,907,223,414,848\u001B[0m\n",
      "\u001B[1m\n",
      "▬▬▬▬▬▬▬▬▬▬▬▬▬▬▬▬▬▬▬▬▬▬▬▬▬▬▬▬▬▬▬▬▬▬▬▬▬▬▬▬▬▬▬▬▬▬▬▬▬▬▬▬▬▬▬▬▬▬▬▬▬▬▬▬▬▬▬▬▬▬▬▬▬▬▬▬▬▬▬▬▬▬▬\n",
      "\u001B[0m\n",
      "\u001B[1mRound 3 starts...\u001B[0m\n",
      "\u001B[1m\u001B[31mAddress 0xa46d9Edaac1d21... going to switch attitude to bad\u001B[0m\n",
      "\u001B[1m\n",
      "=========================== FEDERATED LEARNING START ==============================\u001B[0m\n",
      "Account training:   0x09Ca61C7cb86d8... | Epoche  1 | Accuracy  82 % | Loss  17.30\n",
      "\u001B[32mAccount testing:    0x09Ca61C7cb86d8... | Epoche  1 | Accuracy  82 % | Loss 182.02\u001B[0m\n",
      "-----------------------------------------------------------------------------------\n",
      "Account training:   0xe7F50AB14f0fb1... | Epoche  1 | Accuracy  82 % | Loss  18.20\n",
      "\u001B[32mAccount testing:    0xe7F50AB14f0fb1... | Epoche  1 | Accuracy  82 % | Loss 183.62\u001B[0m\n",
      "-----------------------------------------------------------------------------------\n",
      "Account training:   0xCe57EAfD18afA4... | Epoche  1 | Accuracy  79 % | Loss  22.27\n",
      "\u001B[32mAccount testing:    0xCe57EAfD18afA4... | Epoche  1 | Accuracy  79 % | Loss 214.55\u001B[0m\n",
      "-----------------------------------------------------------------------------------\n",
      "Account training:   0xC0148dFB7E61c1... | Epoche  1 | Accuracy  79 % | Loss  20.94\n",
      "\u001B[32mAccount testing:    0xC0148dFB7E61c1... | Epoche  1 | Accuracy  82 % | Loss 190.32\u001B[0m\n",
      "-----------------------------------------------------------------------------------\n",
      "Account malicious:  0xa46d9Edaac1d21... | Epoche -- | Accuracy  71 % | Loss  38.70\n",
      "Account freeriding: 0xE6d028402A4869... | Epoche -- | Accuracy  72 % | Loss  37.82\n",
      "\u001B[1m=========================== FEDERATED LEARNING END ================================\n",
      "\u001B[0m\n",
      "\u001B[31mAddress 0xa46d9Edaac1d21... going to provide random weights\u001B[0m\n",
      "Account testing:    0xa46d9Edaac1d21... |  Testing  | Accuracy  10 % | Loss ∞\n",
      "\n",
      "\u001B[31mAddress 0xE6d028402A4869... going to add random noise to weights\u001B[0m\n",
      "Account testing:    0xE6d028402A4869... |  Testing  | Accuracy  66 % | Loss ∞\n",
      "\n",
      "Slot registered:    0x09Ca61C7cb86d8... | 0x83f3... | 2,408,222,677,608,662,528 WEI\n",
      "Slot registered:    0xe7F50AB14f0fb1... | 0xb8eb... |   830,880,848,168,131,072 WEI\n",
      "Slot registered:    0xCe57EAfD18afA4... | 0xaff5... |   631,912,024,605,157,632 WEI\n",
      "Slot registered:    0xC0148dFB7E61c1... | 0x1091... | 2,405,641,849,591,809,024 WEI\n",
      "Slot registered:    0xa46d9Edaac1d21... | 0x1701... | 2,544,727,239,978,090,496 WEI\n",
      "Slot registered:    0xE6d028402A4869... | 0x58a7... |   416,802,907,223,414,848 WEI\n",
      "-----------------------------------------------------------------------------------\n",
      "Weights provided:   0x09Ca61C7cb86d8... | 0x95ac... | 2,408,222,677,608,662,528 WEI\n",
      "Weights provided:   0xe7F50AB14f0fb1... | 0x26df... |   830,880,848,168,131,072 WEI\n",
      "Weights provided:   0xCe57EAfD18afA4... | 0x8ca7... |   631,912,024,605,157,632 WEI\n",
      "Weights provided:   0xC0148dFB7E61c1... | 0x26a4... | 2,405,641,849,591,809,024 WEI\n",
      "Weights provided:   0xa46d9Edaac1d21... | 0xf789... | 2,544,727,239,978,090,496 WEI\n",
      "Weights provided:   0xE6d028402A4869... | 0xa6b8... |   416,802,907,223,414,848 WEI\n",
      "-----------------------------------------------------------------------------------\n",
      "Users exchanging models...\n",
      "-----------------------------------------------------------------------------------\n",
      "Users verifying models...\n",
      "-----------------------------------------------------------------------------------\n",
      "Users evaluating models...\n",
      "FEEDBACK MATRIX:\n",
      "[[ 0.  1.  1.  1. -1. -1.]\n",
      " [ 1.  0.  1.  1. -1. -1.]\n",
      " [ 1.  1.  0.  1. -1.  0.]\n",
      " [ 1.  1.  1.  0. -1.  0.]\n",
      " [-1. -1. -1. -1.  0. -1.]\n",
      " [ 0.  0.  0.  0.  0.  0.]]\n",
      "-----------------------------------------------------------------------------------\n",
      "\n",
      "Users exchanging feedback...\n",
      "                                                   \n",
      "-----------------------------------------------------------------------------------\n",
      "\u001B[1m\n",
      "Settle round: 3\u001B[0m\n",
      "\n",
      "-----------------------------------------------------------------------------------\n",
      "Account 0x09Ca61C7cb86d8... participating in merge\n",
      "Account 0xe7F50AB14f0fb1... participating in merge\n",
      "Account 0xCe57EAfD18afA4... participating in merge\n",
      "Account 0xC0148dFB7E61c1... participating in merge\n",
      "-----------------------------------------------------------------------------------\n",
      "\u001B[1mMerged Model: Accuracy  84 % | Loss 170.51\u001B[0m\n",
      "-----------------------------------------------------------------------------------\n",
      "\n",
      "\u001B[1m\n",
      "END OF ROUND 3\u001B[0m\n",
      "\u001B[1mVALID VOTES:      20\u001B[0m\n",
      "\u001B[1mREWARD PER VOTE:  16,666,666,666,666,666\u001B[0m\n",
      "\u001B[1mTOTAL PUNISHMENT: 987,176,715,733,835,136\n",
      "\u001B[0m\n",
      "-----------------------------------------------------------------------------------\n",
      "\n",
      "\u001B[1mREWARDED USERS\u001B[0m\n",
      "\u001B[32mUSER @ 0x09Ca61C7cb86d8DE76E3E637a8e3CfA481Ecef99\u001B[0m\n",
      "\u001B[32mROUND SCORE:      1,323,707,482,387,007,232\u001B[0m\n",
      "\u001B[32mTOTAL REWARD:     330,127,512,266,792,128\u001B[0m\n",
      "\u001B[32mNEW REPUTATION:   2,738,350,189,875,454,976\n",
      "\u001B[0m\n",
      "\u001B[32mUSER @ 0xe7F50AB14f0fb1E140bbb7f03655dc9C922F5980\u001B[0m\n",
      "\u001B[32mROUND SCORE:      2,901,049,311,827,538,944\u001B[0m\n",
      "\u001B[32mTOTAL REWARD:     330,127,512,266,792,128\u001B[0m\n",
      "\u001B[32mNEW REPUTATION:   1,161,008,360,434,923,264\n",
      "\u001B[0m\n",
      "\u001B[32mUSER @ 0xCe57EAfD18afA405A26BCFa6F2B4fB872A62Dc78\u001B[0m\n",
      "\u001B[32mROUND SCORE:      3,100,018,135,390,512,128\u001B[0m\n",
      "\u001B[32mTOTAL REWARD:     330,127,512,266,792,128\u001B[0m\n",
      "\u001B[32mNEW REPUTATION:   962,039,536,871,949,824\n",
      "\u001B[0m\n",
      "\u001B[32mUSER @ 0xC0148dFB7E61c11e84225881723A8bEB45c7002A\u001B[0m\n",
      "\u001B[32mROUND SCORE:      1,326,288,310,403,860,992\u001B[0m\n",
      "\u001B[32mTOTAL REWARD:     330,127,512,266,792,128\u001B[0m\n",
      "\u001B[32mNEW REPUTATION:   2,735,769,361,858,600,960\n",
      "\u001B[0m\n",
      "-----------------------------------------------------------------------------------\n",
      "\n",
      "\u001B[1mPUNISHED USERS\u001B[0m\n",
      "\u001B[31mUSER @ 0xa46d9Edaac1d2153168Cdf7e525880bC53827109\u001B[0m\n",
      "\u001B[31mROUND SCORE:      -6,276,657,399,973,760,000\u001B[0m\n",
      "\u001B[31mTOTAL LOSS:       848,242,413,326,030,080\u001B[0m\n",
      "\u001B[31mNEW REPUTATION:   1,696,484,826,652,060,160\n",
      "\u001B[0m\n",
      "\u001B[31mUSER @ 0xE6d028402A486980cf97375BD9A6C0aBDa5d089c\u001B[0m\n",
      "\u001B[31mROUND SCORE:      -5,783,830,765,754,884,096\u001B[0m\n",
      "\u001B[31mTOTAL LOSS:       138,934,302,407,804,960\u001B[0m\n",
      "\u001B[31mNEW REPUTATION:   277,868,604,815,609,920\n",
      "\u001B[0m\n",
      "-----------------------------------------------------------------------------------\n",
      "\n",
      "\n",
      "\u001B[1mRound 3 completed:\u001B[0m\n",
      "\u001B[1m0x09Ca61C7cb86d8...  2,408,222,677,608,662,528 -> 2,738,350,189,875,454,976\u001B[0m\n",
      "\u001B[1m0xe7F50AB14f0fb1...    830,880,848,168,131,072 -> 1,161,008,360,434,923,264\u001B[0m\n",
      "\u001B[1m0xCe57EAfD18afA4...    631,912,024,605,157,632 ->   962,039,536,871,949,824\u001B[0m\n",
      "\u001B[1m0xC0148dFB7E61c1...  2,405,641,849,591,809,024 -> 2,735,769,361,858,600,960\u001B[0m\n",
      "\u001B[1m0xa46d9Edaac1d21...  2,544,727,239,978,090,496 -> 1,696,484,826,652,060,160\u001B[0m\n",
      "\u001B[1m0xE6d028402A4869...    416,802,907,223,414,848 ->   277,868,604,815,609,920\u001B[0m\n",
      "\u001B[1m\n",
      "▬▬▬▬▬▬▬▬▬▬▬▬▬▬▬▬▬▬▬▬▬▬▬▬▬▬▬▬▬▬▬▬▬▬▬▬▬▬▬▬▬▬▬▬▬▬▬▬▬▬▬▬▬▬▬▬▬▬▬▬▬▬▬▬▬▬▬▬▬▬▬▬▬▬▬▬▬▬▬▬▬▬▬\n",
      "\u001B[0m\n",
      "\u001B[1mTerminating Model...\u001B[0m\n",
      "Account exited:     0x09Ca61C7cb86d8... | 0xd31e... | 99,999,978,185,601,056,700,891,136 WEI\n",
      "Account exited:     0xe7F50AB14f0fb1... | 0x59d6... | 99,999,989,605,720,531,836,862,464 WEI\n",
      "Account exited:     0xCe57EAfD18afA4... | 0x2107... | 99,999,990,647,517,883,737,833,472 WEI\n",
      "Account exited:     0xC0148dFB7E61c1... | 0x81b5... | 99,999,990,005,465,026,545,057,792 WEI\n",
      "Account exited:     0xa46d9Edaac1d21... | 0xb6da... | 99,999,986,946,426,624,972,685,312 WEI\n",
      "Account exited:     0xE6d028402A4869... | 0x6672... | 99,999,986,700,159,831,649,550,336 WEI\n",
      "-----------------------------------------------------------------------------------\n"
     ]
    }
   ],
   "execution_count": 8
  },
  {
   "cell_type": "markdown",
   "id": "e4fed280",
   "metadata": {},
   "source": [
    "### Visualize Experiment "
   ]
  },
  {
   "cell_type": "code",
   "id": "bcc409e1",
   "metadata": {
    "scrolled": true,
    "ExecuteTime": {
     "end_time": "2025-10-24T13:25:24.166747Z",
     "start_time": "2025-10-24T13:25:23.054436Z"
    }
   },
   "source": [
    "model.visualize_simulation()"
   ],
   "outputs": [
    {
     "data": {
      "text/plain": [
       "<Figure size 1600x300 with 5 Axes>"
      ],
      "image/png": "[encoded data removed]"
     },
     "metadata": {},
     "output_type": "display_data",
     "jetTransient": {
      "display_id": null
     }
    }
   ],
   "execution_count": 9
  },
  {
   "cell_type": "markdown",
   "id": "3a4557d7",
   "metadata": {},
   "source": [
    "### Transactions"
   ]
  },
  {
   "cell_type": "code",
   "id": "aa348bb3",
   "metadata": {
    "scrolled": true,
    "ExecuteTime": {
     "end_time": "2025-10-24T13:25:24.669792Z",
     "start_time": "2025-10-24T13:25:24.300516Z"
    }
   },
   "source": [
    "print(\"{:<10} - {:^64} -    Gas Used - {}\".format(\"Function\", \"Transaction Hash\", \"Success\"))\n",
    "print(\"------------------------------------------------------------------------------------------\")\n",
    "for f, txhash in model.txHashes:\n",
    "    r = model.w3.eth.waitForTransactionReceipt(txhash)\n",
    "    if r[\"status\"] == 1:\n",
    "        success = \"✅\"\n",
    "    else:\n",
    "        success = \"FAIL\"\n",
    "    \n",
    "    gas = r[\"gasUsed\"]\n",
    "    print(\"{:<10} - {} - {:>9,.0f} -   {}\".format(f, txhash, gas, success))"
   ],
   "outputs": [
    {
     "name": "stdout",
     "output_type": "stream",
     "text": [
      "Function   -                         Transaction Hash                         -    Gas Used - Success\n",
      "------------------------------------------------------------------------------------------\n",
      "register   - 0x0d9697bfb6097c62ea6fd41548d085047053c58df6cd08655797ef472244524b -   127,396 -   ✅\n",
      "register   - 0x288e356bd33d21b399b1547aef91d821757160961665f229aebac0b16516efb1 -   127,396 -   ✅\n",
      "register   - 0x2990995bcbd11c105e2cb417f12adf1ae44d99f936d574e4e57238e7ec9547a3 -   127,396 -   ✅\n",
      "register   - 0x4cbaacf3c04293599aaaf58c981f136591fb0b74f08a79d4c0d8f2c2094bc111 -   127,396 -   ✅\n",
      "register   - 0xf281bdea07b259f0c94da54daa8041c89287b96aa91a434950b61e734002fa7c -   127,396 -   ✅\n",
      "slot       - 0x1a1d9916bb6dab77bf23db402676852ac29bbb1fb04680d37a7f4777488bda88 -    51,185 -   ✅\n",
      "slot       - 0x3db283d881268e24881dd34eb7f23600647328927b85c4a993e1abdd4bb6f8f5 -    51,185 -   ✅\n",
      "slot       - 0x5f3d8ccba337d7c58f6da5b1a5604dd11829759a03cdf61ebb1a390269cf7933 -    51,185 -   ✅\n",
      "slot       - 0x64d7f9d091e63c442a3a52a140fe23ae387f8171cbded7bb540e576ced30b0bd -    51,185 -   ✅\n",
      "slot       - 0x7200473e883517d1f0428de1edd2bb66f6c9a85bcd00dfda8d3bfabc5ef697c2 -    51,185 -   ✅\n",
      "slot       - 0x72a8b9575fb03422453bdaf75342f1dc89a73b583fcf778c66a0e9479b50b97a -    51,185 -   ✅\n",
      "weights    - 0x8649dfabe934f88a18b6ab7286eb40c8a078fa59e2e579b984777b07e499a497 -    74,983 -   ✅\n",
      "weights    - 0xf78feadc14fbcbf190ac759eb9c75284d3681a7cb59259c0fb8f2d49d269b76f -    57,847 -   ✅\n",
      "weights    - 0xa4bd6578cdca197eb8c64269f9f110e859c495002b2fa9198889040632318c2a -    57,883 -   ✅\n",
      "weights    - 0x7650fe75ddd048fe86b52cc0910bf015456d845d00ae41d57411d5978f29afcc -    57,883 -   ✅\n",
      "weights    - 0x36a060c65236987d347a9ea45ca002eaff122572764afeb2e1432fff5576f114 -    57,883 -   ✅\n",
      "weights    - 0x46e30e3758947eed0189edb943a369686e29e81dbb3256a5527a78c6de1d9b44 -    57,871 -   ✅\n",
      "feedback   - 0xa2fbcdfafcb318d29620fb02b9927c6b0e9d65dbf748ebaaad881030fbca4aae -   386,329 -   ✅\n",
      "feedback   - 0x114f97dafaed93eea90d55669eb322de036ee6ea4cd383f3150f98016d3d891f -   337,459 -   ✅\n",
      "feedback   - 0xb765389ce9a298a9cce8b6af258463f4db6f42c475b937533db0aca2e8bd04ee -   320,359 -   ✅\n",
      "feedback   - 0xff8a736825529d8a63486e692cb3c38351ddc67799b3893a2271d0a9ed6a1eaa -   296,504 -   ✅\n",
      "feedback   - 0x82ec72c1e7c52f7891e5e6a6cec1e9a5b40bd38cad622d7ab8c6da565d7a7ea0 -   296,492 -   ✅\n",
      "feedback   - 0xd3940ac3237c855f3af503b119dc442894d800502f1f8e994d1585f2e46e0c20 -   220,552 -   ✅\n",
      "close      - 0x2e68070fa6ac8d155af109ba27a2c4ff605bc1ed2d7799fad62aaa19598a7196 -   595,577 -   ✅\n",
      "slot       - 0xadbba91ec0759275530adcfa74db060b657e9c99ad0902db5a2006d44980ee01 -    51,185 -   ✅\n",
      "slot       - 0x57e75dcc4209c9be762edfffb8d4a433dd3556b2d38e5e9ac7550672d1f375a5 -    51,185 -   ✅\n",
      "slot       - 0xcccc2d840647519679732d7bcbb9306b846c5e8c0aaa49a6d38a8f9490fc5dac -    51,185 -   ✅\n",
      "slot       - 0x56cb252d0240bed30544d84ce7f380f52c617033215f7e092429b766e4cce49b -    51,185 -   ✅\n",
      "slot       - 0x9fc25bd7c78df060ca17e8514ff35c1ecb01a3275e4ec6e1925781fdd6bbb4fc -    51,185 -   ✅\n",
      "slot       - 0x0b1dad5a48a969407a2aca240453565d50374b2144e3847bc34d6296fa52e342 -    51,173 -   ✅\n",
      "weights    - 0xc9cf2900e461ca4a9979a8a198e8c964fca6faf032ebb49aee956e1efe9e1c7c -    74,983 -   ✅\n",
      "weights    - 0x7ecadf0537a9191140b3ca899419dc038fbe32c96a10bdedf7aed36fd324cd21 -    57,883 -   ✅\n",
      "weights    - 0xe3c747f730d08939f4dfbb83e389401c7452858875c58bb115d36a23271aec14 -    57,871 -   ✅\n",
      "weights    - 0x9d9eae1fd4f99cbd7bdb66e5e6f1e6ddaf9aedafa8dee4c3b72fad56fc7e7b21 -    57,883 -   ✅\n",
      "weights    - 0x6a73f42e50e28791fac887db2e8b6b828214b997dd9da6d8d0469675dddda686 -    57,883 -   ✅\n",
      "weights    - 0xaf5c3c035e1d1cf89e1813be1d3809a63491e093ff812dadd3783c8432215f12 -    57,883 -   ✅\n",
      "feedback   - 0xeb3e148926f088ca5c2407e79dbd686722b418e0373ef636af005cbe616a8f0c -   365,685 -   ✅\n",
      "feedback   - 0x2ae23fd508748dfd7d416bf7978701704d75f6b86f67e41b030b69b4d20ed761 -   277,387 -   ✅\n",
      "feedback   - 0x50ae9efb4095446e4086611f02daa291e899602536aa190978f14adce78dffad -   280,187 -   ✅\n",
      "feedback   - 0x40ddde303c62516df22b6c6b4a63b18d28876b2dbb4058d9eacfedb01e9bd759 -   280,199 -   ✅\n",
      "feedback   - 0x4c1b973850e3ddfde90889b95ffb531b8fa078da367f80529cfa2231565de5a1 -   280,187 -   ✅\n",
      "feedback   - 0x7b02dddc94f875fbe2969c862250b11286c577d9220a2d2a152df2a861c15799 -   220,552 -   ✅\n",
      "close      - 0x8a7cd88afe5d74f6ce3dd2afd5705a0b4c3c74d9de1ae36360ca6d5e61c65500 -   506,971 -   ✅\n",
      "slot       - 0x83f360f85f240401ece11f09d69e055587417f3c7f135cd29cb8f9653f351de2 -    51,185 -   ✅\n",
      "slot       - 0xb8eb1c66f9d9bacedef4c5373761eb68b9fdd5c45a00be6665997318fcae9973 -    51,185 -   ✅\n",
      "slot       - 0xaff5faef479f18a1000f3c5e49957d88251dd1b0bc5ce5155dce503728ba9d32 -    51,185 -   ✅\n",
      "slot       - 0x109125945c9f297422cd4e396e579b5b550be2a1919cadc85ae05bf8a2fad1e5 -    51,185 -   ✅\n",
      "slot       - 0x1701d038978ae39b66c96f98a71143c190359d1da2b25f86d0924b81b6a469d6 -    51,185 -   ✅\n",
      "slot       - 0x58a7c54c8f8545d2039f220380df849f5af96b34adfc1d2ff1da04ab5076cd32 -    51,185 -   ✅\n",
      "weights    - 0x95accd2804f628e4573f08c3647599a9ba5e86bd52519a0348d444c676b41999 -    74,983 -   ✅\n",
      "weights    - 0x26dfdd0a3c54d654576adb5b870db9f1dd7e7a5b0a2711a7477d6d55e5ae5131 -    57,883 -   ✅\n",
      "weights    - 0x8ca72c73d1df22587a9772967542154c66570b538d287da28371c5d000df8699 -    57,883 -   ✅\n",
      "weights    - 0x26a444b8ecf878547bb9691e27305ea56719e08a64fa55af8ad64ff63d9651a2 -    57,883 -   ✅\n",
      "weights    - 0xf789bd34052967adeee52810746ac94f72417abe8b3b7b6924076cc617506242 -    57,871 -   ✅\n",
      "weights    - 0xa6b88678c3e745afbc94f6dc6614abc64f9d2b9a95553de09df27555f03a85fb -    57,883 -   ✅\n",
      "feedback   - 0x2283c5be80a6f058acf4bfbe0ee294ad541e64e1ed8bf1770e82a44934074cce -   322,629 -   ✅\n",
      "feedback   - 0x7d14c6267fb98e10fbdc23926930f87c61b58b599daa09cd2f2615ac673cf952 -   254,231 -   ✅\n",
      "feedback   - 0x0731f8d1759b135e9d43531a5550220224eb388af92a77a7e7b8d061d2075ef1 -   232,792 -   ✅\n",
      "feedback   - 0xd5b3b35170da51437e94b2ed568eb6130a316d0f9108d8f64957c273e83f39a9 -   232,804 -   ✅\n",
      "feedback   - 0xe28676f6126ed2cbca2b0ef205486c14ea002706649cdcc07746a2a91e5e9596 -   232,247 -   ✅\n",
      "feedback   - 0xa52de09887dd708a159df7f6340a1372bd0c6060ced8b7bffe9760f9ed4c98d6 -   220,552 -   ✅\n",
      "close      - 0x4bb9af839efffb829f3a4b6664bf4e24137aea44776f8f670e35611411e6e7de -   569,932 -   ✅\n",
      "exit       - 0xd31e391ce74cc9f0ed86a0c6ea5254dfcd1657b005eafa6a03d5bffccf4d517f -    58,891 -   ✅\n",
      "exit       - 0x59d6a30aaac8be7d6a3aa9c6c90d334310cc7159c0247729295076bbf00562e9 -    58,891 -   ✅\n",
      "exit       - 0x21073e5574691ad574555d988cbffb2dc18ee8060b6be42c3c918d0c920b49f6 -    58,891 -   ✅\n",
      "exit       - 0x81b54f124bbe47cbc2600eae17367491a0eab08d81c496c8ba45bdbdc6eedb9b -    58,891 -   ✅\n",
      "exit       - 0xb6da2a0cda2f8867adaea778e1aecb87246fa586769dc7a06949edf092d82f7d -    58,891 -   ✅\n",
      "exit       - 0x6672ab530ada52df3bbd2d653792e274849a5f5e6dd3d20cf4e26b471ecc0c99 -    58,891 -   ✅\n"
     ]
    }
   ],
   "execution_count": 10
  },
  {
   "cell_type": "markdown",
   "id": "0eb9e9a8",
   "metadata": {},
   "source": [
    "### Contracts and Paricipants (Latex format)"
   ]
  },
  {
   "cell_type": "code",
   "id": "2cb3eaf4",
   "metadata": {
    "ExecuteTime": {
     "end_time": "2025-10-24T13:25:24.716330Z",
     "start_time": "2025-10-24T13:25:24.690170Z"
    }
   },
   "source": [
    "print(\"\\\\renewcommand{\\\\arraystretch}{1.3}\")\n",
    "print(\"\\\\begin{center}\")\n",
    "print(\"\\\\begin{tabular}{ c|c }\")\n",
    "\n",
    "print(\"\\\\footnotesize{\"+\"Contract} &\"+\" \\\\footnotesize{Address (Ropsten Testnet)} \\\\\\ \")\n",
    "print(\"\\\\hline\")\n",
    "print(\"\\\\footnotesize{\"+\"Ma-1} & \\\\footnotesize{\"+\"{}\".format(manager.manager.address)+\"} \\\\\\ \")\n",
    "print(\"\\\\footnotesize{\"+\"Ch-1} & \\\\footnotesize{\"+\"{}\".format(model.model.address)+\"} \\\\\\ \")\n",
    "for i, p in enumerate(model.pytorch_model.participants[:-1] + \\\n",
    "                           model.pytorch_model.disqualified + \\\n",
    "                           [model.pytorch_model.participants[-1]]):\n",
    "    print(\"\\\\footnotesize{\"+\"P-{}\".format(i+1)+\"}  & \\\\footnotesize{\"+\"{}\".format(p.address)+\"} \\\\\\ \")\n",
    "\n",
    "print(\"\\\\end{tabular}\")\n",
    "print(\"\\\\end{center}\")"
   ],
   "outputs": [
    {
     "name": "stdout",
     "output_type": "stream",
     "text": [
      "\\renewcommand{\\arraystretch}{1.3}\n",
      "\\begin{center}\n",
      "\\begin{tabular}{ c|c }\n",
      "\\footnotesize{Contract} & \\footnotesize{Address (Ropsten Testnet)} \\\\ \n",
      "\\hline\n",
      "\\footnotesize{Ma-1} & \\footnotesize{0x81EED4200c36934007d81c4B79b5A75c861d99B1} \\\\ \n",
      "\\footnotesize{Ch-1} & \\footnotesize{0xB7D8866341B1CA186af015CCe3b7578e8aB42a77} \\\\ \n",
      "\\footnotesize{P-1}  & \\footnotesize{0x09Ca61C7cb86d8DE76E3E637a8e3CfA481Ecef99} \\\\ \n",
      "\\footnotesize{P-2}  & \\footnotesize{0xe7F50AB14f0fb1E140bbb7f03655dc9C922F5980} \\\\ \n",
      "\\footnotesize{P-3}  & \\footnotesize{0xCe57EAfD18afA405A26BCFa6F2B4fB872A62Dc78} \\\\ \n",
      "\\footnotesize{P-4}  & \\footnotesize{0xC0148dFB7E61c11e84225881723A8bEB45c7002A} \\\\ \n",
      "\\footnotesize{P-5}  & \\footnotesize{0xa46d9Edaac1d2153168Cdf7e525880bC53827109} \\\\ \n",
      "\\footnotesize{P-6}  & \\footnotesize{0xE6d028402A486980cf97375BD9A6C0aBDa5d089c} \\\\ \n",
      "\\end{tabular}\n",
      "\\end{center}\n"
     ]
    }
   ],
   "execution_count": 11
  },
  {
   "cell_type": "markdown",
   "id": "faceea01",
   "metadata": {},
   "source": [
    "### Table with Gas Info (Latex format)"
   ]
  },
  {
   "cell_type": "code",
   "id": "e1508778",
   "metadata": {
    "scrolled": true,
    "ExecuteTime": {
     "end_time": "2025-10-24T13:25:24.763977Z",
     "start_time": "2025-10-24T13:25:24.738249Z"
    }
   },
   "source": [
    "reg = model.gas_register, \"register\"\n",
    "fed = model.gas_feedback, \"feedback\"\n",
    "clo = model.gas_close, \"settle round\"\n",
    "slo = model.gas_slot, \"reserve slot\"\n",
    "wei = model.gas_weights, \"provide weights**\"\n",
    "dep = manager.gas_deploy, \"deployment\"\n",
    "dep = manager.gas_deploy, \"deployment\"\n",
    "ext = model.gas_exit, \"exit\"\n",
    "\n",
    "tot  = 0\n",
    "tot2 = 0\n",
    "\n",
    "print(\"\\\\begin{tabular}{ c|c|c }\\n\\hline\\nFunction & Gas Amount & Gas Costs*\\\\\\ \\n\\hline\")\n",
    "for i, f in [reg,slo,wei,fed,clo]:\n",
    "    print(\"{} & {:,.0f} & {:.5f} ETH \\\\\\ \".format(f, sum(i)/len(i), sum(i)/len(i) * 20e9 / 1e18 ))\n",
    "    tot += sum(i)/len(i)\n",
    "    if i != clo[0]:\n",
    "            tot2 += sum(i)/len(i)\n",
    "        \n",
    "print(\"\\hline\\n\\hline\")\n",
    "print(\"complete round & {:,.0f} & {:.5f} ETH \\\\\\ \".format(tot, tot * 20e9 / 1e18))\n",
    "print(\"\\hline\\n\\end{tabular}\")"
   ],
   "outputs": [
    {
     "name": "stdout",
     "output_type": "stream",
     "text": [
      "\\begin{tabular}{ c|c|c }\n",
      "\\hline\n",
      "Function & Gas Amount & Gas Costs*\\\\ \n",
      "\\hline\n",
      "register & 127,396 & 0.00255 ETH \\\\ \n",
      "reserve slot & 51,184 & 0.00102 ETH \\\\ \n",
      "provide weights** & 60,729 & 0.00121 ETH \\\\ \n",
      "feedback & 280,953 & 0.00562 ETH \\\\ \n",
      "settle round & 557,493 & 0.01115 ETH \\\\ \n",
      "\\hline\n",
      "\\hline\n",
      "complete round & 1,077,755 & 0.02156 ETH \\\\ \n",
      "\\hline\n",
      "\\end{tabular}\n"
     ]
    }
   ],
   "execution_count": 12
  }
 ],
 "metadata": {
  "kernelspec": {
   "display_name": "Python 3 (ipykernel)",
   "language": "python",
   "name": "python3"
  },
  "language_info": {
   "codemirror_mode": {
    "name": "ipython",
    "version": 3
   },
   "file_extension": ".py",
   "mimetype": "text/x-python",
   "name": "python",
   "nbconvert_exporter": "python",
   "pygments_lexer": "ipython3",
   "version": "3.9.13"
  }
 },
 "nbformat": 4,
 "nbformat_minor": 5
}
