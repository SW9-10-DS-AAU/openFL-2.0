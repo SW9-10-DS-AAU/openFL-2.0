{
 "cells": [
  {
   "cell_type": "markdown",
   "id": "19fbca22",
   "metadata": {},
   "source": [
    "# OpenFL - Decentralized Federated Learning on Public Blockchain Systems\n",
    "### by Anton Wahrstätter, Sajjad Khan & Davor Svetinovic"
   ]
  },
  {
   "metadata": {},
   "cell_type": "markdown",
   "source": "",
   "id": "f7b64cc5830f19b1"
  },
  {
   "cell_type": "markdown",
   "id": "f54f907f",
   "metadata": {},
   "source": [
    "## MNIST Dataset simulation\n"
   ]
  },
  {
   "cell_type": "markdown",
   "id": "519ef30a",
   "metadata": {},
   "source": [
    "### Contents\n",
    "* [Experiment](#Deploy-Challenger-Contract-and-Start-Experiment)\n",
    "* [Visualization](#Visualize-Experiment)\n",
    "* [Individual Transactions](#Transactions)\n",
    "* [Contracts and Participants](#Contracts-and-Paricipants-(Latex-format))\n",
    "* [Gas Costs](#Table-with-Gas-Info-(Latex-format))"
   ]
  },
  {
   "cell_type": "markdown",
   "id": "8f2def92",
   "metadata": {},
   "source": [
    "### Imports\n",
    "The imports consist of the following:\n",
    "* PytorchModel - which is the wrapper for the Convolutional Network\n",
    "* FLManager - the wrapper for the Manager contract\n",
    "* FLChallenge - the wrapper for the Challenge contract"
   ]
  },
  {
   "cell_type": "code",
   "id": "bf64eb56",
   "metadata": {
    "ExecuteTime": {
     "end_time": "2025-10-29T11:34:50.468266Z",
     "start_time": "2025-10-29T11:34:46.052497Z"
    }
   },
   "source": [
    "from pytorch_model import PytorchModel\n",
    "from smartcontracts import FLManager, FLChallenge"
   ],
   "outputs": [],
   "execution_count": 1
  },
  {
   "cell_type": "markdown",
   "id": "7a804275",
   "metadata": {},
   "source": [
    "### Select data set"
   ]
  },
  {
   "cell_type": "code",
   "id": "2f077a2c",
   "metadata": {
    "ExecuteTime": {
     "end_time": "2025-10-29T11:34:50.483912Z",
     "start_time": "2025-10-29T11:34:50.468770Z"
    }
   },
   "source": [
    "#DATASET = \"cifar-10\"\n",
    "DATASET = \"mnist\""
   ],
   "outputs": [],
   "execution_count": 2
  },
  {
   "cell_type": "markdown",
   "id": "4b9f3ca4",
   "metadata": {},
   "source": [
    "### RPC Provider"
   ]
  },
  {
   "cell_type": "markdown",
   "id": "d9ab955e",
   "metadata": {},
   "source": [
    "The RPC provides the connection to the respective blockchain, for example Ethereum or the Robsten testnet."
   ]
  },
  {
   "cell_type": "code",
   "id": "8671c69b",
   "metadata": {
    "ExecuteTime": {
     "end_time": "2025-10-29T11:34:50.499157Z",
     "start_time": "2025-10-29T11:34:50.484967Z"
    }
   },
   "source": [
    "with open(\"rpc_endpoint.txt\", \"r\") as file:\n",
    "    RPC_ENDPOINT = file.read()"
   ],
   "outputs": [],
   "execution_count": 3
  },
  {
   "cell_type": "markdown",
   "id": "dae39685",
   "metadata": {},
   "source": [
    "### Configurations"
   ]
  },
  {
   "cell_type": "code",
   "id": "7593306b",
   "metadata": {
    "ExecuteTime": {
     "end_time": "2025-10-29T11:34:50.514360Z",
     "start_time": "2025-10-29T11:34:50.501204Z"
    }
   },
   "source": [
    "NUMBER_OF_GOOD_CONTRIBUTORS = 4\n",
    "NUMBER_OF_BAD_CONTRIBUTORS = 1\n",
    "NUMBER_OF_FREERIDER_CONTRIBUTORS = 1\n",
    "NUMBER_OF_INACTIVE_CONTRIBUTORS = 0\n",
    "\n",
    "REWARD = int(1e18) # 1 ETH\n",
    "MINIMUM_ROUNDS = 3 \n",
    "MIN_BUY_IN = int(1e18) # 1 ETH\n",
    "MAX_BUY_IN = int(1.8e18) # 1.8 ETH\n",
    "STANDARD_BUY_IN = int(1e18) # 1 ETH\n",
    "EPOCHES = 1 #25\n",
    "BATCH_SIZE = 32 #128\n",
    "PUNISHFACTOR = 3\n",
    "FIRST_ROUND_FEE = 50 # 50% OF MIN DEPOSIT\n",
    "\n",
    "FORK = True # Fork Chain or communicate directly with RPC\n",
    "\n",
    "NUMBER_OF_CONTRIBUTERS = NUMBER_OF_GOOD_CONTRIBUTORS      + \\\n",
    "                         NUMBER_OF_BAD_CONTRIBUTORS       + \\\n",
    "                         NUMBER_OF_FREERIDER_CONTRIBUTORS + \\\n",
    "                         NUMBER_OF_INACTIVE_CONTRIBUTORS"
   ],
   "outputs": [],
   "execution_count": 4
  },
  {
   "cell_type": "code",
   "id": "e2cc8747",
   "metadata": {
    "ExecuteTime": {
     "end_time": "2025-10-29T11:34:50.529593Z",
     "start_time": "2025-10-29T11:34:50.515398Z"
    }
   },
   "source": [
    "# Only for the real-net simulation\n",
    "# In order to use a non-locally forked blockchain, \n",
    "# private keys are required to unlock accounts\n",
    "if FORK == False:\n",
    "    from web3 import Web3\n",
    "    w3 = Web3(Web3.HTTPProvider(RPC_ENDPOINT))\n",
    "    PRIVKEYS = []\n",
    "    with open(\"private_keys.txt\", \"r\") as file:\n",
    "        for f in file:\n",
    "            PRIVKEYS.append(f.split(\":\")[0])\n",
    "\n",
    "    PRIVKEYS = [w3.eth.account.privateKeyToAccount(i) for i in PRIVKEYS]\n",
    "else:\n",
    "    PRIVKEYS = None"
   ],
   "outputs": [],
   "execution_count": 5
  },
  {
   "cell_type": "markdown",
   "id": "e878d441",
   "metadata": {},
   "source": [
    "### Initialized Deep Learning Model and add Participants"
   ]
  },
  {
   "cell_type": "code",
   "id": "86f3ac59",
   "metadata": {
    "scrolled": false,
    "ExecuteTime": {
     "end_time": "2025-10-29T11:34:52.788852Z",
     "start_time": "2025-10-29T11:34:50.531810Z"
    }
   },
   "source": [
    "pytorch_model = PytorchModel(DATASET, \n",
    "                             NUMBER_OF_GOOD_CONTRIBUTORS, \n",
    "                             NUMBER_OF_CONTRIBUTERS, \n",
    "                             EPOCHES, \n",
    "                             BATCH_SIZE, \n",
    "                             STANDARD_BUY_IN,\n",
    "                             MAX_BUY_IN)\n",
    "\n",
    "\n",
    "for i in range(NUMBER_OF_BAD_CONTRIBUTORS):\n",
    "    pytorch_model.add_participant(\"bad\",3)\n",
    "\n",
    "for i in range(NUMBER_OF_FREERIDER_CONTRIBUTORS):\n",
    "    pytorch_model.add_participant(\"freerider\",1)\n",
    "    \n",
    "for i in range(NUMBER_OF_INACTIVE_CONTRIBUTORS):\n",
    "    pytorch_model.add_participant(\"inactive\",1)"
   ],
   "outputs": [
    {
     "name": "stdout",
     "output_type": "stream",
     "text": [
      "Data Loaded:\n",
      "Nr. of images for training: 60,000\n",
      "Nr. of images for testing:  10,000\n",
      "\n",
      "===================================================================================\n",
      "Pytorch Model created:\n",
      "\n",
      "Net_MNIST(\n",
      "  (conv1): Conv2d(1, 32, kernel_size=(5, 5), stride=(1, 1), padding=(2, 2))\n",
      "  (conv2): Conv2d(32, 64, kernel_size=(5, 5), stride=(1, 1), padding=(2, 2))\n",
      "  (fc1): Linear(in_features=3136, out_features=1024, bias=True)\n",
      "  (fc2): Linear(in_features=1024, out_features=10, bias=True)\n",
      ")\n",
      "\n",
      "===================================================================================\n",
      "Participant added: \u001B[1m\u001B[32mGood\u001B[0m \u001B[1m\u001B[32mUser\u001B[0m\n",
      "Participant added: \u001B[1m\u001B[32mGood\u001B[0m \u001B[1m\u001B[32mUser\u001B[0m\n",
      "Participant added: \u001B[1m\u001B[32mGood\u001B[0m \u001B[1m\u001B[32mUser\u001B[0m\n",
      "Participant added: \u001B[1m\u001B[32mGood\u001B[0m \u001B[1m\u001B[32mUser\u001B[0m\n",
      "Participant added: \u001B[1m\u001B[31mBad\u001B[0m \u001B[1m\u001B[31mUser\u001B[0m\n",
      "Participant added: \u001B[1m\u001B[31mFreerider\u001B[0m \u001B[1m\u001B[31mUser\u001B[0m\n"
     ]
    }
   ],
   "execution_count": 6
  },
  {
   "cell_type": "markdown",
   "id": "58663741",
   "metadata": {},
   "source": [
    "### Initialize and Deploy Manager Contract"
   ]
  },
  {
   "cell_type": "code",
   "id": "3a4d0bac",
   "metadata": {
    "ExecuteTime": {
     "end_time": "2025-10-29T11:34:53.880876Z",
     "start_time": "2025-10-29T11:34:52.789896Z"
    }
   },
   "source": [
    "manager = FLManager(pytorch_model, True).init(NUMBER_OF_GOOD_CONTRIBUTORS,\n",
    "                                              NUMBER_OF_BAD_CONTRIBUTORS,\n",
    "                                              NUMBER_OF_FREERIDER_CONTRIBUTORS,\n",
    "                                              NUMBER_OF_INACTIVE_CONTRIBUTORS,\n",
    "                                              MINIMUM_ROUNDS,\n",
    "                                              RPC_ENDPOINT,\n",
    "                                              FORK,\n",
    "                                              PRIVKEYS)\n",
    "\n",
    "manager.buildContract()"
   ],
   "outputs": [
    {
     "name": "stdout",
     "output_type": "stream",
     "text": [
      "Connected: True\n",
      "Client: Ganache/v7.7.3/EthereumJS TestRPC/v7.7.3/ethereum-js\n",
      "Chain ID: 1337\n",
      "Latest block: 221\n",
      "Accounts: ['0x0348988e49e227337B0DbC67873bd4989e399d11', '0x79c11f2c4C0be9bC90702c9AAb34025a3c7b6ea5', '0x7198289ba0621BD902681C925ea0c8E505d40Ae0']\n",
      "Default account: <web3._utils.empty.Empty object at 0x0000016F157F8E50>\n",
      "New Default account: 0x0348988e49e227337B0DbC67873bd4989e399d11\n",
      "Connected to Ethereum: \u001B[1m\u001B[32mTrue\u001B[0m\n",
      "initiated Ganache-Client @ Block Nr. 221\n",
      "\n",
      "Total Contributers:       6\n",
      "Good Contributers:        4 (67%)\n",
      "Malicious Contributers:   1 (17%)\n",
      "Freeriding Contributers:  1 (17%)\n",
      "Inactive Contributers:    0 (0%)\n",
      "Learning Rounds:          3\n",
      "-----------------------------------------------------------------------------------\n",
      "Account initiated @ Address 0x0348988e49e227337B0DbC6... with 96.0 ETH | FAIR USER\n",
      "Account initiated @ Address 0x79c11f2c4C0be9bC90702c9... with 100.0 ETH | FAIR USER\n",
      "Account initiated @ Address 0x7198289ba0621BD902681C9... with 100.5 ETH | FAIR USER\n",
      "Account initiated @ Address 0xee21f211e2510B73CBb88B0... with 100.6 ETH | FAIR USER\n",
      "Account initiated @ Address 0xBe944766Aed181fC2E8C6ca... with 97.4 ETH | MAL. USER\n",
      "Account initiated @ Address 0xfEcE9eBEA018321BCDf5977... with 95.4 ETH | FREE USER\n",
      "-----------------------------------------------------------------------------------\n",
      "\n",
      "Manager deployed  @ Address 0x031376bb01899C27115673F40043c9b19100A665 | 57e911...\n",
      "\n",
      "-----------------------------------------------------------------------------------\n"
     ]
    }
   ],
   "execution_count": 7
  },
  {
   "cell_type": "markdown",
   "id": "5c35c7ce",
   "metadata": {},
   "source": "### Deploy Challenger Contract and Start Experiment"
  },
  {
   "metadata": {
    "ExecuteTime": {
     "end_time": "2025-10-29T11:47:58.722485Z",
     "start_time": "2025-10-29T11:47:26.701455Z"
    }
   },
   "cell_type": "code",
   "source": [
    "configs = manager.deployChallengeContract(MIN_BUY_IN,\n",
    "                                          MAX_BUY_IN,\n",
    "                                          REWARD, \n",
    "                                          MINIMUM_ROUNDS,\n",
    "                                          PUNISHFACTOR,\n",
    "                                          FIRST_ROUND_FEE)\n",
    "\n",
    "model = FLChallenge(manager, \n",
    "                    configs,\n",
    "                    pytorch_model)\n",
    "\n",
    "\n",
    "model.simulate(rounds=MINIMUM_ROUNDS)"
   ],
   "id": "3d3e5f91",
   "outputs": [
    {
     "name": "stdout",
     "output_type": "stream",
     "text": [
      "\u001B[1mStarting simulation...\u001B[0m\n",
      "\u001B[1m-----------------------------------------------------------------------------------\u001B[0m\n",
      "\n",
      "Model deployed    @ Address 0x68198876deA9bd31e10328E303e1813a1ce27894 | 031240...\n",
      "\n",
      "-----------------------------------------------------------------------------------\n",
      "Account registered: 0x0348988e49e227... | 031240... | 1,798,157,960,253,561,600 WEI\n",
      "-----------------------------------------------------------------------------------\n",
      "\u001B[1mRound 4 starts...\u001B[0m\n",
      "\u001B[1m\n",
      "=========================== FEDERATED LEARNING START ==============================\u001B[0m\n",
      "Account training:   0x0348988e49e227... | Epoche  1 | Accuracy  87 % | Loss  13.46\n",
      "\u001B[32mAccount testing:    0x0348988e49e227... | Epoche  1 | Accuracy  85 % | Loss 145.78\u001B[0m\n",
      "-----------------------------------------------------------------------------------\n",
      "Account training:   0x79c11f2c4C0be9... | Epoche  1 | Accuracy  85 % | Loss  15.53\n",
      "\u001B[32mAccount testing:    0x79c11f2c4C0be9... | Epoche  1 | Accuracy  84 % | Loss 154.99\u001B[0m\n",
      "-----------------------------------------------------------------------------------\n",
      "Account training:   0x7198289ba0621B... | Epoche  1 | Accuracy  85 % | Loss  15.36\n",
      "\u001B[32mAccount testing:    0x7198289ba0621B... | Epoche  1 | Accuracy  86 % | Loss 145.25\u001B[0m\n",
      "-----------------------------------------------------------------------------------\n",
      "Account training:   0xee21f211e2510B... | Epoche  1 | Accuracy  82 % | Loss  17.96\n",
      "\u001B[32mAccount testing:    0xee21f211e2510B... | Epoche  1 | Accuracy  84 % | Loss 163.51\u001B[0m\n",
      "-----------------------------------------------------------------------------------\n",
      "Account malicious:  0xBe944766Aed181... | Epoche -- | Accuracy  84 % | Loss  17.13\n",
      "Account freeriding: 0xfEcE9eBEA01832... | Epoche -- | Accuracy  83 % | Loss  17.55\n",
      "\u001B[1m=========================== FEDERATED LEARNING END ================================\n",
      "\u001B[0m\n",
      "\u001B[31mAddress 0xBe944766Aed181... going to provide random weights\u001B[0m\n",
      "Account testing:    0xBe944766Aed181... |  Testing  | Accuracy  11 % | Loss ∞\n",
      "\n",
      "\u001B[31mAddress 0xfEcE9eBEA01832... going to add random noise to weights\u001B[0m\n",
      "Account testing:    0xfEcE9eBEA01832... |  Testing  | Accuracy  82 % | Loss ∞\n",
      "\n",
      "Slot registered:    0x0348988e49e227... | 6a7ef3... | 1,798,157,960,253,561,600 WEI\n"
     ]
    },
    {
     "ename": "ContractLogicError",
     "evalue": "('execution reverted: VM Exception while processing transaction: revert SNR', {'hash': None, 'programCounter': 7302, 'result': '0x08c379a000000000000000000000000000000000000000000000000000000000000000200000000000000000000000000000000000000000000000000000000000000003534e520000000000000000000000000000000000000000000000000000000000', 'reason': 'SNR', 'message': 'revert'})",
     "output_type": "error",
     "traceback": [
      "\u001B[1;31m---------------------------------------------------------------------------\u001B[0m",
      "\u001B[1;31mContractLogicError\u001B[0m                        Traceback (most recent call last)",
      "Cell \u001B[1;32mIn[13], line 13\u001B[0m\n\u001B[0;32m      1\u001B[0m configs \u001B[38;5;241m=\u001B[39m manager\u001B[38;5;241m.\u001B[39mdeployChallengeContract(MIN_BUY_IN,\n\u001B[0;32m      2\u001B[0m                                           MAX_BUY_IN,\n\u001B[0;32m      3\u001B[0m                                           REWARD, \n\u001B[0;32m      4\u001B[0m                                           MINIMUM_ROUNDS,\n\u001B[0;32m      5\u001B[0m                                           PUNISHFACTOR,\n\u001B[0;32m      6\u001B[0m                                           FIRST_ROUND_FEE)\n\u001B[0;32m      8\u001B[0m model \u001B[38;5;241m=\u001B[39m FLChallenge(manager, \n\u001B[0;32m      9\u001B[0m                     configs,\n\u001B[0;32m     10\u001B[0m                     pytorch_model)\n\u001B[1;32m---> 13\u001B[0m \u001B[43mmodel\u001B[49m\u001B[38;5;241;43m.\u001B[39;49m\u001B[43msimulate\u001B[49m\u001B[43m(\u001B[49m\u001B[43mrounds\u001B[49m\u001B[38;5;241;43m=\u001B[39;49m\u001B[43mMINIMUM_ROUNDS\u001B[49m\u001B[43m)\u001B[49m\n",
      "File \u001B[1;32m~\\OneDrive\\Skrivebord\\Github\\openFL-2.0\\api\\smartcontracts.py:851\u001B[0m, in \u001B[0;36mFLChallenge.simulate\u001B[1;34m(self, rounds)\u001B[0m\n\u001B[0;32m    848\u001B[0m \u001B[38;5;28mself\u001B[39m\u001B[38;5;241m.\u001B[39mpytorch_model\u001B[38;5;241m.\u001B[39mlet_malicious_users_do_their_work()\n\u001B[0;32m    849\u001B[0m \u001B[38;5;28mself\u001B[39m\u001B[38;5;241m.\u001B[39mpytorch_model\u001B[38;5;241m.\u001B[39mlet_freerider_users_do_their_work()\n\u001B[1;32m--> 851\u001B[0m \u001B[38;5;28;43mself\u001B[39;49m\u001B[38;5;241;43m.\u001B[39;49m\u001B[43muserRegisterSlot\u001B[49m\u001B[43m(\u001B[49m\u001B[43m)\u001B[49m\n\u001B[0;32m    853\u001B[0m \u001B[38;5;28mself\u001B[39m\u001B[38;5;241m.\u001B[39musersProvideHashedWeights()\n\u001B[0;32m    855\u001B[0m \u001B[38;5;28mself\u001B[39m\u001B[38;5;241m.\u001B[39mpytorch_model\u001B[38;5;241m.\u001B[39mexchange_models()\n",
      "File \u001B[1;32m~\\OneDrive\\Skrivebord\\Github\\openFL-2.0\\api\\smartcontracts.py:715\u001B[0m, in \u001B[0;36mFLChallenge.userRegisterSlot\u001B[1;34m(self)\u001B[0m\n\u001B[0;32m    713\u001B[0m \u001B[38;5;28;01mif\u001B[39;00m \u001B[38;5;28mself\u001B[39m\u001B[38;5;241m.\u001B[39mfork:\n\u001B[0;32m    714\u001B[0m     tx \u001B[38;5;241m=\u001B[39m \u001B[38;5;28msuper\u001B[39m()\u001B[38;5;241m.\u001B[39mbuildTx(acc\u001B[38;5;241m.\u001B[39maddress, \u001B[38;5;28mself\u001B[39m\u001B[38;5;241m.\u001B[39mmodelAddress, \u001B[38;5;241m0\u001B[39m)\n\u001B[1;32m--> 715\u001B[0m     txHash \u001B[38;5;241m=\u001B[39m \u001B[38;5;28;43mself\u001B[39;49m\u001B[38;5;241;43m.\u001B[39;49m\u001B[43mmodel\u001B[49m\u001B[38;5;241;43m.\u001B[39;49m\u001B[43mfunctions\u001B[49m\u001B[38;5;241;43m.\u001B[39;49m\u001B[43mregisterSlot\u001B[49m\u001B[43m(\u001B[49m\u001B[43mreservation\u001B[49m\u001B[43m)\u001B[49m\u001B[38;5;241;43m.\u001B[39;49m\u001B[43mtransact\u001B[49m\u001B[43m(\u001B[49m\u001B[43mtx\u001B[49m\u001B[43m)\u001B[49m\n\u001B[0;32m    716\u001B[0m \u001B[38;5;28;01melse\u001B[39;00m:          \n\u001B[0;32m    717\u001B[0m     nonce \u001B[38;5;241m=\u001B[39m w3\u001B[38;5;241m.\u001B[39meth\u001B[38;5;241m.\u001B[39mget_transaction_count(acc\u001B[38;5;241m.\u001B[39maddress) \n",
      "File \u001B[1;32m~\\OneDrive\\Skrivebord\\Github\\openFL-2.0\\.venv\\lib\\site-packages\\web3\\contract\\contract.py:311\u001B[0m, in \u001B[0;36mContractFunction.transact\u001B[1;34m(self, transaction)\u001B[0m\n\u001B[0;32m    308\u001B[0m setup_transaction \u001B[38;5;241m=\u001B[39m \u001B[38;5;28mself\u001B[39m\u001B[38;5;241m.\u001B[39m_transact(transaction)\n\u001B[0;32m    309\u001B[0m abi_element_identifier \u001B[38;5;241m=\u001B[39m abi_to_signature(\u001B[38;5;28mself\u001B[39m\u001B[38;5;241m.\u001B[39mabi)\n\u001B[1;32m--> 311\u001B[0m \u001B[38;5;28;01mreturn\u001B[39;00m transact_with_contract_function(\n\u001B[0;32m    312\u001B[0m     \u001B[38;5;28mself\u001B[39m\u001B[38;5;241m.\u001B[39maddress,\n\u001B[0;32m    313\u001B[0m     \u001B[38;5;28mself\u001B[39m\u001B[38;5;241m.\u001B[39mw3,\n\u001B[0;32m    314\u001B[0m     abi_element_identifier,\n\u001B[0;32m    315\u001B[0m     setup_transaction,\n\u001B[0;32m    316\u001B[0m     \u001B[38;5;28mself\u001B[39m\u001B[38;5;241m.\u001B[39mcontract_abi,\n\u001B[0;32m    317\u001B[0m     \u001B[38;5;28mself\u001B[39m\u001B[38;5;241m.\u001B[39mabi,\n\u001B[0;32m    318\u001B[0m     \u001B[38;5;241m*\u001B[39m\u001B[38;5;28mself\u001B[39m\u001B[38;5;241m.\u001B[39margs \u001B[38;5;129;01mor\u001B[39;00m (),\n\u001B[0;32m    319\u001B[0m     \u001B[38;5;241m*\u001B[39m\u001B[38;5;241m*\u001B[39m\u001B[38;5;28mself\u001B[39m\u001B[38;5;241m.\u001B[39mkwargs \u001B[38;5;129;01mor\u001B[39;00m {},\n\u001B[0;32m    320\u001B[0m )\n",
      "File \u001B[1;32m~\\OneDrive\\Skrivebord\\Github\\openFL-2.0\\.venv\\lib\\site-packages\\web3\\contract\\utils.py:265\u001B[0m, in \u001B[0;36mtransact_with_contract_function\u001B[1;34m(address, w3, abi_element_identifier, transaction, contract_abi, fn_abi, *args, **kwargs)\u001B[0m\n\u001B[0;32m    250\u001B[0m \u001B[38;5;250m\u001B[39m\u001B[38;5;124;03m\"\"\"\u001B[39;00m\n\u001B[0;32m    251\u001B[0m \u001B[38;5;124;03mHelper function for interacting with a contract function by sending a\u001B[39;00m\n\u001B[0;32m    252\u001B[0m \u001B[38;5;124;03mtransaction.\u001B[39;00m\n\u001B[0;32m    253\u001B[0m \u001B[38;5;124;03m\"\"\"\u001B[39;00m\n\u001B[0;32m    254\u001B[0m transact_transaction \u001B[38;5;241m=\u001B[39m prepare_transaction(\n\u001B[0;32m    255\u001B[0m     address,\n\u001B[0;32m    256\u001B[0m     w3,\n\u001B[1;32m   (...)\u001B[0m\n\u001B[0;32m    262\u001B[0m     fn_kwargs\u001B[38;5;241m=\u001B[39mkwargs,\n\u001B[0;32m    263\u001B[0m )\n\u001B[1;32m--> 265\u001B[0m txn_hash \u001B[38;5;241m=\u001B[39m \u001B[43mw3\u001B[49m\u001B[38;5;241;43m.\u001B[39;49m\u001B[43meth\u001B[49m\u001B[38;5;241;43m.\u001B[39;49m\u001B[43msend_transaction\u001B[49m\u001B[43m(\u001B[49m\u001B[43mtransact_transaction\u001B[49m\u001B[43m)\u001B[49m\n\u001B[0;32m    266\u001B[0m \u001B[38;5;28;01mreturn\u001B[39;00m txn_hash\n",
      "File \u001B[1;32m~\\OneDrive\\Skrivebord\\Github\\openFL-2.0\\.venv\\lib\\site-packages\\web3\\eth\\eth.py:387\u001B[0m, in \u001B[0;36mEth.send_transaction\u001B[1;34m(self, transaction)\u001B[0m\n\u001B[0;32m    386\u001B[0m \u001B[38;5;28;01mdef\u001B[39;00m\u001B[38;5;250m \u001B[39m\u001B[38;5;21msend_transaction\u001B[39m(\u001B[38;5;28mself\u001B[39m, transaction: TxParams) \u001B[38;5;241m-\u001B[39m\u001B[38;5;241m>\u001B[39m HexBytes:\n\u001B[1;32m--> 387\u001B[0m     \u001B[38;5;28;01mreturn\u001B[39;00m \u001B[38;5;28;43mself\u001B[39;49m\u001B[38;5;241;43m.\u001B[39;49m\u001B[43m_send_transaction\u001B[49m\u001B[43m(\u001B[49m\u001B[43mtransaction\u001B[49m\u001B[43m)\u001B[49m\n",
      "File \u001B[1;32m~\\OneDrive\\Skrivebord\\Github\\openFL-2.0\\.venv\\lib\\site-packages\\web3\\module.py:112\u001B[0m, in \u001B[0;36mretrieve_blocking_method_call_fn.<locals>.caller\u001B[1;34m(*args, **kwargs)\u001B[0m\n\u001B[0;32m    105\u001B[0m     \u001B[38;5;28;01mreturn\u001B[39;00m LogFilter(eth_module\u001B[38;5;241m=\u001B[39mmodule, filter_id\u001B[38;5;241m=\u001B[39merr\u001B[38;5;241m.\u001B[39mfilter_id)\n\u001B[0;32m    107\u001B[0m (\n\u001B[0;32m    108\u001B[0m     result_formatters,\n\u001B[0;32m    109\u001B[0m     error_formatters,\n\u001B[0;32m    110\u001B[0m     null_result_formatters,\n\u001B[0;32m    111\u001B[0m ) \u001B[38;5;241m=\u001B[39m response_formatters\n\u001B[1;32m--> 112\u001B[0m result \u001B[38;5;241m=\u001B[39m \u001B[43mw3\u001B[49m\u001B[38;5;241;43m.\u001B[39;49m\u001B[43mmanager\u001B[49m\u001B[38;5;241;43m.\u001B[39;49m\u001B[43mrequest_blocking\u001B[49m\u001B[43m(\u001B[49m\n\u001B[0;32m    113\u001B[0m \u001B[43m    \u001B[49m\u001B[43mmethod_str\u001B[49m\u001B[43m,\u001B[49m\u001B[43m \u001B[49m\u001B[43mparams\u001B[49m\u001B[43m,\u001B[49m\u001B[43m \u001B[49m\u001B[43merror_formatters\u001B[49m\u001B[43m,\u001B[49m\u001B[43m \u001B[49m\u001B[43mnull_result_formatters\u001B[49m\n\u001B[0;32m    114\u001B[0m \u001B[43m\u001B[49m\u001B[43m)\u001B[49m\n\u001B[0;32m    115\u001B[0m \u001B[38;5;28;01mreturn\u001B[39;00m apply_result_formatters(result_formatters, result)\n",
      "File \u001B[1;32m~\\OneDrive\\Skrivebord\\Github\\openFL-2.0\\.venv\\lib\\site-packages\\web3\\manager.py:232\u001B[0m, in \u001B[0;36mRequestManager.request_blocking\u001B[1;34m(self, method, params, error_formatters, null_result_formatters)\u001B[0m\n\u001B[0;32m    222\u001B[0m \u001B[38;5;28;01mdef\u001B[39;00m\u001B[38;5;250m \u001B[39m\u001B[38;5;21mrequest_blocking\u001B[39m(\n\u001B[0;32m    223\u001B[0m     \u001B[38;5;28mself\u001B[39m,\n\u001B[0;32m    224\u001B[0m     method: Union[RPCEndpoint, Callable[\u001B[38;5;241m.\u001B[39m\u001B[38;5;241m.\u001B[39m\u001B[38;5;241m.\u001B[39m, RPCEndpoint]],\n\u001B[1;32m   (...)\u001B[0m\n\u001B[0;32m    227\u001B[0m     null_result_formatters: Optional[Callable[\u001B[38;5;241m.\u001B[39m\u001B[38;5;241m.\u001B[39m\u001B[38;5;241m.\u001B[39m, Any]] \u001B[38;5;241m=\u001B[39m \u001B[38;5;28;01mNone\u001B[39;00m,\n\u001B[0;32m    228\u001B[0m ) \u001B[38;5;241m-\u001B[39m\u001B[38;5;241m>\u001B[39m Any:\n\u001B[0;32m    229\u001B[0m \u001B[38;5;250m    \u001B[39m\u001B[38;5;124;03m\"\"\"\u001B[39;00m\n\u001B[0;32m    230\u001B[0m \u001B[38;5;124;03m    Make a synchronous request using the provider\u001B[39;00m\n\u001B[0;32m    231\u001B[0m \u001B[38;5;124;03m    \"\"\"\u001B[39;00m\n\u001B[1;32m--> 232\u001B[0m     response \u001B[38;5;241m=\u001B[39m \u001B[38;5;28;43mself\u001B[39;49m\u001B[38;5;241;43m.\u001B[39;49m\u001B[43m_make_request\u001B[49m\u001B[43m(\u001B[49m\u001B[43mmethod\u001B[49m\u001B[43m,\u001B[49m\u001B[43m \u001B[49m\u001B[43mparams\u001B[49m\u001B[43m)\u001B[49m\n\u001B[0;32m    233\u001B[0m     \u001B[38;5;28;01mreturn\u001B[39;00m \u001B[38;5;28mself\u001B[39m\u001B[38;5;241m.\u001B[39mformatted_response(\n\u001B[0;32m    234\u001B[0m         response, params, error_formatters, null_result_formatters\n\u001B[0;32m    235\u001B[0m     )\n",
      "File \u001B[1;32m~\\OneDrive\\Skrivebord\\Github\\openFL-2.0\\.venv\\lib\\site-packages\\web3\\manager.py:163\u001B[0m, in \u001B[0;36mRequestManager._make_request\u001B[1;34m(self, method, params)\u001B[0m\n\u001B[0;32m    159\u001B[0m request_func \u001B[38;5;241m=\u001B[39m provider\u001B[38;5;241m.\u001B[39mrequest_func(\n\u001B[0;32m    160\u001B[0m     cast(\u001B[38;5;124m\"\u001B[39m\u001B[38;5;124mWeb3\u001B[39m\u001B[38;5;124m\"\u001B[39m, \u001B[38;5;28mself\u001B[39m\u001B[38;5;241m.\u001B[39mw3), cast(\u001B[38;5;124m\"\u001B[39m\u001B[38;5;124mMiddlewareOnion\u001B[39m\u001B[38;5;124m\"\u001B[39m, \u001B[38;5;28mself\u001B[39m\u001B[38;5;241m.\u001B[39mmiddleware_onion)\n\u001B[0;32m    161\u001B[0m )\n\u001B[0;32m    162\u001B[0m \u001B[38;5;28mself\u001B[39m\u001B[38;5;241m.\u001B[39mlogger\u001B[38;5;241m.\u001B[39mdebug(\u001B[38;5;124m\"\u001B[39m\u001B[38;5;124mMaking request. Method: \u001B[39m\u001B[38;5;132;01m%s\u001B[39;00m\u001B[38;5;124m\"\u001B[39m, method)\n\u001B[1;32m--> 163\u001B[0m \u001B[38;5;28;01mreturn\u001B[39;00m \u001B[43mrequest_func\u001B[49m\u001B[43m(\u001B[49m\u001B[43mmethod\u001B[49m\u001B[43m,\u001B[49m\u001B[43m \u001B[49m\u001B[43mparams\u001B[49m\u001B[43m)\u001B[49m\n",
      "File \u001B[1;32m~\\OneDrive\\Skrivebord\\Github\\openFL-2.0\\.venv\\lib\\site-packages\\web3\\middleware\\base.py:56\u001B[0m, in \u001B[0;36mWeb3Middleware.wrap_make_request.<locals>.middleware\u001B[1;34m(method, params)\u001B[0m\n\u001B[0;32m     54\u001B[0m \u001B[38;5;28;01mdef\u001B[39;00m\u001B[38;5;250m \u001B[39m\u001B[38;5;21mmiddleware\u001B[39m(method: \u001B[38;5;124m\"\u001B[39m\u001B[38;5;124mRPCEndpoint\u001B[39m\u001B[38;5;124m\"\u001B[39m, params: Any) \u001B[38;5;241m-\u001B[39m\u001B[38;5;241m>\u001B[39m \u001B[38;5;124m\"\u001B[39m\u001B[38;5;124mRPCResponse\u001B[39m\u001B[38;5;124m\"\u001B[39m:\n\u001B[0;32m     55\u001B[0m     method, params \u001B[38;5;241m=\u001B[39m \u001B[38;5;28mself\u001B[39m\u001B[38;5;241m.\u001B[39mrequest_processor(method, params)\n\u001B[1;32m---> 56\u001B[0m     \u001B[38;5;28;01mreturn\u001B[39;00m \u001B[38;5;28mself\u001B[39m\u001B[38;5;241m.\u001B[39mresponse_processor(method, \u001B[43mmake_request\u001B[49m\u001B[43m(\u001B[49m\u001B[43mmethod\u001B[49m\u001B[43m,\u001B[49m\u001B[43m \u001B[49m\u001B[43mparams\u001B[49m\u001B[43m)\u001B[49m)\n",
      "File \u001B[1;32m~\\OneDrive\\Skrivebord\\Github\\openFL-2.0\\.venv\\lib\\site-packages\\web3\\middleware\\base.py:56\u001B[0m, in \u001B[0;36mWeb3Middleware.wrap_make_request.<locals>.middleware\u001B[1;34m(method, params)\u001B[0m\n\u001B[0;32m     54\u001B[0m \u001B[38;5;28;01mdef\u001B[39;00m\u001B[38;5;250m \u001B[39m\u001B[38;5;21mmiddleware\u001B[39m(method: \u001B[38;5;124m\"\u001B[39m\u001B[38;5;124mRPCEndpoint\u001B[39m\u001B[38;5;124m\"\u001B[39m, params: Any) \u001B[38;5;241m-\u001B[39m\u001B[38;5;241m>\u001B[39m \u001B[38;5;124m\"\u001B[39m\u001B[38;5;124mRPCResponse\u001B[39m\u001B[38;5;124m\"\u001B[39m:\n\u001B[0;32m     55\u001B[0m     method, params \u001B[38;5;241m=\u001B[39m \u001B[38;5;28mself\u001B[39m\u001B[38;5;241m.\u001B[39mrequest_processor(method, params)\n\u001B[1;32m---> 56\u001B[0m     \u001B[38;5;28;01mreturn\u001B[39;00m \u001B[38;5;28mself\u001B[39m\u001B[38;5;241m.\u001B[39mresponse_processor(method, \u001B[43mmake_request\u001B[49m\u001B[43m(\u001B[49m\u001B[43mmethod\u001B[49m\u001B[43m,\u001B[49m\u001B[43m \u001B[49m\u001B[43mparams\u001B[49m\u001B[43m)\u001B[49m)\n",
      "    \u001B[1;31m[... skipping similar frames: Web3Middleware.wrap_make_request.<locals>.middleware at line 56 (1 times)]\u001B[0m\n",
      "File \u001B[1;32m~\\OneDrive\\Skrivebord\\Github\\openFL-2.0\\.venv\\lib\\site-packages\\web3\\middleware\\base.py:56\u001B[0m, in \u001B[0;36mWeb3Middleware.wrap_make_request.<locals>.middleware\u001B[1;34m(method, params)\u001B[0m\n\u001B[0;32m     54\u001B[0m \u001B[38;5;28;01mdef\u001B[39;00m\u001B[38;5;250m \u001B[39m\u001B[38;5;21mmiddleware\u001B[39m(method: \u001B[38;5;124m\"\u001B[39m\u001B[38;5;124mRPCEndpoint\u001B[39m\u001B[38;5;124m\"\u001B[39m, params: Any) \u001B[38;5;241m-\u001B[39m\u001B[38;5;241m>\u001B[39m \u001B[38;5;124m\"\u001B[39m\u001B[38;5;124mRPCResponse\u001B[39m\u001B[38;5;124m\"\u001B[39m:\n\u001B[0;32m     55\u001B[0m     method, params \u001B[38;5;241m=\u001B[39m \u001B[38;5;28mself\u001B[39m\u001B[38;5;241m.\u001B[39mrequest_processor(method, params)\n\u001B[1;32m---> 56\u001B[0m     \u001B[38;5;28;01mreturn\u001B[39;00m \u001B[38;5;28mself\u001B[39m\u001B[38;5;241m.\u001B[39mresponse_processor(method, \u001B[43mmake_request\u001B[49m\u001B[43m(\u001B[49m\u001B[43mmethod\u001B[49m\u001B[43m,\u001B[49m\u001B[43m \u001B[49m\u001B[43mparams\u001B[49m\u001B[43m)\u001B[49m)\n",
      "File \u001B[1;32m~\\OneDrive\\Skrivebord\\Github\\openFL-2.0\\.venv\\lib\\site-packages\\web3\\middleware\\base.py:55\u001B[0m, in \u001B[0;36mWeb3Middleware.wrap_make_request.<locals>.middleware\u001B[1;34m(method, params)\u001B[0m\n\u001B[0;32m     54\u001B[0m \u001B[38;5;28;01mdef\u001B[39;00m\u001B[38;5;250m \u001B[39m\u001B[38;5;21mmiddleware\u001B[39m(method: \u001B[38;5;124m\"\u001B[39m\u001B[38;5;124mRPCEndpoint\u001B[39m\u001B[38;5;124m\"\u001B[39m, params: Any) \u001B[38;5;241m-\u001B[39m\u001B[38;5;241m>\u001B[39m \u001B[38;5;124m\"\u001B[39m\u001B[38;5;124mRPCResponse\u001B[39m\u001B[38;5;124m\"\u001B[39m:\n\u001B[1;32m---> 55\u001B[0m     method, params \u001B[38;5;241m=\u001B[39m \u001B[38;5;28;43mself\u001B[39;49m\u001B[38;5;241;43m.\u001B[39;49m\u001B[43mrequest_processor\u001B[49m\u001B[43m(\u001B[49m\u001B[43mmethod\u001B[49m\u001B[43m,\u001B[49m\u001B[43m \u001B[49m\u001B[43mparams\u001B[49m\u001B[43m)\u001B[49m\n\u001B[0;32m     56\u001B[0m     \u001B[38;5;28;01mreturn\u001B[39;00m \u001B[38;5;28mself\u001B[39m\u001B[38;5;241m.\u001B[39mresponse_processor(method, make_request(method, params))\n",
      "File \u001B[1;32m~\\OneDrive\\Skrivebord\\Github\\openFL-2.0\\.venv\\lib\\site-packages\\web3\\middleware\\buffered_gas_estimate.py:43\u001B[0m, in \u001B[0;36mBufferedGasEstimateMiddleware.request_processor\u001B[1;34m(self, method, params)\u001B[0m\n\u001B[0;32m     38\u001B[0m     transaction \u001B[38;5;241m=\u001B[39m params[\u001B[38;5;241m0\u001B[39m]\n\u001B[0;32m     39\u001B[0m     \u001B[38;5;28;01mif\u001B[39;00m \u001B[38;5;124m\"\u001B[39m\u001B[38;5;124mgas\u001B[39m\u001B[38;5;124m\"\u001B[39m \u001B[38;5;129;01mnot\u001B[39;00m \u001B[38;5;129;01min\u001B[39;00m transaction:\n\u001B[0;32m     40\u001B[0m         transaction \u001B[38;5;241m=\u001B[39m assoc(\n\u001B[0;32m     41\u001B[0m             transaction,\n\u001B[0;32m     42\u001B[0m             \u001B[38;5;124m\"\u001B[39m\u001B[38;5;124mgas\u001B[39m\u001B[38;5;124m\"\u001B[39m,\n\u001B[1;32m---> 43\u001B[0m             \u001B[38;5;28mhex\u001B[39m(\u001B[43mget_buffered_gas_estimate\u001B[49m\u001B[43m(\u001B[49m\u001B[43mcast\u001B[49m\u001B[43m(\u001B[49m\u001B[38;5;124;43m\"\u001B[39;49m\u001B[38;5;124;43mWeb3\u001B[39;49m\u001B[38;5;124;43m\"\u001B[39;49m\u001B[43m,\u001B[49m\u001B[43m \u001B[49m\u001B[38;5;28;43mself\u001B[39;49m\u001B[38;5;241;43m.\u001B[39;49m\u001B[43m_w3\u001B[49m\u001B[43m)\u001B[49m\u001B[43m,\u001B[49m\u001B[43m \u001B[49m\u001B[43mtransaction\u001B[49m\u001B[43m)\u001B[49m),\n\u001B[0;32m     44\u001B[0m         )\n\u001B[0;32m     45\u001B[0m         params \u001B[38;5;241m=\u001B[39m (transaction,)\n\u001B[0;32m     46\u001B[0m \u001B[38;5;28;01mreturn\u001B[39;00m method, params\n",
      "File \u001B[1;32m~\\OneDrive\\Skrivebord\\Github\\openFL-2.0\\.venv\\lib\\site-packages\\web3\\_utils\\transactions.py:162\u001B[0m, in \u001B[0;36mget_buffered_gas_estimate\u001B[1;34m(w3, transaction, gas_buffer)\u001B[0m\n\u001B[0;32m    157\u001B[0m \u001B[38;5;28;01mdef\u001B[39;00m\u001B[38;5;250m \u001B[39m\u001B[38;5;21mget_buffered_gas_estimate\u001B[39m(\n\u001B[0;32m    158\u001B[0m     w3: \u001B[38;5;124m\"\u001B[39m\u001B[38;5;124mWeb3\u001B[39m\u001B[38;5;124m\"\u001B[39m, transaction: TxParams, gas_buffer: \u001B[38;5;28mint\u001B[39m \u001B[38;5;241m=\u001B[39m \u001B[38;5;241m100000\u001B[39m\n\u001B[0;32m    159\u001B[0m ) \u001B[38;5;241m-\u001B[39m\u001B[38;5;241m>\u001B[39m \u001B[38;5;28mint\u001B[39m:\n\u001B[0;32m    160\u001B[0m     gas_estimate_transaction \u001B[38;5;241m=\u001B[39m cast(TxParams, \u001B[38;5;28mdict\u001B[39m(\u001B[38;5;241m*\u001B[39m\u001B[38;5;241m*\u001B[39mtransaction))\n\u001B[1;32m--> 162\u001B[0m     gas_estimate \u001B[38;5;241m=\u001B[39m \u001B[43mw3\u001B[49m\u001B[38;5;241;43m.\u001B[39;49m\u001B[43meth\u001B[49m\u001B[38;5;241;43m.\u001B[39;49m\u001B[43mestimate_gas\u001B[49m\u001B[43m(\u001B[49m\u001B[43mgas_estimate_transaction\u001B[49m\u001B[43m)\u001B[49m\n\u001B[0;32m    164\u001B[0m     gas_limit \u001B[38;5;241m=\u001B[39m get_block_gas_limit(w3)\n\u001B[0;32m    166\u001B[0m     \u001B[38;5;28;01mif\u001B[39;00m gas_estimate \u001B[38;5;241m>\u001B[39m gas_limit:\n",
      "File \u001B[1;32m~\\OneDrive\\Skrivebord\\Github\\openFL-2.0\\.venv\\lib\\site-packages\\web3\\eth\\eth.py:317\u001B[0m, in \u001B[0;36mEth.estimate_gas\u001B[1;34m(self, transaction, block_identifier, state_override)\u001B[0m\n\u001B[0;32m    311\u001B[0m \u001B[38;5;28;01mdef\u001B[39;00m\u001B[38;5;250m \u001B[39m\u001B[38;5;21mestimate_gas\u001B[39m(\n\u001B[0;32m    312\u001B[0m     \u001B[38;5;28mself\u001B[39m,\n\u001B[0;32m    313\u001B[0m     transaction: TxParams,\n\u001B[0;32m    314\u001B[0m     block_identifier: Optional[BlockIdentifier] \u001B[38;5;241m=\u001B[39m \u001B[38;5;28;01mNone\u001B[39;00m,\n\u001B[0;32m    315\u001B[0m     state_override: Optional[StateOverride] \u001B[38;5;241m=\u001B[39m \u001B[38;5;28;01mNone\u001B[39;00m,\n\u001B[0;32m    316\u001B[0m ) \u001B[38;5;241m-\u001B[39m\u001B[38;5;241m>\u001B[39m \u001B[38;5;28mint\u001B[39m:\n\u001B[1;32m--> 317\u001B[0m     \u001B[38;5;28;01mreturn\u001B[39;00m \u001B[38;5;28;43mself\u001B[39;49m\u001B[38;5;241;43m.\u001B[39;49m\u001B[43m_estimate_gas\u001B[49m\u001B[43m(\u001B[49m\u001B[43mtransaction\u001B[49m\u001B[43m,\u001B[49m\u001B[43m \u001B[49m\u001B[43mblock_identifier\u001B[49m\u001B[43m,\u001B[49m\u001B[43m \u001B[49m\u001B[43mstate_override\u001B[49m\u001B[43m)\u001B[49m\n",
      "File \u001B[1;32m~\\OneDrive\\Skrivebord\\Github\\openFL-2.0\\.venv\\lib\\site-packages\\web3\\module.py:112\u001B[0m, in \u001B[0;36mretrieve_blocking_method_call_fn.<locals>.caller\u001B[1;34m(*args, **kwargs)\u001B[0m\n\u001B[0;32m    105\u001B[0m     \u001B[38;5;28;01mreturn\u001B[39;00m LogFilter(eth_module\u001B[38;5;241m=\u001B[39mmodule, filter_id\u001B[38;5;241m=\u001B[39merr\u001B[38;5;241m.\u001B[39mfilter_id)\n\u001B[0;32m    107\u001B[0m (\n\u001B[0;32m    108\u001B[0m     result_formatters,\n\u001B[0;32m    109\u001B[0m     error_formatters,\n\u001B[0;32m    110\u001B[0m     null_result_formatters,\n\u001B[0;32m    111\u001B[0m ) \u001B[38;5;241m=\u001B[39m response_formatters\n\u001B[1;32m--> 112\u001B[0m result \u001B[38;5;241m=\u001B[39m \u001B[43mw3\u001B[49m\u001B[38;5;241;43m.\u001B[39;49m\u001B[43mmanager\u001B[49m\u001B[38;5;241;43m.\u001B[39;49m\u001B[43mrequest_blocking\u001B[49m\u001B[43m(\u001B[49m\n\u001B[0;32m    113\u001B[0m \u001B[43m    \u001B[49m\u001B[43mmethod_str\u001B[49m\u001B[43m,\u001B[49m\u001B[43m \u001B[49m\u001B[43mparams\u001B[49m\u001B[43m,\u001B[49m\u001B[43m \u001B[49m\u001B[43merror_formatters\u001B[49m\u001B[43m,\u001B[49m\u001B[43m \u001B[49m\u001B[43mnull_result_formatters\u001B[49m\n\u001B[0;32m    114\u001B[0m \u001B[43m\u001B[49m\u001B[43m)\u001B[49m\n\u001B[0;32m    115\u001B[0m \u001B[38;5;28;01mreturn\u001B[39;00m apply_result_formatters(result_formatters, result)\n",
      "File \u001B[1;32m~\\OneDrive\\Skrivebord\\Github\\openFL-2.0\\.venv\\lib\\site-packages\\web3\\manager.py:233\u001B[0m, in \u001B[0;36mRequestManager.request_blocking\u001B[1;34m(self, method, params, error_formatters, null_result_formatters)\u001B[0m\n\u001B[0;32m    229\u001B[0m \u001B[38;5;250m\u001B[39m\u001B[38;5;124;03m\"\"\"\u001B[39;00m\n\u001B[0;32m    230\u001B[0m \u001B[38;5;124;03mMake a synchronous request using the provider\u001B[39;00m\n\u001B[0;32m    231\u001B[0m \u001B[38;5;124;03m\"\"\"\u001B[39;00m\n\u001B[0;32m    232\u001B[0m response \u001B[38;5;241m=\u001B[39m \u001B[38;5;28mself\u001B[39m\u001B[38;5;241m.\u001B[39m_make_request(method, params)\n\u001B[1;32m--> 233\u001B[0m \u001B[38;5;28;01mreturn\u001B[39;00m \u001B[38;5;28;43mself\u001B[39;49m\u001B[38;5;241;43m.\u001B[39;49m\u001B[43mformatted_response\u001B[49m\u001B[43m(\u001B[49m\n\u001B[0;32m    234\u001B[0m \u001B[43m    \u001B[49m\u001B[43mresponse\u001B[49m\u001B[43m,\u001B[49m\u001B[43m \u001B[49m\u001B[43mparams\u001B[49m\u001B[43m,\u001B[49m\u001B[43m \u001B[49m\u001B[43merror_formatters\u001B[49m\u001B[43m,\u001B[49m\u001B[43m \u001B[49m\u001B[43mnull_result_formatters\u001B[49m\n\u001B[0;32m    235\u001B[0m \u001B[43m\u001B[49m\u001B[43m)\u001B[49m\n",
      "File \u001B[1;32m~\\OneDrive\\Skrivebord\\Github\\openFL-2.0\\.venv\\lib\\site-packages\\web3\\manager.py:199\u001B[0m, in \u001B[0;36mRequestManager.formatted_response\u001B[1;34m(self, response, params, error_formatters, null_result_formatters)\u001B[0m\n\u001B[0;32m    185\u001B[0m \u001B[38;5;28;01mdef\u001B[39;00m\u001B[38;5;250m \u001B[39m\u001B[38;5;21mformatted_response\u001B[39m(\n\u001B[0;32m    186\u001B[0m     \u001B[38;5;28mself\u001B[39m,\n\u001B[0;32m    187\u001B[0m     response: RPCResponse,\n\u001B[1;32m   (...)\u001B[0m\n\u001B[0;32m    190\u001B[0m     null_result_formatters: Optional[Callable[\u001B[38;5;241m.\u001B[39m\u001B[38;5;241m.\u001B[39m\u001B[38;5;241m.\u001B[39m, Any]] \u001B[38;5;241m=\u001B[39m \u001B[38;5;28;01mNone\u001B[39;00m,\n\u001B[0;32m    191\u001B[0m ) \u001B[38;5;241m-\u001B[39m\u001B[38;5;241m>\u001B[39m Any:\n\u001B[0;32m    192\u001B[0m     is_subscription_response \u001B[38;5;241m=\u001B[39m (\n\u001B[0;32m    193\u001B[0m         response\u001B[38;5;241m.\u001B[39mget(\u001B[38;5;124m\"\u001B[39m\u001B[38;5;124mmethod\u001B[39m\u001B[38;5;124m\"\u001B[39m) \u001B[38;5;241m==\u001B[39m \u001B[38;5;124m\"\u001B[39m\u001B[38;5;124meth_subscription\u001B[39m\u001B[38;5;124m\"\u001B[39m\n\u001B[0;32m    194\u001B[0m         \u001B[38;5;129;01mand\u001B[39;00m response\u001B[38;5;241m.\u001B[39mget(\u001B[38;5;124m\"\u001B[39m\u001B[38;5;124mparams\u001B[39m\u001B[38;5;124m\"\u001B[39m) \u001B[38;5;129;01mis\u001B[39;00m \u001B[38;5;129;01mnot\u001B[39;00m \u001B[38;5;28;01mNone\u001B[39;00m\n\u001B[0;32m    195\u001B[0m         \u001B[38;5;129;01mand\u001B[39;00m response[\u001B[38;5;124m\"\u001B[39m\u001B[38;5;124mparams\u001B[39m\u001B[38;5;124m\"\u001B[39m]\u001B[38;5;241m.\u001B[39mget(\u001B[38;5;124m\"\u001B[39m\u001B[38;5;124msubscription\u001B[39m\u001B[38;5;124m\"\u001B[39m) \u001B[38;5;129;01mis\u001B[39;00m \u001B[38;5;129;01mnot\u001B[39;00m \u001B[38;5;28;01mNone\u001B[39;00m\n\u001B[0;32m    196\u001B[0m         \u001B[38;5;129;01mand\u001B[39;00m response[\u001B[38;5;124m\"\u001B[39m\u001B[38;5;124mparams\u001B[39m\u001B[38;5;124m\"\u001B[39m]\u001B[38;5;241m.\u001B[39mget(\u001B[38;5;124m\"\u001B[39m\u001B[38;5;124mresult\u001B[39m\u001B[38;5;124m\"\u001B[39m) \u001B[38;5;129;01mis\u001B[39;00m \u001B[38;5;129;01mnot\u001B[39;00m \u001B[38;5;28;01mNone\u001B[39;00m\n\u001B[0;32m    197\u001B[0m     )\n\u001B[1;32m--> 199\u001B[0m     \u001B[43mvalidate_rpc_response_and_raise_if_error\u001B[49m\u001B[43m(\u001B[49m\n\u001B[0;32m    200\u001B[0m \u001B[43m        \u001B[49m\u001B[43mresponse\u001B[49m\u001B[43m,\u001B[49m\n\u001B[0;32m    201\u001B[0m \u001B[43m        \u001B[49m\u001B[43merror_formatters\u001B[49m\u001B[43m,\u001B[49m\n\u001B[0;32m    202\u001B[0m \u001B[43m        \u001B[49m\u001B[43mis_subscription_response\u001B[49m\u001B[38;5;241;43m=\u001B[39;49m\u001B[43mis_subscription_response\u001B[49m\u001B[43m,\u001B[49m\n\u001B[0;32m    203\u001B[0m \u001B[43m        \u001B[49m\u001B[43mlogger\u001B[49m\u001B[38;5;241;43m=\u001B[39;49m\u001B[38;5;28;43mself\u001B[39;49m\u001B[38;5;241;43m.\u001B[39;49m\u001B[43mlogger\u001B[49m\u001B[43m,\u001B[49m\n\u001B[0;32m    204\u001B[0m \u001B[43m        \u001B[49m\u001B[43mparams\u001B[49m\u001B[38;5;241;43m=\u001B[39;49m\u001B[43mparams\u001B[49m\u001B[43m,\u001B[49m\n\u001B[0;32m    205\u001B[0m \u001B[43m    \u001B[49m\u001B[43m)\u001B[49m\n\u001B[0;32m    207\u001B[0m     \u001B[38;5;66;03m# format results\u001B[39;00m\n\u001B[0;32m    208\u001B[0m     \u001B[38;5;28;01mif\u001B[39;00m \u001B[38;5;124m\"\u001B[39m\u001B[38;5;124mresult\u001B[39m\u001B[38;5;124m\"\u001B[39m \u001B[38;5;129;01min\u001B[39;00m response:\n\u001B[0;32m    209\u001B[0m         \u001B[38;5;66;03m# Null values for result should apply null_result_formatters\u001B[39;00m\n\u001B[0;32m    210\u001B[0m         \u001B[38;5;66;03m# Skip when result not present in the response (fallback to False)\u001B[39;00m\n",
      "File \u001B[1;32m~\\OneDrive\\Skrivebord\\Github\\openFL-2.0\\.venv\\lib\\site-packages\\web3\\_utils\\validation.py:397\u001B[0m, in \u001B[0;36mvalidate_rpc_response_and_raise_if_error\u001B[1;34m(response, error_formatters, is_subscription_response, logger, params)\u001B[0m\n\u001B[0;32m    393\u001B[0m \u001B[38;5;28;01mif\u001B[39;00m web3_rpc_error \u001B[38;5;129;01mis\u001B[39;00m \u001B[38;5;28;01mNone\u001B[39;00m:\n\u001B[0;32m    394\u001B[0m     \u001B[38;5;66;03m# if no condition was met above, raise a more generic `Web3RPCError`\u001B[39;00m\n\u001B[0;32m    395\u001B[0m     web3_rpc_error \u001B[38;5;241m=\u001B[39m Web3RPCError(\u001B[38;5;28mrepr\u001B[39m(error), rpc_response\u001B[38;5;241m=\u001B[39mresponse)\n\u001B[1;32m--> 397\u001B[0m response \u001B[38;5;241m=\u001B[39m \u001B[43mapply_error_formatters\u001B[49m\u001B[43m(\u001B[49m\u001B[43merror_formatters\u001B[49m\u001B[43m,\u001B[49m\u001B[43m \u001B[49m\u001B[43mresponse\u001B[49m\u001B[43m)\u001B[49m\n\u001B[0;32m    398\u001B[0m \u001B[38;5;28;01mif\u001B[39;00m logger \u001B[38;5;129;01mis\u001B[39;00m \u001B[38;5;129;01mnot\u001B[39;00m \u001B[38;5;28;01mNone\u001B[39;00m:\n\u001B[0;32m    399\u001B[0m     logger\u001B[38;5;241m.\u001B[39mdebug(\u001B[38;5;124m\"\u001B[39m\u001B[38;5;124mRPC error response: \u001B[39m\u001B[38;5;132;01m%s\u001B[39;00m\u001B[38;5;124m\"\u001B[39m, response)\n",
      "File \u001B[1;32m~\\OneDrive\\Skrivebord\\Github\\openFL-2.0\\.venv\\lib\\site-packages\\web3\\_utils\\formatters.py:146\u001B[0m, in \u001B[0;36mapply_error_formatters\u001B[1;34m(error_formatters, response)\u001B[0m\n\u001B[0;32m    141\u001B[0m \u001B[38;5;28;01mdef\u001B[39;00m\u001B[38;5;250m \u001B[39m\u001B[38;5;21mapply_error_formatters\u001B[39m(\n\u001B[0;32m    142\u001B[0m     error_formatters: Callable[\u001B[38;5;241m.\u001B[39m\u001B[38;5;241m.\u001B[39m\u001B[38;5;241m.\u001B[39m, Any],\n\u001B[0;32m    143\u001B[0m     response: RPCResponse,\n\u001B[0;32m    144\u001B[0m ) \u001B[38;5;241m-\u001B[39m\u001B[38;5;241m>\u001B[39m RPCResponse:\n\u001B[0;32m    145\u001B[0m     \u001B[38;5;28;01mif\u001B[39;00m error_formatters:\n\u001B[1;32m--> 146\u001B[0m         formatted_resp \u001B[38;5;241m=\u001B[39m \u001B[43mpipe\u001B[49m\u001B[43m(\u001B[49m\u001B[43mresponse\u001B[49m\u001B[43m,\u001B[49m\u001B[43m \u001B[49m\u001B[43merror_formatters\u001B[49m\u001B[43m)\u001B[49m\n\u001B[0;32m    147\u001B[0m         \u001B[38;5;28;01mreturn\u001B[39;00m formatted_resp\n\u001B[0;32m    148\u001B[0m     \u001B[38;5;28;01melse\u001B[39;00m:\n",
      "File \u001B[1;32m~\\OneDrive\\Skrivebord\\Github\\openFL-2.0\\.venv\\lib\\site-packages\\cytoolz\\functoolz.pyx:680\u001B[0m, in \u001B[0;36mcytoolz.functoolz.pipe\u001B[1;34m()\u001B[0m\n",
      "File \u001B[1;32m~\\OneDrive\\Skrivebord\\Github\\openFL-2.0\\.venv\\lib\\site-packages\\cytoolz\\functoolz.pyx:655\u001B[0m, in \u001B[0;36mcytoolz.functoolz.c_pipe\u001B[1;34m()\u001B[0m\n",
      "File \u001B[1;32m~\\OneDrive\\Skrivebord\\Github\\openFL-2.0\\.venv\\lib\\site-packages\\web3\\_utils\\error_formatters_utils.py:159\u001B[0m, in \u001B[0;36mraise_contract_logic_error_on_revert\u001B[1;34m(response)\u001B[0m\n\u001B[0;32m    157\u001B[0m         \u001B[38;5;28;01mraise\u001B[39;00m ContractLogicError(\u001B[38;5;124m\"\u001B[39m\u001B[38;5;124mexecution reverted\u001B[39m\u001B[38;5;124m\"\u001B[39m, data\u001B[38;5;241m=\u001B[39mdata)\n\u001B[0;32m    158\u001B[0m \u001B[38;5;28;01melif\u001B[39;00m \u001B[38;5;28misinstance\u001B[39m(data, \u001B[38;5;28mdict\u001B[39m) \u001B[38;5;129;01mand\u001B[39;00m message_present:\n\u001B[1;32m--> 159\u001B[0m     \u001B[38;5;28;01mraise\u001B[39;00m ContractLogicError(\u001B[38;5;124mf\u001B[39m\u001B[38;5;124m\"\u001B[39m\u001B[38;5;124mexecution reverted: \u001B[39m\u001B[38;5;132;01m{\u001B[39;00mmessage\u001B[38;5;132;01m}\u001B[39;00m\u001B[38;5;124m\"\u001B[39m, data\u001B[38;5;241m=\u001B[39mdata)\n\u001B[0;32m    160\u001B[0m \u001B[38;5;28;01melif\u001B[39;00m \u001B[38;5;28misinstance\u001B[39m(data, \u001B[38;5;28mstr\u001B[39m):\n\u001B[0;32m    161\u001B[0m     _raise_contract_error(data)\n",
      "\u001B[1;31mContractLogicError\u001B[0m: ('execution reverted: VM Exception while processing transaction: revert SNR', {'hash': None, 'programCounter': 7302, 'result': '0x08c379a000000000000000000000000000000000000000000000000000000000000000200000000000000000000000000000000000000000000000000000000000000003534e520000000000000000000000000000000000000000000000000000000000', 'reason': 'SNR', 'message': 'revert'})"
     ]
    }
   ],
   "execution_count": 13
  },
  {
   "cell_type": "markdown",
   "id": "e4fed280",
   "metadata": {},
   "source": [
    "### Visualize Experiment "
   ]
  },
  {
   "cell_type": "code",
   "id": "bcc409e1",
   "metadata": {
    "scrolled": true,
    "ExecuteTime": {
     "end_time": "2025-10-29T11:37:32.210672Z",
     "start_time": "2025-10-29T11:37:31.609096Z"
    }
   },
   "source": [
    "model.visualize_simulation()"
   ],
   "outputs": [
    {
     "data": {
      "text/plain": [
       "<Figure size 1600x300 with 5 Axes>"
      ],
      "image/png": "[encoded data removed]"
     },
     "metadata": {},
     "output_type": "display_data"
    }
   ],
   "execution_count": 9
  },
  {
   "cell_type": "markdown",
   "id": "3a4557d7",
   "metadata": {},
   "source": [
    "### Transactions"
   ]
  },
  {
   "cell_type": "code",
   "id": "aa348bb3",
   "metadata": {
    "scrolled": true,
    "ExecuteTime": {
     "end_time": "2025-10-29T11:37:32.498719Z",
     "start_time": "2025-10-29T11:37:32.212746Z"
    }
   },
   "source": [
    "print(\"{:<10} - {:^64} -    Gas Used - {}\".format(\"Function\", \"Transaction Hash\", \"Success\"))\n",
    "print(\"------------------------------------------------------------------------------------------\")\n",
    "for f, txhash in model.txHashes:\n",
    "    r = model.w3.eth.wait_for_transaction_receipt(txhash)\n",
    "    if r[\"status\"] == 1:\n",
    "        success = \"✅\"\n",
    "    else:\n",
    "        success = \"FAIL\"\n",
    "    \n",
    "    gas = r[\"gasUsed\"]\n",
    "    print(\"{:<10} - {} - {:>9,.0f} -   {}\".format(f, txhash, gas, success))"
   ],
   "outputs": [
    {
     "name": "stdout",
     "output_type": "stream",
     "text": [
      "Function   -                         Transaction Hash                         -    Gas Used - Success\n",
      "------------------------------------------------------------------------------------------\n",
      "register   - c3c3b5be5d7c2cd9df38a551e9172f8b5635e0a0c41988a3dec8a778f2881d6f -   127,396 -   ✅\n",
      "register   - d2fc5fbad88a618984f9d96fc744c21863031c3e90654ed36577e2694fe57d4a -   127,396 -   ✅\n",
      "register   - 76468b898518c330f179b6879c9a3b5b226b241a4a8a8fe257112b99f8b67144 -   127,396 -   ✅\n",
      "register   - 4a2fdb1a8951e4cb192790cda98feda6466091ef9a87bc478143f808525619dc -   127,396 -   ✅\n",
      "register   - 86cc065e8ef5c27201d1ed378195f33fe38ba88a91e32a4435db22cc65517104 -   127,396 -   ✅\n",
      "slot       - 49bace5f034b48c8955376a8808ca4ee2b84189a94c4df7f0ad9cf43838049f8 -    51,185 -   ✅\n",
      "slot       - 7391060142cb2ff16c4cffc5a55e2b49fd2fcdfc20b1ac85d30f04a16b681c36 -    51,185 -   ✅\n",
      "slot       - 9f01482a0cd541cd8251004450a1341269701da4b871f7f75e713e5667c4d026 -    51,185 -   ✅\n",
      "slot       - a24168339a96f6db842bdeb493a4248c19961ee36b8bd628ebfffba5949ead00 -    51,185 -   ✅\n",
      "slot       - 8e4371c08aee9d2d6c6ed207bac4947052afe0f01e051164d6b6e85b218931ab -    51,185 -   ✅\n",
      "slot       - 7912a45e2ed4960af21c631e55f0413d8cf414dd5c462624b1d60a29ecea3dc7 -    51,185 -   ✅\n",
      "weights    - 9a2c9a36d711d1ae56eafea74c2901e7163793e47977d1821c9deb1250c16404 -    74,971 -   ✅\n",
      "weights    - 7054622ede5b97d8617f0aa64a795b725ed6ed0698588d380d9c506c36bbb2dc -    57,883 -   ✅\n",
      "weights    - 1af63faa3fb734da814eea9e708bff74a1a1016971fcbd053ecfe130ef47eba1 -    57,883 -   ✅\n",
      "weights    - 94a793cf9367e5975a9910d862128228733c03390851fb80bf49c95b834dfdc1 -    57,883 -   ✅\n",
      "weights    - 1c006da97cc9439b5c8626865c8bd30b40331f8b4fec8506ea2f9a263f0dcaf9 -    57,883 -   ✅\n",
      "weights    - 1c4d58b7a5805e5b0275c98e9b0c8745720fe9ed97e4ec14a5545ab072250a8e -    57,883 -   ✅\n",
      "feedback   - 2c5b6d70267db0e436899fe41d7a482641082106faa8d2dc884bb91a683bf953 -   405,870 -   ✅\n",
      "feedback   - 036fd382633a7f4bdc9bc013ebbaaa51af370c9a218a73b20bb7fba31d54521d -   337,471 -   ✅\n",
      "feedback   - e506e647703bc3a558e47ca71f4b4940b52588015820280ff928351d3eec0802 -   320,371 -   ✅\n",
      "feedback   - 6564451bd112f75e3b34a29164c8ffc93a20986a3c58f8d6d1897c97c93d6506 -   296,504 -   ✅\n",
      "feedback   - 3f617d963185ca37f59ad05b08bebcdaef4c48aa5272af69e00d1ec01023474f -   296,504 -   ✅\n",
      "feedback   - 24fac349c8ed6ddca9867163760fe3335c98a78d04b10e1595a7a438273d787b -   220,564 -   ✅\n",
      "close      - c547301d381666f1e1043a463faf231eb48529074b76c84168bcc6764cf90ef8 -   581,658 -   ✅\n",
      "slot       - 48943c411f79730a06b6103a62929d39fd8b6aeafa7a57599f9887184f17c3d0 -    51,185 -   ✅\n",
      "slot       - ec85f3fefd5db01ac12ee5f3f91c24c3161ed37dc2d01e1cd268466e2697be8a -    51,185 -   ✅\n",
      "slot       - 67e9ecd2f8c17e3106525b3b0af92c341e66977a3931f6dd3c2114cce752bf7d -    51,185 -   ✅\n",
      "slot       - f4b1caccc849ff60f903d6582ae537a9b9a1a1970d680cfbea612fd30c9c58c2 -    51,185 -   ✅\n",
      "slot       - a02f707406faa9defdc939a92c63a0c57e1dc53fa70bb252e9f5c76b0d348231 -    51,173 -   ✅\n",
      "slot       - cc515b5e99899f633654dd4605bf502344930b132889d44a297776163ba10b0e -    51,185 -   ✅\n",
      "weights    - 42cdf7688faf25fc0c87b1def4b0f844483c671ef6258e2c54eac5853e3440e3 -    74,983 -   ✅\n",
      "weights    - fbd9ecbdc6c71b7fbd75ff3abb8e39d1d826093d72bcabd1a28190fe7e46a5d1 -    57,883 -   ✅\n",
      "weights    - b896054b0d7feb4cf9a2df89c6d93f1403c02d3ae4a120208663fa9c3bd9ca74 -    57,883 -   ✅\n",
      "weights    - 63d14ed5ec44ce332bbf4f7694eb300c96dec4daf5c116242184388ae646e6ee -    57,883 -   ✅\n",
      "weights    - 106cffa4178b910badab1311f1a9b3e2bb4915c80e432da8c3e303e41cfda702 -    57,883 -   ✅\n",
      "weights    - ee8916e1c71094d217511746cc95910bb16eafb2a9435d330d1ab074cffb8ee7 -    57,883 -   ✅\n",
      "feedback   - d288384bd8177fa82682165c40e203e27fe380a490ce00ee655707e5584751d0 -   345,798 -   ✅\n",
      "feedback   - 13f8c0032216f0ea2fd799ad8a679f24533518bebf4eafa33de0b163832373f7 -   277,399 -   ✅\n",
      "feedback   - b392c646624ba2f13c734033be02d10f8b9d13087869eda780c08d316f86a200 -   260,299 -   ✅\n",
      "feedback   - aff3afde9fba3c30456ce7ae2532f028ba10a727824270e02e74172d71d7d12d -   280,199 -   ✅\n",
      "feedback   - 680ad0e1f0e4ac675f9cf36a963300876dc3a4551647de7bb528077ecc6bed8b -   280,199 -   ✅\n",
      "feedback   - eb169fa803c77bb5d9309a43af7b5e6aecde05325fff24bb63e5d3f3698e63ee -   220,564 -   ✅\n",
      "close      - 8d36cb446e6c1bbbac141c1b81a92fc3de4e66097da8e6b49ef39182015ad1b9 -   506,971 -   ✅\n",
      "slot       - 0aa3b171ad47783a850020ab471f9f256a7a235335225f194708107a2ccf3459 -    51,185 -   ✅\n",
      "slot       - 06da387b9d7c3e6923ae5717753a528212d927eec912be90295a2378f676d1a4 -    51,185 -   ✅\n",
      "slot       - efa842a6ad8ad16752cdc2e248c9ca049bf637de33cf1f6b819d39bc148387a8 -    51,185 -   ✅\n",
      "slot       - 1a3795f0803e4fdcc0a63b8d619f460e4ac81ff0a0ef0f00185a7713413f7932 -    51,185 -   ✅\n",
      "slot       - 76c8b71a7792165103d7f594aa4feb1a585aefcff875baa323ae457bd89f35ae -    51,185 -   ✅\n",
      "slot       - 4d3b18858f5b115dada342aefd07fb97482c7f6dc1654c3403d3bd568d06d774 -    51,185 -   ✅\n",
      "weights    - 58690276b5e0380261f8927e43f99fe0d38ef48033400206a23d07a400c797af -    74,983 -   ✅\n",
      "weights    - abb9a0e2959156249085da2ad0138a8211dbfb9048aca446edb1ee2662ae0db6 -    57,883 -   ✅\n",
      "weights    - 259862e4c68bec345c5290b78f2dff3055e7561edc056267c613bbe0ad822007 -    57,883 -   ✅\n",
      "weights    - 778c850f38680650d6148c23106077ade2612f8bc9e80ad92e9fa9268540644a -    57,883 -   ✅\n",
      "weights    - 70e554c68020236547a933e4fa627fe7a71ff3ba63d8aba59f604723490f386e -    57,883 -   ✅\n",
      "weights    - aa32d46db1781fd6f54de8de709dbba8e7955d170187470ffa64c5ab13dcb7fe -    57,883 -   ✅\n",
      "feedback   - b9fdfad0539349938eb9d527a5056c4c9fefb94ef41b06cc31583e02cffc1425 -   322,642 -   ✅\n",
      "feedback   - 7973f3b3ba88570ee440f0b91e9eb89bac3ff8787efb0c57fb2fca3377d89791 -   249,904 -   ✅\n",
      "feedback   - df3e81f7cb42aa14f311552a338ac74dd5f7adb6f315a51abe65c31f6f406251 -   232,804 -   ✅\n",
      "feedback   - 27f997af36c07f839549d457f50cbfedec546c7c8a91426253ae42b31e34bcf8 -   232,804 -   ✅\n",
      "feedback   - a8fc374170d100baae3e18a55ddfc2c3ee24e95649643bfc174344a70a8cde16 -   232,259 -   ✅\n",
      "feedback   - dce7e2ef6393c4f35912eb7416d910801449f846e9470d6c9479edea392aad29 -   220,564 -   ✅\n",
      "close      - 94aef8731e50fc8fdbf7ac59d7df528da54f31c2314e5cf52be4e2e9729bbc6d -   569,932 -   ✅\n",
      "exit       - baf34906171787181b675d65d882cf6454298954ab9b6dd9a8ccfcb4ddc7dad7 -    58,891 -   ✅\n",
      "exit       - e002de88e5b3a230179fb40321d43b1bfc5c0c7cfc7b1f34a7f1ccd3d2cd7f88 -    58,891 -   ✅\n",
      "exit       - dd1f9c56ce6c6715410670b73ada054babac3e92ba61b4238b524b6c76f4bced -    58,891 -   ✅\n",
      "exit       - 49e52dbdc5e2e6d8c578e466bdcd99efae52aac87c83cf4e7b8e1638748d9544 -    58,891 -   ✅\n",
      "exit       - d90837d9abfe5a1ca27a14a12a8f1d6442bfc0b13860e9ff28dafd40d466a1b2 -    58,891 -   ✅\n",
      "exit       - 3ded19115769c5b6ef8875eebb212b9d5b660b24b819adf82d7d7a24fb1719c7 -    58,891 -   ✅\n"
     ]
    }
   ],
   "execution_count": 10
  },
  {
   "cell_type": "markdown",
   "id": "0eb9e9a8",
   "metadata": {},
   "source": [
    "### Contracts and Paricipants (Latex format)"
   ]
  },
  {
   "cell_type": "code",
   "id": "2cb3eaf4",
   "metadata": {
    "ExecuteTime": {
     "end_time": "2025-10-29T11:37:32.514005Z",
     "start_time": "2025-10-29T11:37:32.501794Z"
    }
   },
   "source": [
    "print(\"\\\\renewcommand{\\\\arraystretch}{1.3}\")\n",
    "print(\"\\\\begin{center}\")\n",
    "print(\"\\\\begin{tabular}{ c|c }\")\n",
    "\n",
    "print(\"\\\\footnotesize{\"+\"Contract} &\"+\" \\\\footnotesize{Address (Ropsten Testnet)} \\\\\\ \")\n",
    "print(\"\\\\hline\")\n",
    "print(\"\\\\footnotesize{\"+\"Ma-1} & \\\\footnotesize{\"+\"{}\".format(manager.manager.address)+\"} \\\\\\ \")\n",
    "print(\"\\\\footnotesize{\"+\"Ch-1} & \\\\footnotesize{\"+\"{}\".format(model.model.address)+\"} \\\\\\ \")\n",
    "for i, p in enumerate(model.pytorch_model.participants[:-1] + \\\n",
    "                           model.pytorch_model.disqualified + \\\n",
    "                           [model.pytorch_model.participants[-1]]):\n",
    "    print(\"\\\\footnotesize{\"+\"P-{}\".format(i+1)+\"}  & \\\\footnotesize{\"+\"{}\".format(p.address)+\"} \\\\\\ \")\n",
    "\n",
    "print(\"\\\\end{tabular}\")\n",
    "print(\"\\\\end{center}\")"
   ],
   "outputs": [
    {
     "name": "stdout",
     "output_type": "stream",
     "text": [
      "\\renewcommand{\\arraystretch}{1.3}\n",
      "\\begin{center}\n",
      "\\begin{tabular}{ c|c }\n",
      "\\footnotesize{Contract} & \\footnotesize{Address (Ropsten Testnet)} \\\\ \n",
      "\\hline\n",
      "\\footnotesize{Ma-1} & \\footnotesize{0x031376bb01899C27115673F40043c9b19100A665} \\\\ \n",
      "\\footnotesize{Ch-1} & \\footnotesize{0x4b185Ba495f48A5d4523c906B119d526E7a17DE5} \\\\ \n",
      "\\footnotesize{P-1}  & \\footnotesize{0x0348988e49e227337B0DbC67873bd4989e399d11} \\\\ \n",
      "\\footnotesize{P-2}  & \\footnotesize{0x79c11f2c4C0be9bC90702c9AAb34025a3c7b6ea5} \\\\ \n",
      "\\footnotesize{P-3}  & \\footnotesize{0x7198289ba0621BD902681C925ea0c8E505d40Ae0} \\\\ \n",
      "\\footnotesize{P-4}  & \\footnotesize{0xee21f211e2510B73CBb88B09582a25afB08996bb} \\\\ \n",
      "\\footnotesize{P-5}  & \\footnotesize{0xBe944766Aed181fC2E8C6ca5da2a7B191Ad0e87c} \\\\ \n",
      "\\footnotesize{P-6}  & \\footnotesize{0xfEcE9eBEA018321BCDf5977D0DAD580114722E8e} \\\\ \n",
      "\\end{tabular}\n",
      "\\end{center}\n"
     ]
    }
   ],
   "execution_count": 11
  },
  {
   "cell_type": "markdown",
   "id": "faceea01",
   "metadata": {},
   "source": [
    "### Table with Gas Info (Latex format)"
   ]
  },
  {
   "cell_type": "code",
   "id": "e1508778",
   "metadata": {
    "scrolled": true,
    "ExecuteTime": {
     "end_time": "2025-10-29T11:37:32.529270Z",
     "start_time": "2025-10-29T11:37:32.517099Z"
    }
   },
   "source": [
    "reg = model.gas_register, \"register\"\n",
    "fed = model.gas_feedback, \"feedback\"\n",
    "clo = model.gas_close, \"settle round\"\n",
    "slo = model.gas_slot, \"reserve slot\"\n",
    "wei = model.gas_weights, \"provide weights**\"\n",
    "dep = manager.gas_deploy, \"deployment\"\n",
    "dep = manager.gas_deploy, \"deployment\"\n",
    "ext = model.gas_exit, \"exit\"\n",
    "\n",
    "tot  = 0\n",
    "tot2 = 0\n",
    "\n",
    "print(\"\\\\begin{tabular}{ c|c|c }\\n\\hline\\nFunction & Gas Amount & Gas Costs*\\\\\\ \\n\\hline\")\n",
    "for i, f in [reg,slo,wei,fed,clo]:\n",
    "    print(\"{} & {:,.0f} & {:.5f} ETH \\\\\\ \".format(f, sum(i)/len(i), sum(i)/len(i) * 20e9 / 1e18 ))\n",
    "    tot += sum(i)/len(i)\n",
    "    if i != clo[0]:\n",
    "            tot2 += sum(i)/len(i)\n",
    "        \n",
    "print(\"\\hline\\n\\hline\")\n",
    "print(\"complete round & {:,.0f} & {:.5f} ETH \\\\\\ \".format(tot, tot * 20e9 / 1e18))\n",
    "print(\"\\hline\\n\\end{tabular}\")"
   ],
   "outputs": [
    {
     "name": "stdout",
     "output_type": "stream",
     "text": [
      "\\begin{tabular}{ c|c|c }\n",
      "\\hline\n",
      "Function & Gas Amount & Gas Costs*\\\\ \n",
      "\\hline\n",
      "register & 127,396 & 0.00255 ETH \\\\ \n",
      "reserve slot & 51,184 & 0.00102 ETH \\\\ \n",
      "provide weights** & 60,732 & 0.00121 ETH \\\\ \n",
      "feedback & 279,596 & 0.00559 ETH \\\\ \n",
      "settle round & 552,854 & 0.01106 ETH \\\\ \n",
      "\\hline\n",
      "\\hline\n",
      "complete round & 1,071,762 & 0.02144 ETH \\\\ \n",
      "\\hline\n",
      "\\end{tabular}\n"
     ]
    }
   ],
   "execution_count": 12
  },
  {
   "metadata": {
    "ExecuteTime": {
     "end_time": "2025-10-29T11:37:32.544863Z",
     "start_time": "2025-10-29T11:37:32.531696Z"
    }
   },
   "cell_type": "code",
   "source": "",
   "id": "d90293d9c53bba7a",
   "outputs": [],
   "execution_count": 12
  }
 ],
 "metadata": {
  "kernelspec": {
   "display_name": "Python 3 (ipykernel)",
   "language": "python",
   "name": "python3"
  },
  "language_info": {
   "codemirror_mode": {
    "name": "ipython",
    "version": 3
   },
   "file_extension": ".py",
   "mimetype": "text/x-python",
   "name": "python",
   "nbconvert_exporter": "python",
   "pygments_lexer": "ipython3",
   "version": "3.9.13"
  }
 },
 "nbformat": 4,
 "nbformat_minor": 5
}
