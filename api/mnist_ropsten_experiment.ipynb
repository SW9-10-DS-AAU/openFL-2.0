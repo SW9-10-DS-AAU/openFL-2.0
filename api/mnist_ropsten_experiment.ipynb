{
 "cells": [
  {
   "cell_type": "markdown",
   "id": "19fbca22",
   "metadata": {},
   "source": [
    "# OpenFL - Decentralized Federated Learning on Public Blockchain Systems\n",
    "### by Anton Wahrstätter, Sajjad Khan & Davor Svetinovic"
   ]
  },
  {
   "metadata": {},
   "cell_type": "markdown",
   "source": "",
   "id": "f7b64cc5830f19b1"
  },
  {
   "cell_type": "markdown",
   "id": "f54f907f",
   "metadata": {},
   "source": [
    "## MNIST Dataset simulation\n"
   ]
  },
  {
   "cell_type": "markdown",
   "id": "519ef30a",
   "metadata": {},
   "source": [
    "### Contents\n",
    "* [Experiment](#Deploy-Challenger-Contract-and-Start-Experiment)\n",
    "* [Visualization](#Visualize-Experiment)\n",
    "* [Individual Transactions](#Transactions)\n",
    "* [Contracts and Participants](#Contracts-and-Paricipants-(Latex-format))\n",
    "* [Gas Costs](#Table-with-Gas-Info-(Latex-format))"
   ]
  },
  {
   "cell_type": "markdown",
   "id": "8f2def92",
   "metadata": {},
   "source": [
    "### Imports\n",
    "The imports consist of the following:\n",
    "* PytorchModel - which is the wrapper for the Convolutional Network\n",
    "* FLManager - the wrapper for the Manager contract\n",
    "* FLChallenge - the wrapper for the Challenge contract"
   ]
  },
  {
   "cell_type": "code",
   "id": "bf64eb56",
   "metadata": {
    "ExecuteTime": {
     "end_time": "2025-10-24T13:10:44.613083Z",
     "start_time": "2025-10-24T13:10:39.396226Z"
    }
   },
   "source": [
    "from pytorch_model import PytorchModel\n",
    "from smartcontracts import FLManager, FLChallenge"
   ],
   "outputs": [],
   "execution_count": 1
  },
  {
   "cell_type": "markdown",
   "id": "7a804275",
   "metadata": {},
   "source": [
    "### Select data set"
   ]
  },
  {
   "cell_type": "code",
   "id": "2f077a2c",
   "metadata": {
    "ExecuteTime": {
     "end_time": "2025-10-24T13:10:44.651056Z",
     "start_time": "2025-10-24T13:10:44.617121Z"
    }
   },
   "source": [
    "#DATASET = \"cifar-10\"\n",
    "DATASET = \"mnist\""
   ],
   "outputs": [],
   "execution_count": 2
  },
  {
   "cell_type": "markdown",
   "id": "4b9f3ca4",
   "metadata": {},
   "source": [
    "### RPC Provider"
   ]
  },
  {
   "cell_type": "markdown",
   "id": "d9ab955e",
   "metadata": {},
   "source": [
    "The RPC provides the connection to the respective blockchain, for example Ethereum or the Robsten testnet."
   ]
  },
  {
   "cell_type": "code",
   "id": "8671c69b",
   "metadata": {
    "ExecuteTime": {
     "end_time": "2025-10-24T13:10:44.683033Z",
     "start_time": "2025-10-24T13:10:44.653927Z"
    }
   },
   "source": [
    "with open(\"rpc_endpoint.txt\", \"r\") as file:\n",
    "    RPC_ENDPOINT = file.read()"
   ],
   "outputs": [],
   "execution_count": 3
  },
  {
   "cell_type": "markdown",
   "id": "dae39685",
   "metadata": {},
   "source": [
    "### Configurations"
   ]
  },
  {
   "cell_type": "code",
   "id": "7593306b",
   "metadata": {
    "ExecuteTime": {
     "end_time": "2025-10-24T13:10:44.702010Z",
     "start_time": "2025-10-24T13:10:44.686105Z"
    }
   },
   "source": [
    "NUMBER_OF_GOOD_CONTRIBUTORS = 4\n",
    "NUMBER_OF_BAD_CONTRIBUTORS = 1\n",
    "NUMBER_OF_FREERIDER_CONTRIBUTORS = 1\n",
    "NUMBER_OF_INACTIVE_CONTRIBUTORS = 0\n",
    "\n",
    "REWARD = int(1e18)\n",
    "MINIMUM_ROUNDS = 3\n",
    "MIN_BUY_IN = int(1e18)\n",
    "MAX_BUY_IN = int(1.8e18)\n",
    "STANDARD_BUY_IN = int(1e18)\n",
    "EPOCHES = 1 #25\n",
    "BATCH_SIZE = 32 #128\n",
    "PUNISHFACTOR = 3\n",
    "FIRST_ROUND_FEE = 50 # 50% OF MIN DEPOSIT\n",
    "\n",
    "FORK = True # Fork Chain or communicate directly with RPC\n",
    "\n",
    "NUMBER_OF_CONTRIBUTERS = NUMBER_OF_GOOD_CONTRIBUTORS      + \\\n",
    "                         NUMBER_OF_BAD_CONTRIBUTORS       + \\\n",
    "                         NUMBER_OF_FREERIDER_CONTRIBUTORS + \\\n",
    "                         NUMBER_OF_INACTIVE_CONTRIBUTORS"
   ],
   "outputs": [],
   "execution_count": 4
  },
  {
   "cell_type": "code",
   "id": "e2cc8747",
   "metadata": {
    "ExecuteTime": {
     "end_time": "2025-10-24T13:10:44.721856Z",
     "start_time": "2025-10-24T13:10:44.704018Z"
    }
   },
   "source": [
    "# Only for the real-net simulation\n",
    "# In order to use a non-locally forked blockchain, \n",
    "# private keys are required to unlock accounts\n",
    "if FORK == False:\n",
    "    from web3 import Web3\n",
    "    w3 = Web3(Web3.HTTPProvider(RPC_ENDPOINT))\n",
    "    PRIVKEYS = []\n",
    "    with open(\"private_keys.txt\", \"r\") as file:\n",
    "        for f in file:\n",
    "            PRIVKEYS.append(f.split(\":\")[0])\n",
    "\n",
    "    PRIVKEYS = [w3.eth.account.privateKeyToAccount(i) for i in PRIVKEYS]\n",
    "else:\n",
    "    PRIVKEYS = None"
   ],
   "outputs": [],
   "execution_count": 5
  },
  {
   "cell_type": "markdown",
   "id": "e878d441",
   "metadata": {},
   "source": [
    "### Initialized Deep Learning Model and add Participants"
   ]
  },
  {
   "cell_type": "code",
   "id": "86f3ac59",
   "metadata": {
    "scrolled": false,
    "ExecuteTime": {
     "end_time": "2025-10-24T13:10:47.635575Z",
     "start_time": "2025-10-24T13:10:44.723583Z"
    }
   },
   "source": [
    "pytorch_model = PytorchModel(DATASET, \n",
    "                             NUMBER_OF_GOOD_CONTRIBUTORS, \n",
    "                             NUMBER_OF_CONTRIBUTERS, \n",
    "                             EPOCHES, \n",
    "                             BATCH_SIZE, \n",
    "                             STANDARD_BUY_IN,\n",
    "                             MAX_BUY_IN)\n",
    "\n",
    "\n",
    "for i in range(NUMBER_OF_BAD_CONTRIBUTORS):\n",
    "    pytorch_model.add_participant(\"bad\",3)\n",
    "\n",
    "for i in range(NUMBER_OF_FREERIDER_CONTRIBUTORS):\n",
    "    pytorch_model.add_participant(\"freerider\",1)\n",
    "    \n",
    "for i in range(NUMBER_OF_INACTIVE_CONTRIBUTORS):\n",
    "    pytorch_model.add_participant(\"inactive\",1)"
   ],
   "outputs": [
    {
     "name": "stdout",
     "output_type": "stream",
     "text": [
      "Data Loaded:\n",
      "Nr. of images for training: 60,000\n",
      "Nr. of images for testing:  10,000\n",
      "\n",
      "===================================================================================\n",
      "Pytorch Model created:\n",
      "\n",
      "Net_MNIST(\n",
      "  (conv1): Conv2d(1, 32, kernel_size=(5, 5), stride=(1, 1), padding=(2, 2))\n",
      "  (conv2): Conv2d(32, 64, kernel_size=(5, 5), stride=(1, 1), padding=(2, 2))\n",
      "  (fc1): Linear(in_features=3136, out_features=1024, bias=True)\n",
      "  (fc2): Linear(in_features=1024, out_features=10, bias=True)\n",
      ")\n",
      "\n",
      "===================================================================================\n",
      "Participant added: \u001B[1m\u001B[32mGood\u001B[0m \u001B[1m\u001B[32mUser\u001B[0m\n",
      "Participant added: \u001B[1m\u001B[32mGood\u001B[0m \u001B[1m\u001B[32mUser\u001B[0m\n",
      "Participant added: \u001B[1m\u001B[32mGood\u001B[0m \u001B[1m\u001B[32mUser\u001B[0m\n",
      "Participant added: \u001B[1m\u001B[32mGood\u001B[0m \u001B[1m\u001B[32mUser\u001B[0m\n",
      "Participant added: \u001B[1m\u001B[31mBad\u001B[0m \u001B[1m\u001B[31mUser\u001B[0m\n",
      "Participant added: \u001B[1m\u001B[31mFreerider\u001B[0m \u001B[1m\u001B[31mUser\u001B[0m\n"
     ]
    }
   ],
   "execution_count": 6
  },
  {
   "cell_type": "markdown",
   "id": "58663741",
   "metadata": {},
   "source": [
    "### Initialize and Deploy Manager Contract"
   ]
  },
  {
   "cell_type": "code",
   "id": "3a4d0bac",
   "metadata": {
    "ExecuteTime": {
     "end_time": "2025-10-24T13:10:48.805422Z",
     "start_time": "2025-10-24T13:10:47.637687Z"
    }
   },
   "source": [
    "manager = FLManager(pytorch_model, True).init(NUMBER_OF_GOOD_CONTRIBUTORS,\n",
    "                                              NUMBER_OF_BAD_CONTRIBUTORS,\n",
    "                                              NUMBER_OF_FREERIDER_CONTRIBUTORS,\n",
    "                                              NUMBER_OF_INACTIVE_CONTRIBUTORS,\n",
    "                                              MINIMUM_ROUNDS,\n",
    "                                              RPC_ENDPOINT,\n",
    "                                              FORK,\n",
    "                                              PRIVKEYS)\n",
    "\n",
    "manager.buildContract()"
   ],
   "outputs": [
    {
     "name": "stdout",
     "output_type": "stream",
     "text": [
      "Connected: True\n",
      "Client: Ganache/v7.7.3/EthereumJS TestRPC/v7.7.3/ethereum-js\n",
      "Chain ID: 1337\n",
      "Latest block: 90\n",
      "Accounts: ['0x0b12EB2c66f80E9a36556FB31C91dA527e40841b', '0x5EBC77039DC7B9Af3DC103F1855a32495e1847c1', '0xb891e31bE7aeC98007CC1eda576708685DCBA69d']\n",
      "Default account: <web3._utils.empty.Empty object at 0x0000025553BC4DC0>\n",
      "New Default account: 0x0b12EB2c66f80E9a36556FB31C91dA527e40841b\n",
      "Connected to Ethereum: \u001B[1m\u001B[32mTrue\u001B[0m\n",
      "initiated Ganache-Client @ Block Nr. 90\n",
      "\n",
      "Total Contributers:       6\n",
      "Good Contributers:        4 (67%)\n",
      "Malicious Contributers:   1 (17%)\n",
      "Freeriding Contributers:  1 (17%)\n",
      "Inactive Contributers:    0 (0%)\n",
      "Learning Rounds:          3\n",
      "-----------------------------------------------------------------------------------\n",
      "Account initiated @ Address 0x0b12EB2c66f80E9a36556FB... with 992.5 ETH | FAIR USER\n",
      "Account initiated @ Address 0x5EBC77039DC7B9Af3DC103F... with 996.1 ETH | FAIR USER\n",
      "Account initiated @ Address 0xb891e31bE7aeC98007CC1ed... with 995.8 ETH | FAIR USER\n",
      "Account initiated @ Address 0x622F728c102ccEc92f29D31... with 995.4 ETH | FAIR USER\n",
      "Account initiated @ Address 0xE9Ce824926e53FFb6a201d5... with 995.5 ETH | MAL. USER\n",
      "Account initiated @ Address 0xCcebFB97cd13461dEa89191... with 995.7 ETH | FREE USER\n",
      "-----------------------------------------------------------------------------------\n",
      "\n",
      "Manager deployed  @ Address 0x21B60A7676a6A0A663EAef25F75beAE292132454 | c99e98...\n",
      "\n",
      "-----------------------------------------------------------------------------------\n"
     ]
    }
   ],
   "execution_count": 7
  },
  {
   "cell_type": "markdown",
   "id": "5c35c7ce",
   "metadata": {},
   "source": "### Deploy Challenger Contract and Start Experiment"
  },
  {
   "metadata": {
    "ExecuteTime": {
     "end_time": "2025-10-24T13:16:00.703495Z",
     "start_time": "2025-10-24T13:10:48.805422Z"
    }
   },
   "cell_type": "code",
   "source": [
    "configs = manager.deployChallengeContract(MIN_BUY_IN,\n",
    "                                          MAX_BUY_IN,\n",
    "                                          REWARD, \n",
    "                                          MINIMUM_ROUNDS,\n",
    "                                          PUNISHFACTOR,\n",
    "                                          FIRST_ROUND_FEE)\n",
    "\n",
    "model = FLChallenge(manager, \n",
    "                    configs,\n",
    "                    pytorch_model)\n",
    "\n",
    "\n",
    "model.simulate(rounds=MINIMUM_ROUNDS)"
   ],
   "id": "3d3e5f91",
   "outputs": [
    {
     "name": "stdout",
     "output_type": "stream",
     "text": [
      "\u001B[1mStarting simulation...\u001B[0m\n",
      "\u001B[1m-----------------------------------------------------------------------------------\u001B[0m\n",
      "\n",
      "Model deployed    @ Address 0x890b39b65F54556564F80bEd845e1Bcf0d65Ae56 | 84dda0...\n",
      "\n",
      "-----------------------------------------------------------------------------------\n",
      "Account registered: 0x0b12EB2c66f80E... | 84dda0... | 1,413,805,432,213,804,544 WEI\n",
      "Account registered: 0x5EBC77039DC7B9... | 87ab4d... | 1,579,034,043,927,982,336 WEI\n",
      "Account registered: 0xb891e31bE7aeC9... | d4fd1f... | 1,249,814,640,806,245,888 WEI\n",
      "Account registered: 0x622F728c102ccE... | c4176d... | 1,167,276,048,760,669,696 WEI\n",
      "Account registered: 0xE9Ce824926e53F... | 4e6d2e... | 1,256,187,330,866,464,000 WEI\n",
      "Account registered: 0xCcebFB97cd1346... | 1e35f8... | 1,189,167,994,250,211,072 WEI\n",
      "-----------------------------------------------------------------------------------\n",
      "\u001B[1mRound 1 starts...\u001B[0m\n",
      "\u001B[1m\u001B[31mAddress 0xCcebFB97cd1346... going to switch attitude to freerider\u001B[0m\n",
      "\u001B[1m\n",
      "=========================== FEDERATED LEARNING START ==============================\u001B[0m\n",
      "Account training:   0x0b12EB2c66f80E... | Epoche  1 | Accuracy  58 % | Loss  55.75\n",
      "\u001B[32mAccount testing:    0x0b12EB2c66f80E... | Epoche  1 | Accuracy  61 % | Loss 540.75\u001B[0m\n",
      "-----------------------------------------------------------------------------------\n",
      "Account training:   0x5EBC77039DC7B9... | Epoche  1 | Accuracy  64 % | Loss  46.48\n",
      "\u001B[32mAccount testing:    0x5EBC77039DC7B9... | Epoche  1 | Accuracy  66 % | Loss 450.61\u001B[0m\n",
      "-----------------------------------------------------------------------------------\n",
      "Account training:   0xb891e31bE7aeC9... | Epoche  1 | Accuracy  72 % | Loss  32.97\n",
      "\u001B[32mAccount testing:    0xb891e31bE7aeC9... | Epoche  1 | Accuracy  73 % | Loss 314.56\u001B[0m\n",
      "-----------------------------------------------------------------------------------\n",
      "Account training:   0x622F728c102ccE... | Epoche  1 | Accuracy  67 % | Loss  46.44\n",
      "\u001B[32mAccount testing:    0x622F728c102ccE... | Epoche  1 | Accuracy  70 % | Loss 440.37\u001B[0m\n",
      "-----------------------------------------------------------------------------------\n",
      "Account training:   0xE9Ce824926e53F... | Epoche  1 | Accuracy  71 % | Loss  33.72\n",
      "\u001B[32mAccount testing:    0xE9Ce824926e53F... | Epoche  1 | Accuracy  71 % | Loss 330.23\u001B[0m\n",
      "-----------------------------------------------------------------------------------\n",
      "Account freeriding: 0xCcebFB97cd1346... | Epoche -- | Accuracy   9 % | Loss  73.76\n",
      "\u001B[1m=========================== FEDERATED LEARNING END ================================\n",
      "\u001B[0m\n",
      "\u001B[31mAccount 0xCcebFB... going to provide random weights; starts copycat-ing next round\u001B[0m\n",
      "Account testing:    0xCcebFB97cd1346... |  Testing  | Accuracy   9 % | Loss ∞\n",
      "\n",
      "Slot registered:    0x0b12EB2c66f80E... | 89f60b... | 1,413,805,432,213,804,544 WEI\n",
      "Slot registered:    0x5EBC77039DC7B9... | 011677... | 1,579,034,043,927,982,336 WEI\n",
      "Slot registered:    0xb891e31bE7aeC9... | f61973... | 1,249,814,640,806,245,888 WEI\n",
      "Slot registered:    0x622F728c102ccE... | 420371... | 1,167,276,048,760,669,696 WEI\n",
      "Slot registered:    0xE9Ce824926e53F... | 319863... | 1,256,187,330,866,464,000 WEI\n",
      "Slot registered:    0xCcebFB97cd1346... | 4714a7... | 1,189,167,994,250,211,072 WEI\n",
      "-----------------------------------------------------------------------------------\n",
      "Weights provided:   0x0b12EB2c66f80E... | 8524c1... | 1,413,805,432,213,804,544 WEI\n",
      "Weights provided:   0x5EBC77039DC7B9... | c50d27... | 1,579,034,043,927,982,336 WEI\n",
      "Weights provided:   0xb891e31bE7aeC9... | 744bf0... | 1,249,814,640,806,245,888 WEI\n",
      "Weights provided:   0x622F728c102ccE... | 4ce585... | 1,167,276,048,760,669,696 WEI\n",
      "Weights provided:   0xE9Ce824926e53F... | 53b140... | 1,256,187,330,866,464,000 WEI\n",
      "Weights provided:   0xCcebFB97cd1346... | c2a3c4... | 1,189,167,994,250,211,072 WEI\n",
      "-----------------------------------------------------------------------------------\n",
      "Users exchanging models...\n",
      "-----------------------------------------------------------------------------------\n",
      "Users verifying models...\n",
      "-----------------------------------------------------------------------------------\n",
      "Users evaluating models...\n",
      "FEEDBACK MATRIX:\n",
      "[[ 0.  1.  1.  1.  1. -1.]\n",
      " [ 1.  0.  1.  1.  1. -1.]\n",
      " [ 0.  0.  0.  1.  1. -1.]\n",
      " [ 1.  1.  1.  0.  1. -1.]\n",
      " [ 0.  1.  1.  1.  0. -1.]\n",
      " [ 0.  0.  0.  0.  0.  0.]]\n",
      "-----------------------------------------------------------------------------------\n",
      "\n",
      "Users exchanging feedback...\n",
      "                                                   \n",
      "-----------------------------------------------------------------------------------\n",
      "\u001B[1m\n",
      "Settle round: 1\u001B[0m\n",
      "\n",
      "-----------------------------------------------------------------------------------\n",
      "Account 0x0b12EB2c66f80E... participating in merge\n",
      "Account 0x5EBC77039DC7B9... participating in merge\n",
      "Account 0xb891e31bE7aeC9... participating in merge\n",
      "Account 0x622F728c102ccE... participating in merge\n",
      "Account 0xE9Ce824926e53F... participating in merge\n",
      "-----------------------------------------------------------------------------------\n",
      "\u001B[1mMerged Model: Accuracy  40 % | Loss 711.93\u001B[0m\n",
      "-----------------------------------------------------------------------------------\n",
      "\n",
      "\u001B[1m\n",
      "END OF ROUND 1\u001B[0m\n",
      "\u001B[1mVALID VOTES:      25\u001B[0m\n",
      "\u001B[1mREWARD PER VOTE:  13,333,333,333,333,333\u001B[0m\n",
      "\u001B[1mTOTAL PUNISHMENT: 729,722,664,750,070,376\n",
      "\u001B[0m\n",
      "-----------------------------------------------------------------------------------\n",
      "\n",
      "\u001B[1mREWARDED USERS\u001B[0m\n",
      "\u001B[32mUSER @ 0x0b12EB2c66f80E9a36556FB31C91dA527e40841b\u001B[0m\n",
      "\u001B[32mROUND SCORE:      2,746,310,092,688,652,207\u001B[0m\n",
      "\u001B[32mTOTAL REWARD:     212,611,199,616,680,740\u001B[0m\n",
      "\u001B[32mNEW REPUTATION:   1,626,416,631,830,485,397\n",
      "\u001B[0m\n",
      "\u001B[32mUSER @ 0x5EBC77039DC7B9Af3DC103F1855a32495e1847c1\u001B[0m\n",
      "\u001B[32mROUND SCORE:      3,837,268,811,840,938,571\u001B[0m\n",
      "\u001B[32mTOTAL REWARD:     212,611,199,616,680,740\u001B[0m\n",
      "\u001B[32mNEW REPUTATION:   1,791,645,243,544,663,133\n",
      "\u001B[0m\n",
      "\u001B[32mUSER @ 0xb891e31bE7aeC98007CC1eda576708685DCBA69d\u001B[0m\n",
      "\u001B[32mROUND SCORE:      5,416,302,855,768,920,964\u001B[0m\n",
      "\u001B[32mTOTAL REWARD:     212,611,199,616,680,740\u001B[0m\n",
      "\u001B[32mNEW REPUTATION:   1,462,425,840,422,926,704\n",
      "\u001B[0m\n",
      "\u001B[32mUSER @ 0x622F728c102ccEc92f29D317519F530CbC8156e2\u001B[0m\n",
      "\u001B[32mROUND SCORE:      5,498,841,447,814,497,114\u001B[0m\n",
      "\u001B[32mTOTAL REWARD:     212,611,199,616,680,740\u001B[0m\n",
      "\u001B[32mNEW REPUTATION:   1,379,887,248,377,350,554\n",
      "\u001B[0m\n",
      "\u001B[32mUSER @ 0xE9Ce824926e53FFb6a201d5BF5223174503E83b4\u001B[0m\n",
      "\u001B[32mROUND SCORE:      5,409,930,165,708,702,828\u001B[0m\n",
      "\u001B[32mTOTAL REWARD:     212,611,199,616,680,740\u001B[0m\n",
      "\u001B[32mNEW REPUTATION:   1,468,798,530,483,144,840\n",
      "\u001B[0m\n",
      "-----------------------------------------------------------------------------------\n",
      "\n",
      "\u001B[1mPUNISHED USERS\u001B[0m\n",
      "\u001B[31mUSER @ 0xCcebFB97cd13461dEa89191B3142aE339D4E19BD\u001B[0m\n",
      "\u001B[31mROUND SCORE:      -6,666,117,496,575,166,928\u001B[0m\n",
      "\u001B[31mTOTAL LOSS:       229,722,664,750,070,376\u001B[0m\n",
      "\u001B[31mNEW REPUTATION:   459,445,329,500,140,754\n",
      "\u001B[0m\n",
      "-----------------------------------------------------------------------------------\n",
      "\n",
      "\n",
      "\u001B[1mRound 1 completed:\u001B[0m\n",
      "\u001B[1m0x0b12EB2c66f80E...  1,413,805,432,213,804,544 -> 1,626,416,631,830,485,504\u001B[0m\n",
      "\u001B[1m0x5EBC77039DC7B9...  1,579,034,043,927,982,336 -> 1,791,645,243,544,663,040\u001B[0m\n",
      "\u001B[1m0xb891e31bE7aeC9...  1,249,814,640,806,245,888 -> 1,462,425,840,422,926,592\u001B[0m\n",
      "\u001B[1m0x622F728c102ccE...  1,167,276,048,760,669,696 -> 1,379,887,248,377,350,656\u001B[0m\n",
      "\u001B[1m0xE9Ce824926e53F...  1,256,187,330,866,464,000 -> 1,468,798,530,483,144,960\u001B[0m\n",
      "\u001B[1m0xCcebFB97cd1346...  1,189,167,994,250,211,072 ->   459,445,329,500,140,736\u001B[0m\n",
      "\u001B[1m\n",
      "▬▬▬▬▬▬▬▬▬▬▬▬▬▬▬▬▬▬▬▬▬▬▬▬▬▬▬▬▬▬▬▬▬▬▬▬▬▬▬▬▬▬▬▬▬▬▬▬▬▬▬▬▬▬▬▬▬▬▬▬▬▬▬▬▬▬▬▬▬▬▬▬▬▬▬▬▬▬▬▬▬▬▬\n",
      "\u001B[0m\n",
      "\u001B[1mRound 2 starts...\u001B[0m\n",
      "\u001B[1m\n",
      "=========================== FEDERATED LEARNING START ==============================\u001B[0m\n",
      "Account training:   0x0b12EB2c66f80E... | Epoche  1 | Accuracy  63 % | Loss  37.73\n",
      "\u001B[32mAccount testing:    0x0b12EB2c66f80E... | Epoche  1 | Accuracy  64 % | Loss 374.01\u001B[0m\n",
      "-----------------------------------------------------------------------------------\n",
      "Account training:   0x5EBC77039DC7B9... | Epoche  1 | Accuracy  66 % | Loss  37.76\n",
      "\u001B[32mAccount testing:    0x5EBC77039DC7B9... | Epoche  1 | Accuracy  67 % | Loss 364.34\u001B[0m\n",
      "-----------------------------------------------------------------------------------\n",
      "Account training:   0xb891e31bE7aeC9... | Epoche  1 | Accuracy  64 % | Loss  38.17\n",
      "\u001B[32mAccount testing:    0xb891e31bE7aeC9... | Epoche  1 | Accuracy  65 % | Loss 368.79\u001B[0m\n",
      "-----------------------------------------------------------------------------------\n",
      "Account training:   0x622F728c102ccE... | Epoche  1 | Accuracy  64 % | Loss  38.10\n",
      "\u001B[32mAccount testing:    0x622F728c102ccE... | Epoche  1 | Accuracy  67 % | Loss 360.59\u001B[0m\n",
      "-----------------------------------------------------------------------------------\n",
      "Account training:   0xE9Ce824926e53F... | Epoche  1 | Accuracy  63 % | Loss  38.48\n",
      "\u001B[32mAccount testing:    0xE9Ce824926e53F... | Epoche  1 | Accuracy  63 % | Loss 374.30\u001B[0m\n",
      "-----------------------------------------------------------------------------------\n",
      "Account freeriding: 0xCcebFB97cd1346... | Epoche -- | Accuracy  42 % | Loss  72.73\n",
      "\u001B[1m=========================== FEDERATED LEARNING END ================================\n",
      "\u001B[0m\n",
      "\u001B[31mAddress 0xCcebFB97cd1346... going to add random noise to weights\u001B[0m\n",
      "Account testing:    0xCcebFB97cd1346... |  Testing  | Accuracy  61 % | Loss ∞\n",
      "\n",
      "Slot registered:    0x0b12EB2c66f80E... | ed564a... | 1,626,416,631,830,485,504 WEI\n",
      "Slot registered:    0x5EBC77039DC7B9... | e6a204... | 1,791,645,243,544,663,040 WEI\n",
      "Slot registered:    0xb891e31bE7aeC9... | 4d1083... | 1,462,425,840,422,926,592 WEI\n",
      "Slot registered:    0x622F728c102ccE... | c2b911... | 1,379,887,248,377,350,656 WEI\n",
      "Slot registered:    0xE9Ce824926e53F... | b9f707... | 1,468,798,530,483,144,960 WEI\n",
      "Slot registered:    0xCcebFB97cd1346... | 2a26b6... |   459,445,329,500,140,736 WEI\n",
      "-----------------------------------------------------------------------------------\n",
      "Weights provided:   0x0b12EB2c66f80E... | 7b202e... | 1,626,416,631,830,485,504 WEI\n",
      "Weights provided:   0x5EBC77039DC7B9... | 99b26a... | 1,791,645,243,544,663,040 WEI\n",
      "Weights provided:   0xb891e31bE7aeC9... | 75e3fa... | 1,462,425,840,422,926,592 WEI\n",
      "Weights provided:   0x622F728c102ccE... | ca0993... | 1,379,887,248,377,350,656 WEI\n",
      "Weights provided:   0xE9Ce824926e53F... | cee92e... | 1,468,798,530,483,144,960 WEI\n",
      "Weights provided:   0xCcebFB97cd1346... | 7c7592... |   459,445,329,500,140,736 WEI\n",
      "-----------------------------------------------------------------------------------\n",
      "Users exchanging models...\n",
      "-----------------------------------------------------------------------------------\n",
      "Users verifying models...\n",
      "-----------------------------------------------------------------------------------\n",
      "Users evaluating models...\n",
      "FEEDBACK MATRIX:\n",
      "[[0. 1. 1. 1. 1. 1.]\n",
      " [1. 0. 1. 1. 1. 1.]\n",
      " [1. 1. 0. 1. 1. 1.]\n",
      " [1. 1. 1. 0. 1. 1.]\n",
      " [1. 1. 1. 1. 0. 1.]\n",
      " [0. 0. 0. 0. 0. 0.]]\n",
      "-----------------------------------------------------------------------------------\n",
      "\n",
      "Users exchanging feedback...\n",
      "                                                   \n",
      "-----------------------------------------------------------------------------------\n",
      "\u001B[1m\n",
      "Settle round: 2\u001B[0m\n",
      "\n",
      "-----------------------------------------------------------------------------------\n",
      "Account 0x0b12EB2c66f80E... participating in merge\n",
      "Account 0x5EBC77039DC7B9... participating in merge\n",
      "Account 0xb891e31bE7aeC9... participating in merge\n",
      "Account 0x622F728c102ccE... participating in merge\n",
      "Account 0xE9Ce824926e53F... participating in merge\n",
      "Account 0xCcebFB97cd1346... participating in merge\n",
      "-----------------------------------------------------------------------------------\n",
      "\u001B[1mMerged Model: Accuracy  67 % | Loss 447.20\u001B[0m\n",
      "-----------------------------------------------------------------------------------\n",
      "\n",
      "\u001B[1m\n",
      "END OF ROUND 2\u001B[0m\n",
      "\u001B[1mVALID VOTES:      30\u001B[0m\n",
      "\u001B[1mREWARD PER VOTE:  11,111,111,111,111,111\u001B[0m\n",
      "\u001B[1mTOTAL PUNISHMENT: 0\n",
      "\u001B[0m\n",
      "-----------------------------------------------------------------------------------\n",
      "\n",
      "\u001B[1mREWARDED USERS\u001B[0m\n",
      "\u001B[32mUSER @ 0x0b12EB2c66f80E9a36556FB31C91dA527e40841b\u001B[0m\n",
      "\u001B[32mROUND SCORE:      6,102,756,862,828,085,231\u001B[0m\n",
      "\u001B[32mTOTAL REWARD:     55,555,555,555,555,555\u001B[0m\n",
      "\u001B[32mNEW REPUTATION:   1,681,972,187,386,040,952\n",
      "\u001B[0m\n",
      "\u001B[32mUSER @ 0x5EBC77039DC7B9Af3DC103F1855a32495e1847c1\u001B[0m\n",
      "\u001B[32mROUND SCORE:      5,937,528,251,113,907,495\u001B[0m\n",
      "\u001B[32mTOTAL REWARD:     55,555,555,555,555,555\u001B[0m\n",
      "\u001B[32mNEW REPUTATION:   1,847,200,799,100,218,688\n",
      "\u001B[0m\n",
      "\u001B[32mUSER @ 0xb891e31bE7aeC98007CC1eda576708685DCBA69d\u001B[0m\n",
      "\u001B[32mROUND SCORE:      6,266,747,654,235,643,924\u001B[0m\n",
      "\u001B[32mTOTAL REWARD:     55,555,555,555,555,555\u001B[0m\n",
      "\u001B[32mNEW REPUTATION:   1,517,981,395,978,482,259\n",
      "\u001B[0m\n",
      "\u001B[32mUSER @ 0x622F728c102ccEc92f29D317519F530CbC8156e2\u001B[0m\n",
      "\u001B[32mROUND SCORE:      6,349,286,246,281,220,074\u001B[0m\n",
      "\u001B[32mTOTAL REWARD:     55,555,555,555,555,555\u001B[0m\n",
      "\u001B[32mNEW REPUTATION:   1,435,442,803,932,906,109\n",
      "\u001B[0m\n",
      "\u001B[32mUSER @ 0xE9Ce824926e53FFb6a201d5BF5223174503E83b4\u001B[0m\n",
      "\u001B[32mROUND SCORE:      6,260,374,964,175,425,788\u001B[0m\n",
      "\u001B[32mTOTAL REWARD:     55,555,555,555,555,555\u001B[0m\n",
      "\u001B[32mNEW REPUTATION:   1,524,354,086,038,700,395\n",
      "\u001B[0m\n",
      "\u001B[32mUSER @ 0xCcebFB97cd13461dEa89191B3142aE339D4E19BD\u001B[0m\n",
      "\u001B[32mROUND SCORE:      7,729,173,494,658,570,628\u001B[0m\n",
      "\u001B[32mTOTAL REWARD:     55,555,555,555,555,555\u001B[0m\n",
      "\u001B[32mNEW REPUTATION:   515,000,885,055,696,309\n",
      "\u001B[0m\n",
      "-----------------------------------------------------------------------------------\n",
      "\n",
      "\n",
      "\u001B[1mRound 2 completed:\u001B[0m\n",
      "\u001B[1m0x0b12EB2c66f80E...  1,626,416,631,830,485,504 -> 1,681,972,187,386,040,832\u001B[0m\n",
      "\u001B[1m0x5EBC77039DC7B9...  1,791,645,243,544,663,040 -> 1,847,200,799,100,218,624\u001B[0m\n",
      "\u001B[1m0xb891e31bE7aeC9...  1,462,425,840,422,926,592 -> 1,517,981,395,978,482,176\u001B[0m\n",
      "\u001B[1m0x622F728c102ccE...  1,379,887,248,377,350,656 -> 1,435,442,803,932,905,984\u001B[0m\n",
      "\u001B[1m0xE9Ce824926e53F...  1,468,798,530,483,144,960 -> 1,524,354,086,038,700,288\u001B[0m\n",
      "\u001B[1m0xCcebFB97cd1346...    459,445,329,500,140,736 ->   515,000,885,055,696,320\u001B[0m\n",
      "\u001B[1m\n",
      "▬▬▬▬▬▬▬▬▬▬▬▬▬▬▬▬▬▬▬▬▬▬▬▬▬▬▬▬▬▬▬▬▬▬▬▬▬▬▬▬▬▬▬▬▬▬▬▬▬▬▬▬▬▬▬▬▬▬▬▬▬▬▬▬▬▬▬▬▬▬▬▬▬▬▬▬▬▬▬▬▬▬▬\n",
      "\u001B[0m\n",
      "\u001B[1mRound 3 starts...\u001B[0m\n",
      "\u001B[1m\u001B[31mAddress 0xE9Ce824926e53F... going to switch attitude to bad\u001B[0m\n",
      "\u001B[1m\n",
      "=========================== FEDERATED LEARNING START ==============================\u001B[0m\n",
      "Account training:   0x0b12EB2c66f80E... | Epoche  1 | Accuracy  82 % | Loss  18.56\n",
      "\u001B[32mAccount testing:    0x0b12EB2c66f80E... | Epoche  1 | Accuracy  80 % | Loss 193.52\u001B[0m\n",
      "-----------------------------------------------------------------------------------\n",
      "Account training:   0x5EBC77039DC7B9... | Epoche  1 | Accuracy  78 % | Loss  21.52\n",
      "\u001B[32mAccount testing:    0x5EBC77039DC7B9... | Epoche  1 | Accuracy  79 % | Loss 215.02\u001B[0m\n",
      "-----------------------------------------------------------------------------------\n",
      "Account training:   0xb891e31bE7aeC9... | Epoche  1 | Accuracy  80 % | Loss  20.72\n",
      "\u001B[32mAccount testing:    0xb891e31bE7aeC9... | Epoche  1 | Accuracy  81 % | Loss 191.03\u001B[0m\n",
      "-----------------------------------------------------------------------------------\n",
      "Account training:   0x622F728c102ccE... | Epoche  1 | Accuracy  78 % | Loss  21.49\n",
      "\u001B[32mAccount testing:    0x622F728c102ccE... | Epoche  1 | Accuracy  80 % | Loss 195.87\u001B[0m\n",
      "-----------------------------------------------------------------------------------\n",
      "Account malicious:  0xE9Ce824926e53F... | Epoche -- | Accuracy  67 % | Loss  46.18\n",
      "Account freeriding: 0xCcebFB97cd1346... | Epoche -- | Accuracy  69 % | Loss  45.10\n",
      "\u001B[1m=========================== FEDERATED LEARNING END ================================\n",
      "\u001B[0m\n",
      "\u001B[31mAddress 0xE9Ce824926e53F... going to provide random weights\u001B[0m\n",
      "Account testing:    0xE9Ce824926e53F... |  Testing  | Accuracy  10 % | Loss ∞\n",
      "\n",
      "\u001B[31mAddress 0xCcebFB97cd1346... going to add random noise to weights\u001B[0m\n",
      "Account testing:    0xCcebFB97cd1346... |  Testing  | Accuracy  65 % | Loss ∞\n",
      "\n",
      "Slot registered:    0x0b12EB2c66f80E... | 33c028... | 1,681,972,187,386,040,832 WEI\n",
      "Slot registered:    0x5EBC77039DC7B9... | fc48f4... | 1,847,200,799,100,218,624 WEI\n",
      "Slot registered:    0xb891e31bE7aeC9... | 3cd590... | 1,517,981,395,978,482,176 WEI\n",
      "Slot registered:    0x622F728c102ccE... | b8518b... | 1,435,442,803,932,905,984 WEI\n",
      "Slot registered:    0xE9Ce824926e53F... | 7e3f6e... | 1,524,354,086,038,700,288 WEI\n",
      "Slot registered:    0xCcebFB97cd1346... | 2fcc86... |   515,000,885,055,696,320 WEI\n",
      "-----------------------------------------------------------------------------------\n",
      "Weights provided:   0x0b12EB2c66f80E... | c6af68... | 1,681,972,187,386,040,832 WEI\n",
      "Weights provided:   0x5EBC77039DC7B9... | 274ee4... | 1,847,200,799,100,218,624 WEI\n",
      "Weights provided:   0xb891e31bE7aeC9... | c7a4e0... | 1,517,981,395,978,482,176 WEI\n",
      "Weights provided:   0x622F728c102ccE... | 2a7974... | 1,435,442,803,932,905,984 WEI\n",
      "Weights provided:   0xE9Ce824926e53F... | 9294a0... | 1,524,354,086,038,700,288 WEI\n",
      "Weights provided:   0xCcebFB97cd1346... | a53382... |   515,000,885,055,696,320 WEI\n",
      "-----------------------------------------------------------------------------------\n",
      "Users exchanging models...\n",
      "-----------------------------------------------------------------------------------\n",
      "Users verifying models...\n",
      "-----------------------------------------------------------------------------------\n",
      "Users evaluating models...\n",
      "FEEDBACK MATRIX:\n",
      "[[ 0.  1.  1.  1. -1. -1.]\n",
      " [ 1.  0.  1.  1. -1. -1.]\n",
      " [ 1.  1.  0.  1. -1. -1.]\n",
      " [ 1.  1.  1.  0. -1. -1.]\n",
      " [-1. -1. -1. -1.  0. -1.]\n",
      " [ 0.  0.  0.  0.  0.  0.]]\n",
      "-----------------------------------------------------------------------------------\n",
      "\n",
      "Users exchanging feedback...\n",
      "                                                   \n",
      "-----------------------------------------------------------------------------------\n",
      "\u001B[1m\n",
      "Settle round: 3\u001B[0m\n",
      "\n",
      "-----------------------------------------------------------------------------------\n",
      "Account 0x0b12EB2c66f80E... participating in merge\n",
      "Account 0x5EBC77039DC7B9... participating in merge\n",
      "Account 0xb891e31bE7aeC9... participating in merge\n",
      "Account 0x622F728c102ccE... participating in merge\n",
      "-----------------------------------------------------------------------------------\n",
      "\u001B[1mMerged Model: Accuracy  82 % | Loss 179.80\u001B[0m\n",
      "-----------------------------------------------------------------------------------\n",
      "\n",
      "\u001B[1m\n",
      "END OF ROUND 3\u001B[0m\n",
      "\u001B[1mVALID VOTES:      20\u001B[0m\n",
      "\u001B[1mREWARD PER VOTE:  16,666,666,666,666,666\u001B[0m\n",
      "\u001B[1mTOTAL PUNISHMENT: 679,784,990,364,798,901\n",
      "\u001B[0m\n",
      "-----------------------------------------------------------------------------------\n",
      "\n",
      "\u001B[1mREWARDED USERS\u001B[0m\n",
      "\u001B[32mUSER @ 0x0b12EB2c66f80E9a36556FB31C91dA527e40841b\u001B[0m\n",
      "\u001B[32mROUND SCORE:      3,276,270,912,972,906,661\u001B[0m\n",
      "\u001B[32mTOTAL REWARD:     253,279,580,924,533,055\u001B[0m\n",
      "\u001B[32mNEW REPUTATION:   1,935,251,768,310,574,007\n",
      "\u001B[0m\n",
      "\u001B[32mUSER @ 0x5EBC77039DC7B9Af3DC103F1855a32495e1847c1\u001B[0m\n",
      "\u001B[32mROUND SCORE:      3,111,042,301,258,728,925\u001B[0m\n",
      "\u001B[32mTOTAL REWARD:     253,279,580,924,533,055\u001B[0m\n",
      "\u001B[32mNEW REPUTATION:   2,100,480,380,024,751,743\n",
      "\u001B[0m\n",
      "\u001B[32mUSER @ 0xb891e31bE7aeC98007CC1eda576708685DCBA69d\u001B[0m\n",
      "\u001B[32mROUND SCORE:      3,440,261,704,380,465,354\u001B[0m\n",
      "\u001B[32mTOTAL REWARD:     253,279,580,924,533,055\u001B[0m\n",
      "\u001B[32mNEW REPUTATION:   1,771,260,976,903,015,314\n",
      "\u001B[0m\n",
      "\u001B[32mUSER @ 0x622F728c102ccEc92f29D317519F530CbC8156e2\u001B[0m\n",
      "\u001B[32mROUND SCORE:      3,522,800,296,426,041,504\u001B[0m\n",
      "\u001B[32mTOTAL REWARD:     253,279,580,924,533,055\u001B[0m\n",
      "\u001B[32mNEW REPUTATION:   1,688,722,384,857,439,164\n",
      "\u001B[0m\n",
      "-----------------------------------------------------------------------------------\n",
      "\n",
      "\u001B[1mPUNISHED USERS\u001B[0m\n",
      "\u001B[31mUSER @ 0xE9Ce824926e53FFb6a201d5BF5223174503E83b4\u001B[0m\n",
      "\u001B[31mROUND SCORE:      -6,482,597,186,397,648,008\u001B[0m\n",
      "\u001B[31mTOTAL LOSS:       508,118,028,679,566,798\u001B[0m\n",
      "\u001B[31mNEW REPUTATION:   1,016,236,057,359,133,597\n",
      "\u001B[0m\n",
      "\u001B[31mUSER @ 0xCcebFB97cd13461dEa89191B3142aE339D4E19BD\u001B[0m\n",
      "\u001B[31mROUND SCORE:      -8,006,951,272,436,348,403\u001B[0m\n",
      "\u001B[31mTOTAL LOSS:       171,666,961,685,232,103\u001B[0m\n",
      "\u001B[31mNEW REPUTATION:   343,333,923,370,464,206\n",
      "\u001B[0m\n",
      "-----------------------------------------------------------------------------------\n",
      "\n",
      "\n",
      "\u001B[1mRound 3 completed:\u001B[0m\n",
      "\u001B[1m0x0b12EB2c66f80E...  1,681,972,187,386,040,832 -> 1,935,251,768,310,574,080\u001B[0m\n",
      "\u001B[1m0x5EBC77039DC7B9...  1,847,200,799,100,218,624 -> 2,100,480,380,024,751,616\u001B[0m\n",
      "\u001B[1m0xb891e31bE7aeC9...  1,517,981,395,978,482,176 -> 1,771,260,976,903,015,424\u001B[0m\n",
      "\u001B[1m0x622F728c102ccE...  1,435,442,803,932,905,984 -> 1,688,722,384,857,439,232\u001B[0m\n",
      "\u001B[1m0xE9Ce824926e53F...  1,524,354,086,038,700,288 -> 1,016,236,057,359,133,568\u001B[0m\n",
      "\u001B[1m0xCcebFB97cd1346...    515,000,885,055,696,320 ->   343,333,923,370,464,192\u001B[0m\n",
      "\u001B[1m\n",
      "▬▬▬▬▬▬▬▬▬▬▬▬▬▬▬▬▬▬▬▬▬▬▬▬▬▬▬▬▬▬▬▬▬▬▬▬▬▬▬▬▬▬▬▬▬▬▬▬▬▬▬▬▬▬▬▬▬▬▬▬▬▬▬▬▬▬▬▬▬▬▬▬▬▬▬▬▬▬▬▬▬▬▬\n",
      "\u001B[0m\n",
      "\u001B[1mTerminating Model...\u001B[0m\n",
      "Account exited:     0x0b12EB2c66f80E... | d58018... | 991,980,660,040,702,361,600 WEI\n",
      "Account exited:     0x5EBC77039DC7B9... | d77860... | 996,670,731,565,564,559,360 WEI\n",
      "Account exited:     0xb891e31bE7aeC9... | 04b8d2... | 996,330,531,535,328,116,736 WEI\n",
      "Account exited:     0x622F728c102ccE... | 89e616... | 995,966,236,008,479,850,496 WEI\n",
      "Account exited:     0xE9Ce824926e53F... | fa13e3... | 995,257,384,783,001,157,632 WEI\n",
      "Account exited:     0xCcebFB97cd1346... | d5dfe0... | 994,844,015,148,818,235,392 WEI\n",
      "-----------------------------------------------------------------------------------\n"
     ]
    }
   ],
   "execution_count": 8
  },
  {
   "cell_type": "markdown",
   "id": "e4fed280",
   "metadata": {},
   "source": [
    "### Visualize Experiment "
   ]
  },
  {
   "cell_type": "code",
   "id": "bcc409e1",
   "metadata": {
    "scrolled": true,
    "ExecuteTime": {
     "end_time": "2025-10-24T13:17:44.461378Z",
     "start_time": "2025-10-24T13:17:43.757826Z"
    }
   },
   "source": [
    "model.visualize_simulation()"
   ],
   "outputs": [
    {
     "data": {
      "text/plain": [
       "<Figure size 1600x300 with 5 Axes>"
      ],
      "image/png": "[encoded data removed]"
     },
     "metadata": {},
     "output_type": "display_data"
    }
   ],
   "execution_count": 10
  },
  {
   "cell_type": "markdown",
   "id": "3a4557d7",
   "metadata": {},
   "source": [
    "### Transactions"
   ]
  },
  {
   "cell_type": "code",
   "id": "aa348bb3",
   "metadata": {
    "scrolled": true,
    "ExecuteTime": {
     "end_time": "2025-10-24T13:18:22.085152Z",
     "start_time": "2025-10-24T13:18:21.812675Z"
    }
   },
   "source": [
    "print(\"{:<10} - {:^64} -    Gas Used - {}\".format(\"Function\", \"Transaction Hash\", \"Success\"))\n",
    "print(\"------------------------------------------------------------------------------------------\")\n",
    "for f, txhash in model.txHashes:\n",
    "    r = model.w3.eth.wait_for_transaction_receipt(txhash)\n",
    "    if r[\"status\"] == 1:\n",
    "        success = \"✅\"\n",
    "    else:\n",
    "        success = \"FAIL\"\n",
    "    \n",
    "    gas = r[\"gasUsed\"]\n",
    "    print(\"{:<10} - {} - {:>9,.0f} -   {}\".format(f, txhash, gas, success))"
   ],
   "outputs": [
    {
     "name": "stdout",
     "output_type": "stream",
     "text": [
      "Function   -                         Transaction Hash                         -    Gas Used - Success\n",
      "------------------------------------------------------------------------------------------\n",
      "register   - 87ab4d25832f88888deb5e984416dc8f7d16300e4dff8d0c8edd71644131ae01 -   127,396 -   ✅\n",
      "register   - d4fd1fafb30209b9cdaeb9e3a3d4488ddd38137ba2cc3b9538d02deafe63efed -   127,396 -   ✅\n",
      "register   - c4176db3495c04914af8438f814cd5f4104388637091fc318e43ed58bcd5ee16 -   127,396 -   ✅\n",
      "register   - 4e6d2ece9b1f83000a6d5b0f01b763e911dc7f35c9bf9c765a3dfa9b7b6a145a -   127,396 -   ✅\n",
      "register   - 1e35f8835f07eed3c18ca80ec80bda1131ae84fbfc8e6f837455f39450597587 -   127,396 -   ✅\n",
      "slot       - 89f60b39d0d9786b1ce98bf3a1a5cab255a5c829af2502cb12150b1772541be7 -    51,185 -   ✅\n",
      "slot       - 011677dd7c0a9a929e9cc0751515dae072b4eae6c1ed778d3358a17c7cbed009 -    51,173 -   ✅\n",
      "slot       - f619732db48e70d17ad00528d1979f451136f6ccc6aa9d6d5038f7f7d78f9ac6 -    51,185 -   ✅\n",
      "slot       - 4203716460525cb414a557a61b72af08186f13f687d0ba87440d2571e6bdb4b0 -    51,185 -   ✅\n",
      "slot       - 31986339281ff402b17090df15f79f9ec2c824d44ca10fa29d7d7e88ce22ab24 -    51,173 -   ✅\n",
      "slot       - 4714a70d7826049cd64f365380f005cbd1c32832b967c033dc79562efc6e2695 -    51,185 -   ✅\n",
      "weights    - 8524c1b772341d55e84c8ef675aa9d4bbbe3ec1c104e1188705bcd6a588857c0 -    74,983 -   ✅\n",
      "weights    - c50d276564299a92a7bcb45a7c86eee97df3868879241df09f6c7affcc62bdda -    57,883 -   ✅\n",
      "weights    - 744bf0ab3394dfff1b5c8598fe90c01583a9149a83a8cc2d79940f0efb33afb1 -    57,871 -   ✅\n",
      "weights    - 4ce585249ac72fe42044f40262857a01c123db3f8dcbb18643f1ec42dc9f4cc1 -    57,883 -   ✅\n",
      "weights    - 53b1407b84dcc7d1afb7ca2e540c023b120e333722c14ab9379e486fc5f0d7c7 -    57,883 -   ✅\n",
      "weights    - c2a3c4c3a07537093ba1b02f57093e7776e6a6a17b670bc23fea33f9721f7654 -    57,883 -   ✅\n",
      "feedback   - 8d9c60637bf53f8d1cc1d254f6357cf386a5f4d6d355fa6e9c5cf74db962935d -   405,870 -   ✅\n",
      "feedback   - 14396306c5a5b43d8cb2fbe7f483b6f7e233d4bab0b4acd8b71e1065d0aeb085 -   337,471 -   ✅\n",
      "feedback   - 7012bfc9e25f0906a92446f2cb818fdfefd40789313294a583a2579768dbaf33 -   272,637 -   ✅\n",
      "feedback   - 9667524c2a5e8117ec4b2a38e19d79bad35e0534f6a471418c40dcb9d0bcd29d -   320,371 -   ✅\n",
      "feedback   - c91bcde3606a0a60193e1c312249a6f03206cf8b6fdd9cc2115311971684703f -   296,504 -   ✅\n",
      "feedback   - c868529add21fd4e488af70d87f71049b9d6821e5bf906f53c165bdf7e64fe21 -   220,564 -   ✅\n",
      "close      - 5631c1e015ac10f7c036f3e063684ad40caf57dc18bf6b0127ba8d5990cec8aa -   581,658 -   ✅\n",
      "slot       - ed564a41abceaaa7d407d1fe808763a21431d23c1db107baadbb35cc8d9e5a8a -    51,185 -   ✅\n",
      "slot       - e6a204f9f055894a75ed7a70c667757a357b624bed8c297a071d3186bfccbae0 -    51,173 -   ✅\n",
      "slot       - 4d108382926d1df5d7e27e08ea74c776c17377a9592dcc6195cafbe9e33903e6 -    51,185 -   ✅\n",
      "slot       - c2b911e39f3898fe2024818f9ab05cff19a18bce6dd7a937eaf3b8f84efa5547 -    51,185 -   ✅\n",
      "slot       - b9f70793ec07304a45d3d42e4acee1f23df010ff466ad13536e927ca3c579d84 -    51,173 -   ✅\n",
      "slot       - 2a26b6f54451f9f77f444d994e15777215e63c01923761b3b759e264f12fddfb -    51,185 -   ✅\n",
      "weights    - 7b202ec3e1fc874caa0ff9ddf899fbf2772b6f40c5c6d1c4fc14bf79ee07da38 -    74,983 -   ✅\n",
      "weights    - 99b26a5738472b4d69aa08d92b284f3dc2c274ec74b2f35727e7db6fc2ae5376 -    57,883 -   ✅\n",
      "weights    - 75e3fa5271fc4f06605a7c4d5a266c11228d7a9a21986db0660c5616ec9f2b88 -    57,871 -   ✅\n",
      "weights    - ca09934bbd37457d384e04fe07a65a49993453242b0e985f0f7a5ff127870bb1 -    57,883 -   ✅\n",
      "weights    - cee92e4a3c56da2e7ad5493cbe999a304129ddc53b4a840206da7c4a62f771ea -    57,871 -   ✅\n",
      "weights    - 7c759239fcb4cefa0b5a24c0524d54dffa178eee1c1591d180091753af5d86be -    57,883 -   ✅\n",
      "feedback   - c33ca20c4244a80a31d7090edd8bb5df46ba3dc3809f0b246972a756de567ce1 -   345,798 -   ✅\n",
      "feedback   - 5eaa78e6ba2391c43fa952033781419571609534b12b0411ff58725bcb1c42dc -   277,399 -   ✅\n",
      "feedback   - 8570fd655ff024b4d2dd22c6233d247789569907801cf50171878aaf9c175e52 -   300,099 -   ✅\n",
      "feedback   - 2f821402990ea71ea8da7135ada462856e78181b1e6cdf1ba35e72177b671b68 -   260,299 -   ✅\n",
      "feedback   - e1ebb34fdde7469ce572c94cc6d48f9d7e85c1fa2aee691033c3c2ba89851611 -   280,199 -   ✅\n",
      "feedback   - 63da0b67ed3444f765bd7fc48b087df8b8a20a69db46fdd2e2f191331ad47972 -   220,564 -   ✅\n",
      "close      - 418791aa9d2f76dcf64b7f1d9d1f350b13a399806f40a4eeb2ac13ceea2f20c8 -   506,971 -   ✅\n",
      "slot       - 33c02884ca582a5426d79f48f2026b54d3c7cf9793a82a59944eaf0eac6af895 -    51,185 -   ✅\n",
      "slot       - fc48f4917dd401372a8f012b61de699ba84998e2f1c7d330293a64db2a9bfba2 -    51,185 -   ✅\n",
      "slot       - 3cd59037105997ac95f76c3328fe896a54e7a50c8c6f6298af69e5f9668f7bc5 -    51,185 -   ✅\n",
      "slot       - b8518bc5d9fadb9a3ab67e00ebbb6ab258f2e160d19cedd1001782353328aed0 -    51,185 -   ✅\n",
      "slot       - 7e3f6e9a776630d308573b49e79a52b923dd8f5f527bd31bf50996b07204cb48 -    51,185 -   ✅\n",
      "slot       - 2fcc86fec7d70416a374677264a8d6919a96158964f392db211eeb150afb166f -    51,185 -   ✅\n",
      "weights    - c6af688fe0aa32d251cdf0c567ab3dd113391609d04a980643294e4fdcdb7fc3 -    74,983 -   ✅\n",
      "weights    - 274ee420931d07900c59e3c957b1d1d5e5d6cb3fafac4364e3ae8acedda68939 -    57,871 -   ✅\n",
      "weights    - c7a4e0cebcc1a993bd4c2af8aef09d4cec31b34014f029abd40edb19c676715a -    57,871 -   ✅\n",
      "weights    - 2a7974f1eb5348ba80115d46a40171341587afc377e07250c1584660d0a8668e -    57,883 -   ✅\n",
      "weights    - 9294a0bfd6a27c4ca3f98df54d0eece102e39ac8c166ca97553c8663b3f3fdb6 -    57,883 -   ✅\n",
      "weights    - a5338234d7eaf415b0fdd66058d44c4aa51938fc829a31d1f49d43a81279c913 -    57,883 -   ✅\n",
      "feedback   - 20341b34059a4c09fe272211058657a735b516905e656ce698c8ff02a00edddf -   322,642 -   ✅\n",
      "feedback   - f550c160e01da0afa4d874453e542f1aea5c9041cf061ad78f3b355e8ff13488 -   254,243 -   ✅\n",
      "feedback   - c5d024077af2f4265fb0ed28b10997804f2673d272682e3735a075d8f60119fb -   237,143 -   ✅\n",
      "feedback   - e8fe837686dcf86092818b16ec11d4929265069888aedac266de04ab17b5372e -   237,143 -   ✅\n",
      "feedback   - 54490eab26b725ec937c25118fd52fb0fb9e9e0b77cd64db4d5a569104a69130 -   232,259 -   ✅\n",
      "feedback   - 5924d94d2126e00e90061e17fc658daf3a7cc2211d17feeda863234c411b8187 -   220,564 -   ✅\n",
      "close      - db71ca69fc99f2d226a193a584c1f2aeac6e66480066dcccb862a8c665ff5334 -   569,932 -   ✅\n",
      "exit       - d58018a72c33db407dc08cc8a3d83428b7ee4903884629520d77b05748b44961 -    58,891 -   ✅\n",
      "exit       - d77860606dc840a37d0839312171177e33b8c2ef7c3603b6d723009e532c0ad6 -    58,891 -   ✅\n",
      "exit       - 04b8d272807cdeaf0c074442f50748e5bbe0fdbe0eb546d8ff81212b66eac8ec -    58,891 -   ✅\n",
      "exit       - 89e6161bd4d9ad5a3a94033f2dcac8f0be146389bbebc978eeb433ba40b793ad -    58,891 -   ✅\n",
      "exit       - fa13e3302a7f7d83f561e65ba9d98bc2266001a0ef86fd81d328eb3e33c7a12d -    58,891 -   ✅\n",
      "exit       - d5dfe080dbc41d0d37f2271b912866290f3914796bd0a58719e4aab1a0e8468f -    58,891 -   ✅\n"
     ]
    }
   ],
   "execution_count": 12
  },
  {
   "cell_type": "markdown",
   "id": "0eb9e9a8",
   "metadata": {},
   "source": [
    "### Contracts and Paricipants (Latex format)"
   ]
  },
  {
   "cell_type": "code",
   "id": "2cb3eaf4",
   "metadata": {
    "ExecuteTime": {
     "end_time": "2025-10-24T13:18:28.353524Z",
     "start_time": "2025-10-24T13:18:28.337605Z"
    }
   },
   "source": [
    "print(\"\\\\renewcommand{\\\\arraystretch}{1.3}\")\n",
    "print(\"\\\\begin{center}\")\n",
    "print(\"\\\\begin{tabular}{ c|c }\")\n",
    "\n",
    "print(\"\\\\footnotesize{\"+\"Contract} &\"+\" \\\\footnotesize{Address (Ropsten Testnet)} \\\\\\ \")\n",
    "print(\"\\\\hline\")\n",
    "print(\"\\\\footnotesize{\"+\"Ma-1} & \\\\footnotesize{\"+\"{}\".format(manager.manager.address)+\"} \\\\\\ \")\n",
    "print(\"\\\\footnotesize{\"+\"Ch-1} & \\\\footnotesize{\"+\"{}\".format(model.model.address)+\"} \\\\\\ \")\n",
    "for i, p in enumerate(model.pytorch_model.participants[:-1] + \\\n",
    "                           model.pytorch_model.disqualified + \\\n",
    "                           [model.pytorch_model.participants[-1]]):\n",
    "    print(\"\\\\footnotesize{\"+\"P-{}\".format(i+1)+\"}  & \\\\footnotesize{\"+\"{}\".format(p.address)+\"} \\\\\\ \")\n",
    "\n",
    "print(\"\\\\end{tabular}\")\n",
    "print(\"\\\\end{center}\")"
   ],
   "outputs": [
    {
     "name": "stdout",
     "output_type": "stream",
     "text": [
      "\\renewcommand{\\arraystretch}{1.3}\n",
      "\\begin{center}\n",
      "\\begin{tabular}{ c|c }\n",
      "\\footnotesize{Contract} & \\footnotesize{Address (Ropsten Testnet)} \\\\ \n",
      "\\hline\n",
      "\\footnotesize{Ma-1} & \\footnotesize{0x21B60A7676a6A0A663EAef25F75beAE292132454} \\\\ \n",
      "\\footnotesize{Ch-1} & \\footnotesize{0x890b39b65F54556564F80bEd845e1Bcf0d65Ae56} \\\\ \n",
      "\\footnotesize{P-1}  & \\footnotesize{0x0b12EB2c66f80E9a36556FB31C91dA527e40841b} \\\\ \n",
      "\\footnotesize{P-2}  & \\footnotesize{0x5EBC77039DC7B9Af3DC103F1855a32495e1847c1} \\\\ \n",
      "\\footnotesize{P-3}  & \\footnotesize{0xb891e31bE7aeC98007CC1eda576708685DCBA69d} \\\\ \n",
      "\\footnotesize{P-4}  & \\footnotesize{0x622F728c102ccEc92f29D317519F530CbC8156e2} \\\\ \n",
      "\\footnotesize{P-5}  & \\footnotesize{0xE9Ce824926e53FFb6a201d5BF5223174503E83b4} \\\\ \n",
      "\\footnotesize{P-6}  & \\footnotesize{0xCcebFB97cd13461dEa89191B3142aE339D4E19BD} \\\\ \n",
      "\\end{tabular}\n",
      "\\end{center}\n"
     ]
    }
   ],
   "execution_count": 13
  },
  {
   "cell_type": "markdown",
   "id": "faceea01",
   "metadata": {},
   "source": [
    "### Table with Gas Info (Latex format)"
   ]
  },
  {
   "cell_type": "code",
   "id": "e1508778",
   "metadata": {
    "scrolled": true,
    "ExecuteTime": {
     "end_time": "2025-10-24T13:18:50.483866Z",
     "start_time": "2025-10-24T13:18:50.451907Z"
    }
   },
   "source": [
    "reg = model.gas_register, \"register\"\n",
    "fed = model.gas_feedback, \"feedback\"\n",
    "clo = model.gas_close, \"settle round\"\n",
    "slo = model.gas_slot, \"reserve slot\"\n",
    "wei = model.gas_weights, \"provide weights**\"\n",
    "dep = manager.gas_deploy, \"deployment\"\n",
    "dep = manager.gas_deploy, \"deployment\"\n",
    "ext = model.gas_exit, \"exit\"\n",
    "\n",
    "tot  = 0\n",
    "tot2 = 0\n",
    "\n",
    "print(\"\\\\begin{tabular}{ c|c|c }\\n\\hline\\nFunction & Gas Amount & Gas Costs*\\\\\\ \\n\\hline\")\n",
    "for i, f in [reg,slo,wei,fed,clo]:\n",
    "    print(\"{} & {:,.0f} & {:.5f} ETH \\\\\\ \".format(f, sum(i)/len(i), sum(i)/len(i) * 20e9 / 1e18 ))\n",
    "    tot += sum(i)/len(i)\n",
    "    if i != clo[0]:\n",
    "            tot2 += sum(i)/len(i)\n",
    "        \n",
    "print(\"\\hline\\n\\hline\")\n",
    "print(\"complete round & {:,.0f} & {:.5f} ETH \\\\\\ \".format(tot, tot * 20e9 / 1e18))\n",
    "print(\"\\hline\\n\\end{tabular}\")"
   ],
   "outputs": [
    {
     "name": "stdout",
     "output_type": "stream",
     "text": [
      "\\begin{tabular}{ c|c|c }\n",
      "\\hline\n",
      "Function & Gas Amount & Gas Costs*\\\\ \n",
      "\\hline\n",
      "register & 127,396 & 0.00255 ETH \\\\ \n",
      "reserve slot & 51,182 & 0.00102 ETH \\\\ \n",
      "provide weights** & 60,730 & 0.00121 ETH \\\\ \n",
      "feedback & 280,098 & 0.00560 ETH \\\\ \n",
      "settle round & 552,854 & 0.01106 ETH \\\\ \n",
      "\\hline\n",
      "\\hline\n",
      "complete round & 1,072,260 & 0.02145 ETH \\\\ \n",
      "\\hline\n",
      "\\end{tabular}\n"
     ]
    }
   ],
   "execution_count": 14
  },
  {
   "metadata": {},
   "cell_type": "code",
   "outputs": [],
   "execution_count": null,
   "source": "",
   "id": "d90293d9c53bba7a"
  }
 ],
 "metadata": {
  "kernelspec": {
   "display_name": "Python 3 (ipykernel)",
   "language": "python",
   "name": "python3"
  },
  "language_info": {
   "codemirror_mode": {
    "name": "ipython",
    "version": 3
   },
   "file_extension": ".py",
   "mimetype": "text/x-python",
   "name": "python",
   "nbconvert_exporter": "python",
   "pygments_lexer": "ipython3",
   "version": "3.9.13"
  }
 },
 "nbformat": 4,
 "nbformat_minor": 5
}
