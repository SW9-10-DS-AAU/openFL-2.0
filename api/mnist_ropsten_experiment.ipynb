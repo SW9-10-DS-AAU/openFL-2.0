{
 "cells": [
  {
   "cell_type": "markdown",
   "id": "19fbca22",
   "metadata": {},
   "source": [
    "# OpenFL - Decentralized Federated Learning on Public Blockchain Systems\n",
    "### by Anton Wahrstätter, Sajjad Khan & Davor Svetinovic"
   ]
  },
  {
   "cell_type": "markdown",
   "id": "f54f907f",
   "metadata": {},
   "source": [
    "## MNIST Dataset simulation\n"
   ]
  },
  {
   "cell_type": "markdown",
   "id": "519ef30a",
   "metadata": {},
   "source": [
    "### Contents\n",
    "* [Experiment](#Deploy-Challenger-Contract-and-Start-Experiment)\n",
    "* [Visualization](#Visualize-Experiment)\n",
    "* [Individual Transactions](#Transactions)\n",
    "* [Contracts and Participants](#Contracts-and-Paricipants-(Latex-format))\n",
    "* [Gas Costs](#Table-with-Gas-Info-(Latex-format))"
   ]
  },
  {
   "cell_type": "markdown",
   "id": "8f2def92",
   "metadata": {},
   "source": [
    "### Imports\n",
    "The imports consist of the following:\n",
    "* PytorchModel - which is the wrapper for the Convolutional Network\n",
    "* FLManager - the wrapper for the Manager contract\n",
    "* FLChallenge - the wrapper for the Challenge contract"
   ]
  },
  {
   "cell_type": "code",
   "id": "bf64eb56",
   "metadata": {
    "ExecuteTime": {
     "end_time": "2025-10-24T12:49:51.386693Z",
     "start_time": "2025-10-24T12:49:45.510770Z"
    }
   },
   "source": [
    "from pytorch_model import PytorchModel\n",
    "from smartcontracts import FLManager, FLChallenge"
   ],
   "outputs": [],
   "execution_count": 1
  },
  {
   "cell_type": "markdown",
   "id": "7a804275",
   "metadata": {},
   "source": [
    "### Select data set"
   ]
  },
  {
   "cell_type": "code",
   "id": "2f077a2c",
   "metadata": {
    "ExecuteTime": {
     "end_time": "2025-10-24T12:49:51.417722Z",
     "start_time": "2025-10-24T12:49:51.407693Z"
    }
   },
   "source": [
    "#DATASET = \"cifar-10\"\n",
    "DATASET = \"mnist\""
   ],
   "outputs": [],
   "execution_count": 2
  },
  {
   "cell_type": "markdown",
   "id": "4b9f3ca4",
   "metadata": {},
   "source": [
    "### RPC Provider"
   ]
  },
  {
   "cell_type": "markdown",
   "id": "d9ab955e",
   "metadata": {},
   "source": [
    "The RPC provides the connection to the respective blockchain, for example Ethereum or the Robsten testnet."
   ]
  },
  {
   "cell_type": "code",
   "id": "8671c69b",
   "metadata": {
    "ExecuteTime": {
     "end_time": "2025-10-24T12:49:51.449238Z",
     "start_time": "2025-10-24T12:49:51.429229Z"
    }
   },
   "source": [
    "with open(\"rpc_endpoint.txt\", \"r\") as file:\n",
    "    RPC_ENDPOINT = file.read()"
   ],
   "outputs": [],
   "execution_count": 3
  },
  {
   "cell_type": "markdown",
   "id": "dae39685",
   "metadata": {},
   "source": [
    "### Configurations"
   ]
  },
  {
   "metadata": {
    "ExecuteTime": {
     "end_time": "2025-10-24T12:49:51.480825Z",
     "start_time": "2025-10-24T12:49:51.461235Z"
    }
   },
   "cell_type": "code",
   "source": [
    "NUMBER_OF_GOOD_CONTRIBUTORS = 4\n",
    "NUMBER_OF_BAD_CONTRIBUTORS = 1\n",
    "NUMBER_OF_FREERIDER_CONTRIBUTORS = 1\n",
    "NUMBER_OF_INACTIVE_CONTRIBUTORS = 0\n",
    "\n",
    "REWARD = int(1e18)\n",
    "MINIMUM_ROUNDS = 2\n",
    "MIN_BUY_IN = int(1e18)\n",
    "MAX_BUY_IN = int(1.8e18)\n",
    "STANDARD_BUY_IN = int(1e18)\n",
    "EPOCHES = 1 #25\n",
    "BATCH_SIZE = 32 #128\n",
    "PUNISHFACTOR = 3\n",
    "FIRST_ROUND_FEE = 50 # 50% OF MIN DEPOSIT\n",
    "\n",
    "FORK = False # Fork Chain or communicate directly with RPC\n",
    "\n",
    "NUMBER_OF_CONTRIBUTERS = NUMBER_OF_GOOD_CONTRIBUTORS      + \\\n",
    "                         NUMBER_OF_BAD_CONTRIBUTORS       + \\\n",
    "                         NUMBER_OF_FREERIDER_CONTRIBUTORS + \\\n",
    "                         NUMBER_OF_INACTIVE_CONTRIBUTORS"
   ],
   "id": "29a2caa586539ba4",
   "outputs": [],
   "execution_count": 4
  },
  {
   "metadata": {
    "ExecuteTime": {
     "end_time": "2025-10-24T12:49:51.558781Z",
     "start_time": "2025-10-24T12:49:51.490830Z"
    }
   },
   "cell_type": "code",
   "source": [
    "# Only for the real-net simulation\n",
    "# In order to use a non-locally forked blockchain, \n",
    "# private keys are required to unlock accounts\n",
    "if FORK == False:\n",
    "    from web3 import Web3\n",
    "    w3 = Web3(Web3.HTTPProvider(RPC_ENDPOINT))\n",
    "    PRIVKEYS = []\n",
    "    with open(\"private_keys.txt\", \"r\") as file:\n",
    "        for f in file:\n",
    "            PRIVKEYS.append(f.split(\":\")[0])\n",
    "\n",
    "    PRIVKEYS = [w3.eth.account.privateKeyToAccount(i) for i in PRIVKEYS]\n",
    "else:\n",
    "    PRIVKEYS = None"
   ],
   "id": "82c1a998413f308b",
   "outputs": [],
   "execution_count": 5
  },
  {
   "cell_type": "markdown",
   "id": "e878d441",
   "metadata": {},
   "source": [
    "### Initialized Deep Learning Model and add Participants"
   ]
  },
  {
   "cell_type": "code",
   "id": "86f3ac59",
   "metadata": {
    "scrolled": false,
    "ExecuteTime": {
     "end_time": "2025-10-24T12:49:56.227368Z",
     "start_time": "2025-10-24T12:49:51.571377Z"
    }
   },
   "source": [
    "pytorch_model = PytorchModel(DATASET, \n",
    "                             NUMBER_OF_GOOD_CONTRIBUTORS, \n",
    "                             NUMBER_OF_CONTRIBUTERS, \n",
    "                             EPOCHES, \n",
    "                             BATCH_SIZE, \n",
    "                             STANDARD_BUY_IN,\n",
    "                             MAX_BUY_IN)\n",
    "\n",
    "\n",
    "for i in range(NUMBER_OF_BAD_CONTRIBUTORS):\n",
    "    pytorch_model.add_participant(\"bad\",3)\n",
    "\n",
    "for i in range(NUMBER_OF_FREERIDER_CONTRIBUTORS):\n",
    "    pytorch_model.add_participant(\"freerider\",1)\n",
    "    \n",
    "for i in range(NUMBER_OF_INACTIVE_CONTRIBUTORS):\n",
    "    pytorch_model.add_participant(\"inactive\",1)"
   ],
   "outputs": [
    {
     "name": "stdout",
     "output_type": "stream",
     "text": [
      "Data Loaded:\n",
      "Nr. of images for training: 60,000\n",
      "Nr. of images for testing:  10,000\n",
      "\n",
      "===================================================================================\n",
      "Pytorch Model created:\n",
      "\n",
      "Net_MNIST(\n",
      "  (conv1): Conv2d(1, 32, kernel_size=(5, 5), stride=(1, 1), padding=(2, 2))\n",
      "  (conv2): Conv2d(32, 64, kernel_size=(5, 5), stride=(1, 1), padding=(2, 2))\n",
      "  (fc1): Linear(in_features=3136, out_features=1024, bias=True)\n",
      "  (fc2): Linear(in_features=1024, out_features=10, bias=True)\n",
      ")\n",
      "\n",
      "===================================================================================\n",
      "Participant added: \u001B[1m\u001B[32mGood\u001B[0m \u001B[1m\u001B[32mUser\u001B[0m\n",
      "Participant added: \u001B[1m\u001B[32mGood\u001B[0m \u001B[1m\u001B[32mUser\u001B[0m\n",
      "Participant added: \u001B[1m\u001B[32mGood\u001B[0m \u001B[1m\u001B[32mUser\u001B[0m\n",
      "Participant added: \u001B[1m\u001B[32mGood\u001B[0m \u001B[1m\u001B[32mUser\u001B[0m\n",
      "Participant added: \u001B[1m\u001B[31mBad\u001B[0m \u001B[1m\u001B[31mUser\u001B[0m\n",
      "Participant added: \u001B[1m\u001B[31mFreerider\u001B[0m \u001B[1m\u001B[31mUser\u001B[0m\n"
     ]
    }
   ],
   "execution_count": 6
  },
  {
   "cell_type": "markdown",
   "id": "58663741",
   "metadata": {},
   "source": [
    "### Initialize and Deploy Manager Contract"
   ]
  },
  {
   "cell_type": "code",
   "id": "3a4d0bac",
   "metadata": {
    "ExecuteTime": {
     "end_time": "2025-10-24T12:49:57.695166Z",
     "start_time": "2025-10-24T12:49:56.485754Z"
    }
   },
   "source": [
    "manager = FLManager(pytorch_model, True).init(NUMBER_OF_GOOD_CONTRIBUTORS, \n",
    "                                              NUMBER_OF_BAD_CONTRIBUTORS,\n",
    "                                              NUMBER_OF_FREERIDER_CONTRIBUTORS,\n",
    "                                              NUMBER_OF_INACTIVE_CONTRIBUTORS,\n",
    "                                              MINIMUM_ROUNDS,\n",
    "                                              RPC_ENDPOINT,\n",
    "                                              FORK,\n",
    "                                              PRIVKEYS)\n",
    "manager.buildContract()"
   ],
   "outputs": [
    {
     "name": "stdout",
     "output_type": "stream",
     "text": [
      "Connected to Ethereum: \u001B[1m\u001B[32mTrue\u001B[0m\n",
      "initiated Ganache-Client @ Block Nr. 243\n",
      "\n",
      "Total Contributers:       6\n",
      "Good Contributers:        4 (67%)\n",
      "Malicious Contributers:   1 (17%)\n",
      "Freeriding Contributers:  1 (17%)\n",
      "Inactive Contributers:    0 (0%)\n",
      "Learning Rounds:          2\n",
      "-----------------------------------------------------------------------------------\n",
      "Account initiated @ Address 0x09Ca61C7cb86d8DE76E3E63... with 99,999,978.7 ETH | FAIR USER\n",
      "Account initiated @ Address 0xe7F50AB14f0fb1E140bbb7f... with 99,999,989.8 ETH | FAIR USER\n",
      "Account initiated @ Address 0xCe57EAfD18afA405A26BCFa... with 99,999,990.4 ETH | FAIR USER\n",
      "Account initiated @ Address 0xC0148dFB7E61c11e8422588... with 99,999,988.5 ETH | FAIR USER\n",
      "Account initiated @ Address 0xa46d9Edaac1d2153168Cdf7... with 99,999,986.6 ETH | MAL. USER\n",
      "Account initiated @ Address 0xE6d028402A486980cf97375... with 99,999,988.2 ETH | FREE USER\n",
      "-----------------------------------------------------------------------------------\n",
      "\n",
      "Manager deployed  @ Address 0xB0351cFE0105bE867ED9E231225282771bC1202A | 0x2f7f...\n",
      "\n",
      "-----------------------------------------------------------------------------------\n"
     ]
    }
   ],
   "execution_count": 7
  },
  {
   "cell_type": "markdown",
   "id": "5c35c7ce",
   "metadata": {},
   "source": [
    "### Deploy Challenger Contract and Start Experiment"
   ]
  },
  {
   "cell_type": "code",
   "id": "3d3e5f91",
   "metadata": {
    "scrolled": false,
    "ExecuteTime": {
     "end_time": "2025-10-24T12:53:49.115215Z",
     "start_time": "2025-10-24T12:49:57.877319Z"
    }
   },
   "source": [
    "configs = manager.deployChallengeContract(MIN_BUY_IN,\n",
    "                                          MAX_BUY_IN,\n",
    "                                          REWARD, \n",
    "                                          MINIMUM_ROUNDS,\n",
    "                                          PUNISHFACTOR,\n",
    "                                          FIRST_ROUND_FEE)\n",
    "\n",
    "model = FLChallenge(manager, \n",
    "                    configs,\n",
    "                    pytorch_model)\n",
    "\n",
    "\n",
    "model.simulate(rounds=MINIMUM_ROUNDS)"
   ],
   "outputs": [
    {
     "name": "stdout",
     "output_type": "stream",
     "text": [
      "\u001B[1mStarting simulation...\u001B[0m\n",
      "\u001B[1m-----------------------------------------------------------------------------------\u001B[0m\n",
      "\n",
      "Model deployed    @ Address 0x13292219479699074fAE9651d05c9F852017F509 | 0x70cc...\n",
      "\n",
      "-----------------------------------------------------------------------------------\n",
      "Account registered: 0x09Ca61C7cb86d8... | 0x70cc... | 1,166,372,966,806,360,832 WEI\n",
      "Account registered: 0xe7F50AB14f0fb1... | 0xb552... | 1,631,717,452,738,637,568 WEI\n",
      "Account registered: 0xCe57EAfD18afA4... | 0xd746... | 1,478,946,118,832,077,568 WEI\n",
      "Account registered: 0xC0148dFB7E61c1... | 0xb569... | 1,419,567,858,429,553,664 WEI\n",
      "Account registered: 0xa46d9Edaac1d21... | 0x8e26... | 1,790,975,154,507,891,456 WEI\n",
      "Account registered: 0xE6d028402A4869... | 0xb8dd... | 1,557,171,597,465,434,368 WEI\n",
      "-----------------------------------------------------------------------------------\n",
      "\u001B[1mRound 1 starts...\u001B[0m\n",
      "\u001B[1m\u001B[31mAddress 0xE6d028402A4869... going to switch attitude to freerider\u001B[0m\n",
      "\u001B[1m\n",
      "=========================== FEDERATED LEARNING START ==============================\u001B[0m\n",
      "Account training:   0x09Ca61C7cb86d8... | Epoche  1 | Accuracy  62 % | Loss  57.46\n",
      "\u001B[32mAccount testing:    0x09Ca61C7cb86d8... | Epoche  1 | Accuracy  61 % | Loss 560.92\u001B[0m\n",
      "-----------------------------------------------------------------------------------\n",
      "Account training:   0xe7F50AB14f0fb1... | Epoche  1 | Accuracy  64 % | Loss  43.88\n",
      "\u001B[32mAccount testing:    0xe7F50AB14f0fb1... | Epoche  1 | Accuracy  67 % | Loss 423.26\u001B[0m\n",
      "-----------------------------------------------------------------------------------\n",
      "Account training:   0xCe57EAfD18afA4... | Epoche  1 | Accuracy  70 % | Loss  36.44\n",
      "\u001B[32mAccount testing:    0xCe57EAfD18afA4... | Epoche  1 | Accuracy  71 % | Loss 355.65\u001B[0m\n",
      "-----------------------------------------------------------------------------------\n",
      "Account training:   0xC0148dFB7E61c1... | Epoche  1 | Accuracy  61 % | Loss  50.99\n",
      "\u001B[32mAccount testing:    0xC0148dFB7E61c1... | Epoche  1 | Accuracy  63 % | Loss 486.04\u001B[0m\n",
      "-----------------------------------------------------------------------------------\n",
      "Account training:   0xa46d9Edaac1d21... | Epoche  1 | Accuracy  68 % | Loss  52.68\n",
      "\u001B[32mAccount testing:    0xa46d9Edaac1d21... | Epoche  1 | Accuracy  67 % | Loss 515.17\u001B[0m\n",
      "-----------------------------------------------------------------------------------\n",
      "Account freeriding: 0xE6d028402A4869... | Epoche -- | Accuracy   8 % | Loss  73.68\n",
      "\u001B[1m=========================== FEDERATED LEARNING END ================================\n",
      "\u001B[0m\n",
      "\u001B[31mAccount 0xE6d028... going to provide random weights; starts copycat-ing next round\u001B[0m\n",
      "Account testing:    0xE6d028402A4869... |  Testing  | Accuracy  10 % | Loss ∞\n",
      "\n",
      "Slot registered:    0x09Ca61C7cb86d8... | 0x21a3... | 1,166,372,966,806,360,832 WEI\n",
      "Slot registered:    0xe7F50AB14f0fb1... | 0x47ac... | 1,631,717,452,738,637,568 WEI\n",
      "Slot registered:    0xCe57EAfD18afA4... | 0xd149... | 1,478,946,118,832,077,568 WEI\n",
      "Slot registered:    0xC0148dFB7E61c1... | 0x1e93... | 1,419,567,858,429,553,664 WEI\n",
      "Slot registered:    0xa46d9Edaac1d21... | 0x1257... | 1,790,975,154,507,891,456 WEI\n",
      "Slot registered:    0xE6d028402A4869... | 0x9c62... | 1,557,171,597,465,434,368 WEI\n",
      "-----------------------------------------------------------------------------------\n",
      "Weights provided:   0x09Ca61C7cb86d8... | 0x3a27... | 1,166,372,966,806,360,832 WEI\n",
      "Weights provided:   0xe7F50AB14f0fb1... | 0x632f... | 1,631,717,452,738,637,568 WEI\n",
      "Weights provided:   0xCe57EAfD18afA4... | 0x064e... | 1,478,946,118,832,077,568 WEI\n",
      "Weights provided:   0xC0148dFB7E61c1... | 0xa83d... | 1,419,567,858,429,553,664 WEI\n",
      "Weights provided:   0xa46d9Edaac1d21... | 0x016e... | 1,790,975,154,507,891,456 WEI\n",
      "Weights provided:   0xE6d028402A4869... | 0x66d7... | 1,557,171,597,465,434,368 WEI\n",
      "-----------------------------------------------------------------------------------\n",
      "Users exchanging models...\n",
      "-----------------------------------------------------------------------------------\n",
      "Users verifying models...\n",
      "-----------------------------------------------------------------------------------\n",
      "Users evaluating models...\n",
      "FEEDBACK MATRIX:\n",
      "[[ 0.  1.  1.  1.  1. -1.]\n",
      " [ 1.  0.  1.  1.  1. -1.]\n",
      " [ 0.  1.  0.  0.  1. -1.]\n",
      " [ 1.  1.  1.  0.  1. -1.]\n",
      " [ 0.  1.  1.  1.  0. -1.]\n",
      " [ 0.  0.  0.  0.  0.  0.]]\n",
      "-----------------------------------------------------------------------------------\n",
      "\n",
      "Users exchanging feedback...\n",
      "                                                   \n",
      "-----------------------------------------------------------------------------------\n",
      "\u001B[1m\n",
      "Settle round: 1\u001B[0m\n",
      "\n",
      "-----------------------------------------------------------------------------------\n",
      "Account 0x09Ca61C7cb86d8... participating in merge\n",
      "Account 0xe7F50AB14f0fb1... participating in merge\n",
      "Account 0xCe57EAfD18afA4... participating in merge\n",
      "Account 0xC0148dFB7E61c1... participating in merge\n",
      "Account 0xa46d9Edaac1d21... participating in merge\n",
      "-----------------------------------------------------------------------------------\n",
      "\u001B[1mMerged Model: Accuracy  31 % | Loss 714.93\u001B[0m\n",
      "-----------------------------------------------------------------------------------\n",
      "\n",
      "\u001B[1m\n",
      "END OF ROUND 1\u001B[0m\n",
      "\u001B[1mVALID VOTES:      25\u001B[0m\n",
      "\u001B[1mREWARD PER VOTE:  20,000,000,000,000,000\u001B[0m\n",
      "\u001B[1mTOTAL PUNISHMENT: 852,390,532,488,478,080\n",
      "\u001B[0m\n",
      "-----------------------------------------------------------------------------------\n",
      "\n",
      "\u001B[1mREWARDED USERS\u001B[0m\n",
      "\u001B[32mUSER @ 0x09Ca61C7cb86d8DE76E3E637a8e3CfA481Ecef99\u001B[0m\n",
      "\u001B[32mROUND SCORE:      3,051,285,311,168,190,976\u001B[0m\n",
      "\u001B[32mTOTAL REWARD:     270,478,106,497,695,616\u001B[0m\n",
      "\u001B[32mNEW REPUTATION:   1,436,851,073,304,056,576\n",
      "\u001B[0m\n",
      "\u001B[32mUSER @ 0xe7F50AB14f0fb1E140bbb7f03655dc9C922F5980\u001B[0m\n",
      "\u001B[32mROUND SCORE:      5,855,862,098,575,883,264\u001B[0m\n",
      "\u001B[32mTOTAL REWARD:     270,478,106,497,695,616\u001B[0m\n",
      "\u001B[32mNEW REPUTATION:   1,902,195,559,236,333,056\n",
      "\u001B[0m\n",
      "\u001B[32mUSER @ 0xCe57EAfD18afA405A26BCFa6F2B4fB872A62Dc78\u001B[0m\n",
      "\u001B[32mROUND SCORE:      6,008,633,432,482,443,264\u001B[0m\n",
      "\u001B[32mTOTAL REWARD:     270,478,106,497,695,616\u001B[0m\n",
      "\u001B[32mNEW REPUTATION:   1,749,424,225,329,773,312\n",
      "\u001B[0m\n",
      "\u001B[32mUSER @ 0xC0148dFB7E61c11e84225881723A8bEB45c7002A\u001B[0m\n",
      "\u001B[32mROUND SCORE:      4,589,065,574,052,889,600\u001B[0m\n",
      "\u001B[32mTOTAL REWARD:     270,478,106,497,695,616\u001B[0m\n",
      "\u001B[32mNEW REPUTATION:   1,690,045,964,927,249,152\n",
      "\u001B[0m\n",
      "\u001B[32mUSER @ 0xa46d9Edaac1d2153168Cdf7e525880bC53827109\u001B[0m\n",
      "\u001B[32mROUND SCORE:      5,696,604,396,806,629,376\u001B[0m\n",
      "\u001B[32mTOTAL REWARD:     270,478,106,497,695,616\u001B[0m\n",
      "\u001B[32mNEW REPUTATION:   2,061,453,261,005,586,944\n",
      "\u001B[0m\n",
      "-----------------------------------------------------------------------------------\n",
      "\n",
      "\u001B[1mPUNISHED USERS\u001B[0m\n",
      "\u001B[31mUSER @ 0xE6d028402A486980cf97375BD9A6C0aBDa5d089c\u001B[0m\n",
      "\u001B[31mROUND SCORE:      -7,487,579,551,314,521,088\u001B[0m\n",
      "\u001B[31mTOTAL LOSS:       352,390,532,488,478,080\u001B[0m\n",
      "\u001B[31mNEW REPUTATION:   704,781,064,976,956,160\n",
      "\u001B[0m\n",
      "-----------------------------------------------------------------------------------\n",
      "\n",
      "\n",
      "\u001B[1mRound 1 completed:\u001B[0m\n",
      "\u001B[1m0x09Ca61C7cb86d8...  1,166,372,966,806,360,832 -> 1,436,851,073,304,056,576\u001B[0m\n",
      "\u001B[1m0xe7F50AB14f0fb1...  1,631,717,452,738,637,568 -> 1,902,195,559,236,333,056\u001B[0m\n",
      "\u001B[1m0xCe57EAfD18afA4...  1,478,946,118,832,077,568 -> 1,749,424,225,329,773,312\u001B[0m\n",
      "\u001B[1m0xC0148dFB7E61c1...  1,419,567,858,429,553,664 -> 1,690,045,964,927,249,152\u001B[0m\n",
      "\u001B[1m0xa46d9Edaac1d21...  1,790,975,154,507,891,456 -> 2,061,453,261,005,586,944\u001B[0m\n",
      "\u001B[1m0xE6d028402A4869...  1,557,171,597,465,434,368 ->   704,781,064,976,956,160\u001B[0m\n",
      "\u001B[1m\n",
      "▬▬▬▬▬▬▬▬▬▬▬▬▬▬▬▬▬▬▬▬▬▬▬▬▬▬▬▬▬▬▬▬▬▬▬▬▬▬▬▬▬▬▬▬▬▬▬▬▬▬▬▬▬▬▬▬▬▬▬▬▬▬▬▬▬▬▬▬▬▬▬▬▬▬▬▬▬▬▬▬▬▬▬\n",
      "\u001B[0m\n",
      "\u001B[1mRound 2 starts...\u001B[0m\n",
      "\u001B[1m\n",
      "=========================== FEDERATED LEARNING START ==============================\u001B[0m\n",
      "Account training:   0x09Ca61C7cb86d8... | Epoche  1 | Accuracy  52 % | Loss  58.30\n",
      "\u001B[32mAccount testing:    0x09Ca61C7cb86d8... | Epoche  1 | Accuracy  55 % | Loss 565.60\u001B[0m\n",
      "-----------------------------------------------------------------------------------\n",
      "Account training:   0xe7F50AB14f0fb1... | Epoche  1 | Accuracy  53 % | Loss  57.82\n",
      "\u001B[32mAccount testing:    0xe7F50AB14f0fb1... | Epoche  1 | Accuracy  55 % | Loss 562.33\u001B[0m\n",
      "-----------------------------------------------------------------------------------\n",
      "Account training:   0xCe57EAfD18afA4... | Epoche  1 | Accuracy  56 % | Loss  57.79\n",
      "\u001B[32mAccount testing:    0xCe57EAfD18afA4... | Epoche  1 | Accuracy  58 % | Loss 565.18\u001B[0m\n",
      "-----------------------------------------------------------------------------------\n",
      "Account training:   0xC0148dFB7E61c1... | Epoche  1 | Accuracy  53 % | Loss  58.07\n",
      "\u001B[32mAccount testing:    0xC0148dFB7E61c1... | Epoche  1 | Accuracy  56 % | Loss 560.78\u001B[0m\n",
      "-----------------------------------------------------------------------------------\n",
      "Account training:   0xa46d9Edaac1d21... | Epoche  1 | Accuracy  55 % | Loss  58.81\n",
      "\u001B[32mAccount testing:    0xa46d9Edaac1d21... | Epoche  1 | Accuracy  55 % | Loss 572.91\u001B[0m\n",
      "-----------------------------------------------------------------------------------\n",
      "Account freeriding: 0xE6d028402A4869... | Epoche -- | Accuracy  36 % | Loss  73.03\n",
      "\u001B[1m=========================== FEDERATED LEARNING END ================================\n",
      "\u001B[0m\n",
      "\u001B[31mAddress 0xE6d028402A4869... going to add random noise to weights\u001B[0m\n",
      "Account testing:    0xE6d028402A4869... |  Testing  | Accuracy  61 % | Loss ∞\n",
      "\n",
      "Slot registered:    0x09Ca61C7cb86d8... | 0x5b9c... | 1,436,851,073,304,056,576 WEI\n",
      "Slot registered:    0xe7F50AB14f0fb1... | 0x92e8... | 1,902,195,559,236,333,056 WEI\n",
      "Slot registered:    0xCe57EAfD18afA4... | 0x55d6... | 1,749,424,225,329,773,312 WEI\n",
      "Slot registered:    0xC0148dFB7E61c1... | 0x4715... | 1,690,045,964,927,249,152 WEI\n",
      "Slot registered:    0xa46d9Edaac1d21... | 0x9d14... | 2,061,453,261,005,586,944 WEI\n",
      "Slot registered:    0xE6d028402A4869... | 0x70d8... |   704,781,064,976,956,160 WEI\n",
      "-----------------------------------------------------------------------------------\n",
      "Weights provided:   0x09Ca61C7cb86d8... | 0x016b... | 1,436,851,073,304,056,576 WEI\n",
      "Weights provided:   0xe7F50AB14f0fb1... | 0xc339... | 1,902,195,559,236,333,056 WEI\n",
      "Weights provided:   0xCe57EAfD18afA4... | 0x4e5e... | 1,749,424,225,329,773,312 WEI\n",
      "Weights provided:   0xC0148dFB7E61c1... | 0xb69b... | 1,690,045,964,927,249,152 WEI\n",
      "Weights provided:   0xa46d9Edaac1d21... | 0x3c47... | 2,061,453,261,005,586,944 WEI\n",
      "Weights provided:   0xE6d028402A4869... | 0xae8b... |   704,781,064,976,956,160 WEI\n",
      "-----------------------------------------------------------------------------------\n",
      "Users exchanging models...\n",
      "-----------------------------------------------------------------------------------\n",
      "Users verifying models...\n",
      "-----------------------------------------------------------------------------------\n",
      "Users evaluating models...\n",
      "FEEDBACK MATRIX:\n",
      "[[0. 1. 1. 1. 1. 1.]\n",
      " [1. 0. 1. 1. 1. 1.]\n",
      " [1. 1. 0. 1. 1. 1.]\n",
      " [1. 1. 1. 0. 1. 1.]\n",
      " [1. 1. 1. 1. 0. 1.]\n",
      " [0. 0. 0. 0. 0. 0.]]\n",
      "-----------------------------------------------------------------------------------\n",
      "\n",
      "Users exchanging feedback...\n",
      "                                                   \n",
      "-----------------------------------------------------------------------------------\n",
      "\u001B[1m\n",
      "Settle round: 2\u001B[0m\n",
      "\n",
      "-----------------------------------------------------------------------------------\n",
      "Account 0x09Ca61C7cb86d8... participating in merge\n",
      "Account 0xe7F50AB14f0fb1... participating in merge\n",
      "Account 0xCe57EAfD18afA4... participating in merge\n",
      "Account 0xC0148dFB7E61c1... participating in merge\n",
      "Account 0xa46d9Edaac1d21... participating in merge\n",
      "Account 0xE6d028402A4869... participating in merge\n",
      "-----------------------------------------------------------------------------------\n",
      "\u001B[1mMerged Model: Accuracy  59 % | Loss 615.59\u001B[0m\n",
      "-----------------------------------------------------------------------------------\n",
      "\n",
      "\u001B[1m\n",
      "END OF ROUND 2\u001B[0m\n",
      "\u001B[1mVALID VOTES:      30\u001B[0m\n",
      "\u001B[1mREWARD PER VOTE:  16,666,666,666,666,666\u001B[0m\n",
      "\u001B[1mTOTAL PUNISHMENT: 0\n",
      "\u001B[0m\n",
      "-----------------------------------------------------------------------------------\n",
      "\n",
      "\u001B[1mREWARDED USERS\u001B[0m\n",
      "\u001B[32mUSER @ 0x09Ca61C7cb86d8DE76E3E637a8e3CfA481Ecef99\u001B[0m\n",
      "\u001B[32mROUND SCORE:      7,403,119,010,498,941,952\u001B[0m\n",
      "\u001B[32mTOTAL REWARD:     83,333,333,333,333,328\u001B[0m\n",
      "\u001B[32mNEW REPUTATION:   1,520,184,406,637,389,824\n",
      "\u001B[0m\n",
      "\u001B[32mUSER @ 0xe7F50AB14f0fb1E140bbb7f03655dc9C922F5980\u001B[0m\n",
      "\u001B[32mROUND SCORE:      6,937,774,524,566,666,240\u001B[0m\n",
      "\u001B[32mTOTAL REWARD:     83,333,333,333,333,328\u001B[0m\n",
      "\u001B[32mNEW REPUTATION:   1,985,528,892,569,666,304\n",
      "\u001B[0m\n",
      "\u001B[32mUSER @ 0xCe57EAfD18afA405A26BCFa6F2B4fB872A62Dc78\u001B[0m\n",
      "\u001B[32mROUND SCORE:      7,090,545,858,473,225,216\u001B[0m\n",
      "\u001B[32mTOTAL REWARD:     83,333,333,333,333,328\u001B[0m\n",
      "\u001B[32mNEW REPUTATION:   1,832,757,558,663,106,560\n",
      "\u001B[0m\n",
      "\u001B[32mUSER @ 0xC0148dFB7E61c11e84225881723A8bEB45c7002A\u001B[0m\n",
      "\u001B[32mROUND SCORE:      7,149,924,118,875,749,376\u001B[0m\n",
      "\u001B[32mTOTAL REWARD:     83,333,333,333,333,328\u001B[0m\n",
      "\u001B[32mNEW REPUTATION:   1,773,379,298,260,582,400\n",
      "\u001B[0m\n",
      "\u001B[32mUSER @ 0xa46d9Edaac1d2153168Cdf7e525880bC53827109\u001B[0m\n",
      "\u001B[32mROUND SCORE:      6,778,516,822,797,412,352\u001B[0m\n",
      "\u001B[32mTOTAL REWARD:     83,333,333,333,333,328\u001B[0m\n",
      "\u001B[32mNEW REPUTATION:   2,144,786,594,338,920,192\n",
      "\u001B[0m\n",
      "\u001B[32mUSER @ 0xE6d028402A486980cf97375BD9A6C0aBDa5d089c\u001B[0m\n",
      "\u001B[32mROUND SCORE:      8,839,970,083,802,998,784\u001B[0m\n",
      "\u001B[32mTOTAL REWARD:     83,333,333,333,333,328\u001B[0m\n",
      "\u001B[32mNEW REPUTATION:   788,114,398,310,289,536\n",
      "\u001B[0m\n",
      "-----------------------------------------------------------------------------------\n",
      "\n",
      "\n",
      "\u001B[1mRound 2 completed:\u001B[0m\n",
      "\u001B[1m0x09Ca61C7cb86d8...  1,436,851,073,304,056,576 -> 1,520,184,406,637,389,824\u001B[0m\n",
      "\u001B[1m0xe7F50AB14f0fb1...  1,902,195,559,236,333,056 -> 1,985,528,892,569,666,304\u001B[0m\n",
      "\u001B[1m0xCe57EAfD18afA4...  1,749,424,225,329,773,312 -> 1,832,757,558,663,106,560\u001B[0m\n",
      "\u001B[1m0xC0148dFB7E61c1...  1,690,045,964,927,249,152 -> 1,773,379,298,260,582,400\u001B[0m\n",
      "\u001B[1m0xa46d9Edaac1d21...  2,061,453,261,005,586,944 -> 2,144,786,594,338,920,192\u001B[0m\n",
      "\u001B[1m0xE6d028402A4869...    704,781,064,976,956,160 ->   788,114,398,310,289,536\u001B[0m\n",
      "\u001B[1m\n",
      "▬▬▬▬▬▬▬▬▬▬▬▬▬▬▬▬▬▬▬▬▬▬▬▬▬▬▬▬▬▬▬▬▬▬▬▬▬▬▬▬▬▬▬▬▬▬▬▬▬▬▬▬▬▬▬▬▬▬▬▬▬▬▬▬▬▬▬▬▬▬▬▬▬▬▬▬▬▬▬▬▬▬▬\n",
      "\u001B[0m\n",
      "\u001B[1mTerminating Model...\u001B[0m\n",
      "Account exited:     0x09Ca61C7cb86d8... | 0x9593... | 99,999,978,025,566,331,824,242,688 WEI\n",
      "Account exited:     0xe7F50AB14f0fb1... | 0x33e1... | 99,999,990,110,465,174,362,128,384 WEI\n",
      "Account exited:     0xCe57EAfD18afA4... | 0x6828... | 99,999,990,764,528,460,921,569,280 WEI\n",
      "Account exited:     0xC0148dFB7E61c1... | 0x9777... | 99,999,988,821,888,072,603,926,528 WEI\n",
      "Account exited:     0xa46d9Edaac1d21... | 0x0560... | 99,999,986,941,218,410,190,602,240 WEI\n",
      "Account exited:     0xE6d028402A4869... | 0xfbdd... | 99,999,987,466,512,495,542,272,000 WEI\n",
      "-----------------------------------------------------------------------------------\n"
     ]
    }
   ],
   "execution_count": 8
  },
  {
   "cell_type": "markdown",
   "id": "e4fed280",
   "metadata": {},
   "source": [
    "### Visualize Experiment "
   ]
  },
  {
   "cell_type": "code",
   "id": "bcc409e1",
   "metadata": {
    "scrolled": true,
    "ExecuteTime": {
     "end_time": "2025-10-24T12:57:12.689001Z",
     "start_time": "2025-10-24T12:57:11.932338Z"
    }
   },
   "source": [
    "model.visualize_simulation()"
   ],
   "outputs": [
    {
     "data": {
      "text/plain": [
       "<Figure size 1600x300 with 5 Axes>"
      ],
      "image/png": "[encoded data removed]"
     },
     "metadata": {},
     "output_type": "display_data",
     "jetTransient": {
      "display_id": null
     }
    }
   ],
   "execution_count": 10
  },
  {
   "cell_type": "markdown",
   "id": "3a4557d7",
   "metadata": {},
   "source": [
    "### Transactions"
   ]
  },
  {
   "cell_type": "code",
   "id": "aa348bb3",
   "metadata": {
    "scrolled": true,
    "ExecuteTime": {
     "end_time": "2025-10-24T12:57:47.509615Z",
     "start_time": "2025-10-24T12:57:47.281053Z"
    }
   },
   "source": [
    "print(\"{:<10} - {:^64} -    Gas Used - {}\".format(\"Function\", \"Transaction Hash\", \"Success\"))\n",
    "print(\"------------------------------------------------------------------------------------------\")\n",
    "for f, txhash in model.txHashes:\n",
    "    r = model.w3.eth.waitForTransactionReceipt(txhash)\n",
    "    if r[\"status\"] == 1:\n",
    "        success = \"✅\"\n",
    "    else:\n",
    "        success = \"FAIL\"\n",
    "    \n",
    "    gas = r[\"gasUsed\"]\n",
    "    print(\"{:<10} - {} - {:>9,.0f} -   {}\".format(f, txhash, gas, success))"
   ],
   "outputs": [
    {
     "name": "stdout",
     "output_type": "stream",
     "text": [
      "Function   -                         Transaction Hash                         -    Gas Used - Success\n",
      "------------------------------------------------------------------------------------------\n",
      "register   - 0xb5521453cc08fce97970509edc0287f16d72124527e65eebb22fbf5fc91a3558 -   127,396 -   ✅\n",
      "register   - 0xd7467d8ae8be3cc5ad3284e0b606604dec6661bcc205fc2316f92d3039d6285c -   127,396 -   ✅\n",
      "register   - 0xb56926758271eaaa6b43012525edc77906e990c6c700a393639ca536e91d9d8f -   127,396 -   ✅\n",
      "register   - 0x8e26d731c54086ae52faf734f331b9ddf3eaa7fd6546924d3132c87ac7f0c6f1 -   127,396 -   ✅\n",
      "register   - 0xb8dd6020969643aa57e36c916259d0fc17924525769fd2ae5121cb3c5e0de89a -   127,396 -   ✅\n",
      "slot       - 0x21a38c4b0f258650e774c5135f5f1f13e7888a5eccbf2d1258ea48aff5379bdb -    51,185 -   ✅\n",
      "slot       - 0x47acecff45fe4294291eecd425e4356ef2434c399219703cd6d90edd2d7b2109 -    51,185 -   ✅\n",
      "slot       - 0xd149c150780f2ef75b6115ec69b0d7d789c6306fe7d0ce8ca31618fb1dd9e1a3 -    51,185 -   ✅\n",
      "slot       - 0x1e9326e9f7fd88b36b87bd122208e52b5a017111a9bd37ddbac8b1548a506f2c -    51,173 -   ✅\n",
      "slot       - 0x1257f81c968a01aee3aa0d680c548713f019e333f24c2649974d4b41c9a8dbc2 -    51,185 -   ✅\n",
      "slot       - 0x9c62575f132d0728000002d7d098d88f584355dafb19d718b4c97a9aa0972d59 -    51,185 -   ✅\n",
      "weights    - 0x3a27df8a24117e7c1e9b8b2ffe816c9465a50dd621b9e69863972b2ca0984aef -    74,971 -   ✅\n",
      "weights    - 0x632fc7af15bd688447968514b605b7c5237cd7e26c6aa69b0d2673dcca762244 -    57,871 -   ✅\n",
      "weights    - 0x064e7835fb3c4779ec61ab18b85eb205ac0efc0963be1e47cd9ed8372673c3c1 -    57,883 -   ✅\n",
      "weights    - 0xa83d6e0952715ccea1dfcb4591f0f0acf1f4932507337dbd3d37c841063769c0 -    57,883 -   ✅\n",
      "weights    - 0x016ea97b8e68b3a03f5064453a2d32bca8ee214e8e9547c307a9e0e89e826853 -    57,883 -   ✅\n",
      "weights    - 0x66d73a05c95e1674c4f21b55b12e5f63e6245eb6f66ebd55a4165fc9f4c21f24 -    57,883 -   ✅\n",
      "feedback   - 0xfd627e28fc786349310d961da970382ef23aa3c982a898a79cecf52375b03ea3 -   405,857 -   ✅\n",
      "feedback   - 0xf11cdeb3ee2a615fe63fa897c4f53f0e6cd7e49101f6ec172f0135c88b811343 -   337,459 -   ✅\n",
      "feedback   - 0xd796f588f5cc0bd3cc5bdbb5c4598e6cca4977f4dd1fcb7ca956c7f378be37ab -   272,625 -   ✅\n",
      "feedback   - 0xfdb5b7d2f1020ffd4f2a47345148d8da94efada965f6893eebca1921cef00e93 -   320,371 -   ✅\n",
      "feedback   - 0xc23c6ea114a89cbefd3ad14bdff26cb4222876917c82bcc0deff9003c539c882 -   296,492 -   ✅\n",
      "feedback   - 0x8c8a8ac5611e58259a63bcef8d94d65c5230b9a2c9ec46e7dadb53624f884f89 -   220,552 -   ✅\n",
      "close      - 0x1da6dd59e36c265d73d6cc6fac355e3d77a20b23f660f22fda2c956e4450a336 -   581,658 -   ✅\n",
      "slot       - 0x5b9ca2ec7f687bd7361d1727f6f1d7972934ce4aa33bdf801e5d173d34b33be6 -    51,185 -   ✅\n",
      "slot       - 0x92e80223244184540355cd4158076a954ae831c6995cf693909125ee4aff7fee -    51,185 -   ✅\n",
      "slot       - 0x55d64256dcf0a59ab33a158b6a9ace62651f59cc67564b4e505f806e7344344a -    51,185 -   ✅\n",
      "slot       - 0x4715282706085804f372cc39cb27c48c2384e5957899b067b007d1c9ee42e9c8 -    51,185 -   ✅\n",
      "slot       - 0x9d14dd0c3e073a8d211d7ed26c51bfebbdd04b3e326d9199ed83df290e8187f0 -    51,185 -   ✅\n",
      "slot       - 0x70d874bde152c9bcf8f791edeb45a4efbba2df427e8d6c32947eedd04f1b5732 -    51,185 -   ✅\n",
      "weights    - 0x016be794a55707103a2b06509f539bdfe318d5128db5546028c42205fbc3936d -    74,971 -   ✅\n",
      "weights    - 0xc33956aa6b6e54bfd1dc4cce81b0804eb587017a0f3e282463f89d5777d2be6a -    57,859 -   ✅\n",
      "weights    - 0x4e5e5624e1b774516482c2a80b1d6904270232964017588b637dc5899a0ad29d -    57,883 -   ✅\n",
      "weights    - 0xb69be7ea8c467d40f902ac1aa5b45f569e8857abc16f34638c7f0f52c35a56a6 -    57,883 -   ✅\n",
      "weights    - 0x3c47c2de4cf68db04bff8feff6c6189f3e0450c8c408f75b48385c92a8821859 -    57,883 -   ✅\n",
      "weights    - 0xae8b38eec457ecafe52253b1f7cc16c4a0d02ded12e313b3d88a553ab9c95fc8 -    57,883 -   ✅\n",
      "feedback   - 0x7f6747bf220899bb1fd2a3476cb247a3d23ff2b6636cbd0b5fb5023969bab715 -   345,785 -   ✅\n",
      "feedback   - 0x5a92b10bc8ae9f155d9c090dd4c1e64510078dbaf7585a320fcb054c12c82700 -   277,387 -   ✅\n",
      "feedback   - 0x515cce203ad8ece5a6d9c340b41a48e878374cc6d86d4d72fc472bd6cb77df58 -   300,087 -   ✅\n",
      "feedback   - 0xffe686f966aef68a0e03723c2f78f99c293be1037fc1fbded3fba9725155ac32 -   260,299 -   ✅\n",
      "feedback   - 0x67d02742a0d9f8e8fed4b09591e8cefdb20725f69eb5387c6c892ebd73fd1aa5 -   280,187 -   ✅\n",
      "feedback   - 0x7b7466c20796f76e40bd2f49ba25dc9e73f4e070ee0d55e72f6d49516e9705b5 -   220,552 -   ✅\n",
      "close      - 0xa861bb33a9f9c76c230f0cf10ff12ba3d72c807d069a6dfa7bc3145d5f4047d4 -   506,971 -   ✅\n",
      "exit       - 0x95933bb12b153913f767dbf9340cd3d99b7f20a936724d3823b953396893e699 -    58,891 -   ✅\n",
      "exit       - 0x33e12ac9981c46675be6edad804a7164c408de061f182cc4b5d92cd3261da2d3 -    58,891 -   ✅\n",
      "exit       - 0x68287621907b50ec85a1848d06d7df4a4dab0a70619fb329460d35c339642ed7 -    58,891 -   ✅\n",
      "exit       - 0x977788dab4a0674f63d652ce38f88baab4cd83347b1d0fb0c9126f6d4445a359 -    58,891 -   ✅\n",
      "exit       - 0x05605519ebc0b092b4e59e46383e320938a63c1b42f6828f8b2a52ff221b7d21 -    58,891 -   ✅\n",
      "exit       - 0xfbdd06d98d08903bb7e16d55af08b30fc877b9a1c9d0cc8854fe832ddcac9594 -    58,891 -   ✅\n"
     ]
    }
   ],
   "execution_count": 11
  },
  {
   "cell_type": "markdown",
   "id": "0eb9e9a8",
   "metadata": {},
   "source": [
    "### Contracts and Paricipants (Latex format)"
   ]
  },
  {
   "cell_type": "code",
   "id": "2cb3eaf4",
   "metadata": {
    "ExecuteTime": {
     "end_time": "2025-10-24T12:57:52.962587Z",
     "start_time": "2025-10-24T12:57:52.940645Z"
    }
   },
   "source": [
    "print(\"\\\\renewcommand{\\\\arraystretch}{1.3}\")\n",
    "print(\"\\\\begin{center}\")\n",
    "print(\"\\\\begin{tabular}{ c|c }\")\n",
    "\n",
    "print(\"\\\\footnotesize{\"+\"Contract} &\"+\" \\\\footnotesize{Address (Ropsten Testnet)} \\\\\\ \")\n",
    "print(\"\\\\hline\")\n",
    "print(\"\\\\footnotesize{\"+\"Ma-1} & \\\\footnotesize{\"+\"{}\".format(manager.manager.address)+\"} \\\\\\ \")\n",
    "print(\"\\\\footnotesize{\"+\"Ch-1} & \\\\footnotesize{\"+\"{}\".format(model.model.address)+\"} \\\\\\ \")\n",
    "for i, p in enumerate(model.pytorch_model.participants[:-1] + \\\n",
    "                           model.pytorch_model.disqualified + \\\n",
    "                           [model.pytorch_model.participants[-1]]):\n",
    "    print(\"\\\\footnotesize{\"+\"P-{}\".format(i+1)+\"}  & \\\\footnotesize{\"+\"{}\".format(p.address)+\"} \\\\\\ \")\n",
    "\n",
    "print(\"\\\\end{tabular}\")\n",
    "print(\"\\\\end{center}\")"
   ],
   "outputs": [
    {
     "name": "stdout",
     "output_type": "stream",
     "text": [
      "\\renewcommand{\\arraystretch}{1.3}\n",
      "\\begin{center}\n",
      "\\begin{tabular}{ c|c }\n",
      "\\footnotesize{Contract} & \\footnotesize{Address (Ropsten Testnet)} \\\\ \n",
      "\\hline\n",
      "\\footnotesize{Ma-1} & \\footnotesize{0xB0351cFE0105bE867ED9E231225282771bC1202A} \\\\ \n",
      "\\footnotesize{Ch-1} & \\footnotesize{0x13292219479699074fAE9651d05c9F852017F509} \\\\ \n",
      "\\footnotesize{P-1}  & \\footnotesize{0x09Ca61C7cb86d8DE76E3E637a8e3CfA481Ecef99} \\\\ \n",
      "\\footnotesize{P-2}  & \\footnotesize{0xe7F50AB14f0fb1E140bbb7f03655dc9C922F5980} \\\\ \n",
      "\\footnotesize{P-3}  & \\footnotesize{0xCe57EAfD18afA405A26BCFa6F2B4fB872A62Dc78} \\\\ \n",
      "\\footnotesize{P-4}  & \\footnotesize{0xC0148dFB7E61c11e84225881723A8bEB45c7002A} \\\\ \n",
      "\\footnotesize{P-5}  & \\footnotesize{0xa46d9Edaac1d2153168Cdf7e525880bC53827109} \\\\ \n",
      "\\footnotesize{P-6}  & \\footnotesize{0xE6d028402A486980cf97375BD9A6C0aBDa5d089c} \\\\ \n",
      "\\end{tabular}\n",
      "\\end{center}\n"
     ]
    }
   ],
   "execution_count": 12
  },
  {
   "cell_type": "markdown",
   "id": "faceea01",
   "metadata": {},
   "source": [
    "### Table with Gas Info (Latex format)"
   ]
  },
  {
   "cell_type": "code",
   "id": "e1508778",
   "metadata": {
    "scrolled": true,
    "ExecuteTime": {
     "end_time": "2025-10-24T12:57:57.194020Z",
     "start_time": "2025-10-24T12:57:57.172046Z"
    }
   },
   "source": [
    "reg = model.gas_register, \"register\"\n",
    "fed = model.gas_feedback, \"feedback\"\n",
    "clo = model.gas_close, \"settle round\"\n",
    "slo = model.gas_slot, \"reserve slot\"\n",
    "wei = model.gas_weights, \"provide weights**\"\n",
    "dep = manager.gas_deploy, \"deployment\"\n",
    "dep = manager.gas_deploy, \"deployment\"\n",
    "ext = model.gas_exit, \"exit\"\n",
    "\n",
    "tot  = 0\n",
    "tot2 = 0\n",
    "\n",
    "print(\"\\\\begin{tabular}{ c|c|c }\\n\\hline\\nFunction & Gas Amount & Gas Costs*\\\\\\ \\n\\hline\")\n",
    "for i, f in [reg,slo,wei,fed,clo]:\n",
    "    print(\"{} & {:,.0f} & {:.5f} ETH \\\\\\ \".format(f, sum(i)/len(i), sum(i)/len(i) * 20e9 / 1e18 ))\n",
    "    tot += sum(i)/len(i)\n",
    "    if i != clo[0]:\n",
    "            tot2 += sum(i)/len(i)\n",
    "        \n",
    "print(\"\\hline\\n\\hline\")\n",
    "print(\"complete round & {:,.0f} & {:.5f} ETH \\\\\\ \".format(tot, tot * 20e9 / 1e18))\n",
    "print(\"\\hline\\n\\end{tabular}\")"
   ],
   "outputs": [
    {
     "name": "stdout",
     "output_type": "stream",
     "text": [
      "\\begin{tabular}{ c|c|c }\n",
      "\\hline\n",
      "Function & Gas Amount & Gas Costs*\\\\ \n",
      "\\hline\n",
      "register & 127,396 & 0.00255 ETH \\\\ \n",
      "reserve slot & 51,184 & 0.00102 ETH \\\\ \n",
      "provide weights** & 60,728 & 0.00121 ETH \\\\ \n",
      "feedback & 294,804 & 0.00590 ETH \\\\ \n",
      "settle round & 544,314 & 0.01089 ETH \\\\ \n",
      "\\hline\n",
      "\\hline\n",
      "complete round & 1,078,427 & 0.02157 ETH \\\\ \n",
      "\\hline\n",
      "\\end{tabular}\n"
     ]
    }
   ],
   "execution_count": 13
  }
 ],
 "metadata": {
  "kernelspec": {
   "display_name": "Python 3 (ipykernel)",
   "language": "python",
   "name": "python3"
  },
  "language_info": {
   "codemirror_mode": {
    "name": "ipython",
    "version": 3
   },
   "file_extension": ".py",
   "mimetype": "text/x-python",
   "name": "python",
   "nbconvert_exporter": "python",
   "pygments_lexer": "ipython3",
   "version": "3.9.13"
  }
 },
 "nbformat": 4,
 "nbformat_minor": 5
}
